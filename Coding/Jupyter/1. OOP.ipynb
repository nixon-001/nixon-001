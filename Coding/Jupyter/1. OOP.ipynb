{
 "cells": [
  {
   "cell_type": "markdown",
   "id": "macro-tobago",
   "metadata": {},
   "source": [
    "### Object Oriented Programming:\n",
    ">- #### OOP is a paradigm(Pattern) that allow us to think and structure our code in a way that is easy to  maintain our code and also be organized at the same time as we write long and huge code. Say, we are programming a delivery drone, we break it into small pieces which relates to real world so that I can write code for its propellers and someone else can write code for camera and GPS and so on. Say, if we try to program a delivery bike we can use the same code for camera and  GPS that we have used for the drone and just write code for wheels. \n",
    ">- #### Everything in python is an object. Objects have methods and arguments which we can access by with a dot( .some_attribute). By using OOP we can create our own datatype with different attributes and methods (A function inside a class is called a method)"
   ]
  },
  {
   "cell_type": "markdown",
   "id": "fresh-installation",
   "metadata": {},
   "source": [
    "A class can be created by using a class keyword i.e class ClassName:   "
   ]
  },
  {
   "cell_type": "code",
   "execution_count": 1,
   "id": "juvenile-short",
   "metadata": {},
   "outputs": [
    {
     "name": "stdout",
     "output_type": "stream",
     "text": [
      "<class '__main__.ClassName'>\n"
     ]
    }
   ],
   "source": [
    "class ClassName:       # Class \n",
    "    pass               # Code\n",
    "object1 = ClassName()  # ()-instantiating a class    object1-an instance or object\n",
    "print(type(object1))   "
   ]
  },
  {
   "cell_type": "markdown",
   "id": "piano-tragedy",
   "metadata": {},
   "source": [
    "In OOP we have an idea of class and object. Class is the blueprint of what we wanna create, what are the basic attributes(Properties) and methods(action) that a class can take. From this blueprint we can create objects. Technically we say a class is instantiated to create an instance of a class i.e an object\n",
    "\n",
    "Lets start our OOP journey with an example. Lets say we are creating a game."
   ]
  },
  {
   "cell_type": "code",
   "execution_count": null,
   "id": "conceptual-garden",
   "metadata": {
    "scrolled": true
   },
   "outputs": [],
   "source": [
    "class PlayerCharacter:    \n",
    "    def __init__(self, charName, charAge):\n",
    "        self.name = charName\n",
    "        self.age = charAge\n",
    "    def run(self):\n",
    "        print('run')\n",
    "    membership = True  #Class object attribute\n",
    "    @classmethod\n",
    "    def shout(cls):\n",
    "        print('shout')\n",
    "        \n",
    "player1 = PlayerCharacter('Nixon',10)     #Instantiating\n",
    "player2 = PlayerCharacter('Reuel',20)\n",
    "\n",
    "print(player1.name)                   # (player1 or 2)  (.name or .age)\n",
    "player1.run()                         # or player2.run()\n",
    "print(PlayerCharacter.membership)     # or print(player1(or 2).membership)\n",
    "PlayerCharacter.shout()               # or player1(or 2).shout()"
   ]
  },
  {
   "cell_type": "markdown",
   "id": "sustained-classification",
   "metadata": {},
   "source": [
    "#### \\_\\_init__ Method:\n",
    ">It is also called a constructor function. Every class contains an **init** method. While we instantiate a class this **init** method gets run first. \n",
    "\n",
    "#### Self keyword:\n",
    ">Self allows us to code dynamically i.e It helps us to have a reference to an object that hasn't been created yet(i.e player1 and player2). So, we can say objName.some_attribute = aVariable so while we print objName.some_attribute, aVariable gets printed out.\n",
    "\n",
    "#### Class Object Attribute:\n",
    ">Some attributes contain __'self.'__ before them. So they are dynamic. But class object attribute is static so when you print objName.classObjAttr, for all objects it just prints the same result.\n",
    "\n",
    "#### @classmethod:\n",
    ">It is similar to the class object attribute but for method i.e unlike other methods it is static and for whatever objName we use, it gives the same output. Here, the cls argument just refers to the class name. And there is also @staticmethod which is pretty similar to @classmethod but it does not take in the cls argument"
   ]
  },
  {
   "cell_type": "markdown",
   "id": "prepared-cabinet",
   "metadata": {},
   "source": [
    "### The 4 Pillars of OOP:\n",
    "1. #### Encapsulation\n",
    "> - Encapsulation in Python is the process of wrapping up variables and methods into a single entity.In programming, a class is an example that wraps all the variables and methods defined inside it.\n",
    "> - In the real world, consider your college as an example. Each and every department's student records are restricted only within the respective department. CSE department faculty cannot access the ECE department student record and so on. Here, the department acts as the class and student records act like variables and methods. \n",
    "> - #### Why Do We Need Encapsulation?\n",
    "> Encapsulation acts as a protective layer by ensuring that, access to wrapped data is not possible by any code defined outside the class in which the wrapped data are defined. Encapsulation provides security by hiding the data from the outside world.\n",
    "\n",
    "2. #### Abstraction\n",
    "> - Abstraction is the process of hiding the real implementation of an application from the user and emphasizing only on usage of it.\n",
    "> -  For example, consider you have bought a new electronic gadget. Along with the gadget, you get a user guide, instructing how to use the application, but this user guide has no info regarding the internal working of the gadget.\n",
    "> - #### Why Do We Need Abstraction?\n",
    "Through the process of abstraction in Python, a programmer can hide all the irrelevant data/process of an application in order to reduce complexity and increase efficiency.\n",
    "\n",
    "3. #### Inheritance\n",
    "> - Inheritance is the capability of one class to derive or inherit the properties from another class.\n",
    "> - The class which inherits all the properties is called a child or derived class. And the class from which the properties are being derived is called parent or base class.\n",
    "> - #### Why Do We Need Inheritance?\n",
    "It represents real-world relationships well.\n",
    "It provides reusability of a code. We don’t have to write the same code again and again. Also, it allows us to add more features to a class without modifying it.\n",
    "It is transitive in nature, which means that if class B inherits from another class A, then all the subclasses of B would automatically inherit from class A.\n",
    "> - #### How do we inherit a class?  Let's see that after the intro.\n",
    "\n",
    "\n",
    "4. #### Polymorphism\n",
    "> - In general, polymorphism refers to the ability of a real-time object to represent itself in many forms.\n",
    "> - Consider yourself as a real-time example. When you are at college, you act as a student. When are at your home, you act like a child. You are a single person, but you represent yourself differently in different places.\n",
    "> - Similarly in the OOPs concept, polymorphism refers to the ability of a method to process objects differently depending on their data type or class.\n",
    "> - #### Why Do We Need Polymorphism?\n",
    "Polymorphism is used in Python programs when you have commonly named methods in two or more classes or subclasses. It allows these methods to use objects of different types at different times. So, it provides flexibility, using which a code can be extended and easily maintained over time."
   ]
  },
  {
   "cell_type": "markdown",
   "id": "described-librarian",
   "metadata": {},
   "source": [
    "Inheriting a class "
   ]
  },
  {
   "cell_type": "code",
   "execution_count": null,
   "id": "emotional-present",
   "metadata": {},
   "outputs": [],
   "source": [
    "class Class1:\n",
    "    def test(self):\n",
    "        return 'Yes'\n",
    "class Class2(Class1):\n",
    "    pass\n",
    "\n",
    "obj1 = Class1()\n",
    "print(obj1.test())\n",
    "    "
   ]
  },
  {
   "cell_type": "markdown",
   "id": "tutorial-bonus",
   "metadata": {},
   "source": [
    "#### Fun fact: \n",
    ">In python every class we create will inherit a main class called as 'object'. Have you ever noticed that when we instantiate a class and then we type 'objName.', we will get some suggestions(some dunder methods) that we haven't yet created. Those methods are the methods that we have inherited from the 'object' class. Wondering what is dunder method...haha"
   ]
  },
  {
   "cell_type": "markdown",
   "id": "married-darkness",
   "metadata": {},
   "source": [
    "#### Dunder (or) Magic Methods: \n",
    ">- Dunder or magic methods in Python are the methods having two prefix and suffix underscores in the method name. Dunder here means “Double Under (Underscores)”. These  are commonly used for operator overloading. Few examples for magic methods are:  \\_\\_init__ , \\_\\_add__ , \\_\\_len__ , \\_\\_repr__ etc.\n",
    ">- We can customize these dunder methods to our own needs. How could we do that? Just by creating a method using the name of the dunder methods just as we did with the \\_\\_init__ method. Customizing them also gives us an advantage of using it also as a function .We would have come across the 'len' function for strings. It is just a \\_\\_len__ method that the python developers added in the class str and modified it such that it showed the length of the string. Similarly while we are creating a class we can alse use these dunder methods to our advantage."
   ]
  },
  {
   "cell_type": "markdown",
   "id": "thick-stanley",
   "metadata": {},
   "source": [
    "#### Tips: \n",
    "> \\_\\_call__ is a special dunder method(not actually) that we can modify in our class. Say if we have modified it to print 'hi'. Then when we instantiate that class and execute objName() just as we call a function, we would get the output as 'hi'"
   ]
  },
  {
   "cell_type": "code",
   "execution_count": null,
   "id": "german-scientist",
   "metadata": {},
   "outputs": [],
   "source": []
  }
 ],
 "metadata": {
  "kernelspec": {
   "display_name": "Python 3 (ipykernel)",
   "language": "python",
   "name": "python3"
  },
  "language_info": {
   "codemirror_mode": {
    "name": "ipython",
    "version": 3
   },
   "file_extension": ".py",
   "mimetype": "text/x-python",
   "name": "python",
   "nbconvert_exporter": "python",
   "pygments_lexer": "ipython3",
   "version": "3.9.9"
  }
 },
 "nbformat": 4,
 "nbformat_minor": 5
}
