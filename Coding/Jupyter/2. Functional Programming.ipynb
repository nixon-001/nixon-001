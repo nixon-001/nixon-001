{
 "cells": [
  {
   "cell_type": "markdown",
   "id": "boolean-basis",
   "metadata": {},
   "source": [
    "### Functional Praogramming: \n",
    "#### Functional programming is a programming paradigm in which we try to bind everything in pure mathematical functions style. It is a declarative type of programming style. Its main focus is on “what to solve” in contrast to an imperative style where the main focus is “how to solve“. It uses expressions instead of statements. An expression is evaluated to produce a value whereas a statement is executed to assign variables.\n",
    "#### Pure Variables:\n",
    "- There are 2 rules for a function to be pure:\n",
    "    1. When given the same input, it always gives same output.\n",
    "    2. It should not affect the outer world i.e say when print someting inside a function, it affects the outside world so instead we should return the value and print it outside a function.\n",
    "- When we have pure functions, we will have les buggy code\n",
    "- Pure functions is more of a guideline than an rule. It is impossible to have pure functions everywhere because if the function could not interact with the outside world we wouldn't be able to display and save things. Functional programming teaches us to use it whenever possible but not everywhere.\n"
   ]
  },
  {
   "cell_type": "markdown",
   "id": "modern-compiler",
   "metadata": {},
   "source": [
    "#### Some useful functions:\n",
    "   - #### map():\n",
    "        - map() function returns a map object(which is an iterator) of the results after applying the given function to each item of a given iterable (list, tuple etc.)\n",
    "        - Lets say we want the map function to multiply all the elements in the list we pass to it and return them in list form itself.\n",
    "        - In the map function there are two arguments. The first one is the action i.e the function and the second one is the iterable that we take action on.\n",
    "        - While we use map, it creates an object a random location in our machine so we are converting it into a list and printing it to get a desired output.\n",
    "        - map function also acknowledges the idea of pure function i.e it doesn't modify the variable 'list1' itself but just creates a new object and stores the results.\n",
    "         ```python\n",
    "    list1 = [1,2,3]\n",
    "def twice(item):\n",
    "    return item*2\n",
    "print(list(map(twice, list1)))\n",
    "```"
   ]
  },
  {
   "cell_type": "code",
   "execution_count": null,
   "id": "inclusive-assembly",
   "metadata": {},
   "outputs": [],
   "source": []
  },
  {
   "cell_type": "markdown",
   "id": "marked-recognition",
   "metadata": {},
   "source": [
    "   - #### filter():\n",
    "        - As the name suggests, when we use filter() we are just filtering our results. Now lets see how we can use the filter function to shrink our code.\n",
    "        - In this function too there are two arguments. The first one is the action i.e the function and the second one is the iterable that we take action on.\n",
    "         ```python\n",
    "list1 = [1,2,3,4,5]\n",
    "def onlyOdd(item):\n",
    "    return item%2 != 0\n",
    "print(list(filter(onlyOdd,list1)))\n",
    "```"
   ]
  },
  {
   "cell_type": "code",
   "execution_count": null,
   "id": "collectible-entity",
   "metadata": {},
   "outputs": [],
   "source": []
  },
  {
   "cell_type": "markdown",
   "id": "statutory-oliver",
   "metadata": {},
   "source": [
    "   - #### zip():\n",
    "        - The zip function zips two or more iterables togeather.Pretty self explanatory right. An example makes it much more clear so lets see one.\n",
    "        - In the below example the zip function puts togeather the respective elements of the two iterables passed to it into a list of tuples.\n",
    "        ```python\n",
    "list1 = [1,2,3,4]\n",
    "list2 = [5,6,7,8]\n",
    "print(list(zip(list1, list2)))\n",
    "```"
   ]
  },
  {
   "cell_type": "code",
   "execution_count": null,
   "id": "thrown-runner",
   "metadata": {},
   "outputs": [],
   "source": []
  },
  {
   "cell_type": "markdown",
   "id": "ceramic-cradle",
   "metadata": {},
   "source": [
    "   - #### reduce():\n",
    "        - Reduce doesn't come as a part of python built in functions. For us to use reduce we should import reduce from functools\n",
    "        - It takes 3 parameters. The first one is the function and the second one is a sequence and the third is an initial value that defaults to zero if we leave it empty\n",
    "        - Before that we should create a function that takes 2 parameters. The first one is the accumulator that gets its value from the third parameter in the reduce function and the second one is the item from the iterable we are using. If we dont pass an initial value in the reduce function, the accumulator will be initially zero. After the first iteration the accumulator takes the value of what we return in the accum function below. When the iteration through the whole list is finished, the reduce function will return the value which the accum function returns.\n",
    "         ```python\n",
    "from functools import reduce\n",
    "list1 = [1,2,3,4]\n",
    "def accum(acc, item):\n",
    "    print(acc, item)   # This line is just to see what we are doing \n",
    "    return acc + item\n",
    "print(reduce(accum, list1)) \n",
    "```"
   ]
  },
  {
   "cell_type": "code",
   "execution_count": null,
   "id": "material-wagner",
   "metadata": {},
   "outputs": [],
   "source": []
  },
  {
   "cell_type": "markdown",
   "id": "demonstrated-indonesia",
   "metadata": {},
   "source": [
    "**NOTE**: All the functions mentioned above also acknowledges the idea of pure function i.e it doesn't modify the variable itself but just creates a new object and stores the results in it."
   ]
  },
  {
   "cell_type": "markdown",
   "id": "abroad-clothing",
   "metadata": {},
   "source": [
    "#### Lambda expressions:\n",
    "- In Python, an anonymous function means that a function is without a name. As we already know that the def keyword is used to define a normal function in Python. Similarly, the lambda keyword is used to define an anonymous function in Python. It has the following syntax: \n",
    "```python\n",
    "lambda parameters: expression(the content of the function)\n",
    "```\n",
    "- Where are they used? Say, now we are using the filter function, instead of defining a function that returns a boolean value and passing the function to it, we can directly pass a lambda function to the filter function."
   ]
  },
  {
   "cell_type": "markdown",
   "id": "contrary-creativity",
   "metadata": {},
   "source": [
    "#### Comprension:\n",
    "- #### List comprehension:\n",
    "     - One of the most distinctive aspects of the language is the python list and the list compression feature, which one can use within a single line of code to construct powerful functionality.\n",
    "\n",
    "     - List comprehensions are used for creating new lists from other iterables like tuples, strings, arrays, lists, etc.\n",
    "     - The syntax of the list comprehension is as follows\n",
    "     ```python\n",
    "          list1 = [logic for parameter in iterable if condition]\n",
    "      ```\n",
    "     - Lets create a list using comprehension which contains the odd numbers in range 1 - 100 multiplied by 2\n",
    "     ```python\n",
    "          list1 = [i*2 for i in range(101) if i%2 != 0]\n",
    "      ```\n",
    "- #### Set comprehension:\n",
    "     - Set comprehensions are pretty similar to list comprehensions. The only difference between them is that set comprehensions use curly brackets { }. \n",
    "     - As we all know we cant have repeated value in sets.\n",
    "     - Let’s look at the following example to understand set comprehensions.\n",
    "     ```python\n",
    "list1 = [1, 2, 3, 4, 4, 5, 6, 7, 7]\n",
    "list2 = (var for var in list1 if var % 2 == 0)\n",
    "print(list2)\n",
    "```\n",
    "     \n",
    "- #### Dictionary comprehension:\n",
    "     - Like List Comprehension, Python allows dictionary comprehensions. We can create dictionaries using simple expressions.\n",
    "     - A dictionary comprehension takes the form \n",
    "     ```python\n",
    "        {key: value for (key, value) in iterable}\n",
    "    ```\n",
    "\n",
    "     - Let’s see a example. Lets multiply the values in the dictionary by 2.\n",
    "     ```python\n",
    "    myDict = {'a':1, 'b':2, 'c':3, 'd':4}\n",
    "    newDict = {k:v*2 for k,v in myDict.items()}\n",
    "    print(newDict)\n"
   ]
  },
  {
   "cell_type": "markdown",
   "id": "atlantic-rugby",
   "metadata": {},
   "source": [
    "#### Fun lil exercise:\n",
    "- We just need to create a list which contains the duplicate elements in the list that we give \n"
   ]
  },
  {
   "cell_type": "code",
   "execution_count": 2,
   "id": "separated-project",
   "metadata": {},
   "outputs": [
    {
     "name": "stdout",
     "output_type": "stream",
     "text": [
      "[1, 2]\n"
     ]
    }
   ],
   "source": [
    "list1 = [1,2,3,4,1,2]\n",
    "duplicates = {i for i in list1 if list1.count(i)>1 }\n",
    "print(list(duplicates))"
   ]
  },
  {
   "cell_type": "code",
   "execution_count": null,
   "id": "indie-journey",
   "metadata": {},
   "outputs": [],
   "source": []
  }
 ],
 "metadata": {
  "kernelspec": {
   "display_name": "Python 3 (ipykernel)",
   "language": "python",
   "name": "python3"
  },
  "language_info": {
   "codemirror_mode": {
    "name": "ipython",
    "version": 3
   },
   "file_extension": ".py",
   "mimetype": "text/x-python",
   "name": "python",
   "nbconvert_exporter": "python",
   "pygments_lexer": "ipython3",
   "version": "3.9.2"
  }
 },
 "nbformat": 4,
 "nbformat_minor": 5
}
