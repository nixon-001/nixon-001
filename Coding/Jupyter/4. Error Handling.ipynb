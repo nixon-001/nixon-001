{
 "cells": [
  {
   "cell_type": "markdown",
   "id": "independent-slovak",
   "metadata": {},
   "source": [
    "### Python Exception Handling:\n",
    "- Error in Python can be of two types i.e. Syntax errors and Exceptions. Errors are the problems in a program due to which the program will stop the execution. On the other hand, exceptions are raised when some internal events occur which changes the normal flow of the program. \n",
    "    - **Syntax Error**: As the name suggests this error is caused by the wrong syntax in the code. It leads to the termination of the program.\n",
    "    - **Exceptions**: Exceptions are raised when the program is syntactically correct, but the code resulted in an error. This error does not stop the execution of the program, however, it changes the normal flow of the program. \n",
    "\n",
    "#### Exception Handling:\n",
    "- When an error occurs, or exception as we call it, Python will normally stop and generate an error message. These exceptions can be handled using the try statement.\n",
    "- Lets understand it through an example\n",
    "```python\n",
    "try:\n",
    "      print(x)\n",
    "except:\n",
    "      print(\"An exception occurred\")\n",
    "```\n",
    "The try block will generate an exception, because x is not defined. Since the try block raises an error, the except block will be executed. Without the try block, the program will crash and raise an error.\n",
    "\n",
    "- Lets see another example\n",
    "```python\n",
    "while True:\n",
    "    try:\n",
    "        age = int(input('Enter your age: '))\n",
    "        100/age\n",
    "    except ValueError:\n",
    "        print('Enter a valid information')\n",
    "    except ZeroDivisionError:\n",
    "        print('You are probably not zero')\n",
    "    else:\n",
    "        print('Thank you!')\n",
    "        break\n",
    "    finally:\n",
    "        print('This line is due to finally')\n",
    "```\n",
    "- #### Analysis:\n",
    "    - We want to run the code until the user gives a correct input, so we are using while loop to do that.\n",
    "    - The main logic is in the try block and we are getting an integer as an input. \n",
    "    - Now if we give input as abcde, it would give an output saying that 'Enter a valid information'. We don't want the user to be 0 yr old right, so we are including some number/ input in try block. Now if we give the input as 0, it would give an output saying that 'You are probably not zero'. \n",
    "    - We are having the else block with break in it to break out of the while loop as soon as we enter correct information. \n",
    "    - Finally is a special block because the code in it gets executed irrelevent of the input we give. Either we give a valid or an invalid input, it gets executed. Even though if we have the break statement in the else block which is above it, 'finally' gets executed and then, it breaks out of the loop. "
   ]
  },
  {
   "cell_type": "code",
   "execution_count": null,
   "id": "timely-picture",
   "metadata": {},
   "outputs": [],
   "source": []
  }
 ],
 "metadata": {
  "kernelspec": {
   "display_name": "Python 3 (ipykernel)",
   "language": "python",
   "name": "python3"
  },
  "language_info": {
   "codemirror_mode": {
    "name": "ipython",
    "version": 3
   },
   "file_extension": ".py",
   "mimetype": "text/x-python",
   "name": "python",
   "nbconvert_exporter": "python",
   "pygments_lexer": "ipython3",
   "version": "3.9.2"
  }
 },
 "nbformat": 4,
 "nbformat_minor": 5
}
