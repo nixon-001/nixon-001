{
 "cells": [
  {
   "cell_type": "markdown",
   "id": "dirty-wilderness",
   "metadata": {},
   "source": [
    "#### Iterators: \n",
    "- Iterator in python is an object that is used to iterate over iterable objects like lists, tuples, dicts, and sets. The iterator object is initialized using the iter() method. It uses the next() method for iteration.\n",
    "    - \\_\\_iter(iterable)\\_\\_ method that is called for the initialization of an iterator. This returns an iterator object\n",
    "    - \\_\\_next()\\_\\_ method returns the next value for the iterable. When we use a for loop to traverse any iterable object, internally it uses the iter() method to get an iterator object which further uses next() method to iterate over. This method raises a StopIteration to signal the end of the iteration.\n",
    "\n",
    "#### Yield statement:\n",
    "- The yield statement suspends function’s execution and sends a value back to the caller, but retains enough state to enable function to resume where it is left off. When resumed, the function continues execution immediately after the last yield run. This allows its code to produce a series of values over time, rather than computing them at once and sending them back like a list.\n",
    "- Return sends a specified value back to its caller whereas Yield can produce a sequence of values. We should use yield when we want to iterate over a sequence, but don’t want to store the entire sequence in memory.\n",
    "- Yield are used in Python generators. A generator function is defined like a normal function, but whenever it needs to generate a value, it does so with the yield keyword rather than return. If the body of a def contains yield, the function automatically becomes a generator function.\n",
    "\n",
    "#### Generator-Function : \n",
    "- A generator-function is defined like a normal function, but whenever it needs to generate a value, it does so with the yield keyword rather than return. If the body of a def contains yield, the function automatically becomes a generator function.\n",
    "\n",
    "#### Generator-Object : \n",
    "- Generator functions return a generator object. Generator objects are used either by calling the next method on the generator object or using the generator object in a “for in” loop (as shown in the above program). So a generator function returns an generator object that is iterable, i.e., can be used as an Iterators .\n",
    "\n",
    "- **An Example:** \n",
    "```python\n",
    "def genFunc(num):\n",
    "    for i in range(num):\n",
    "        yield i \n",
    "gen = genFunc(100)\n",
    "print(next(gen))\n",
    "print(next(gen))\n",
    "print(next(gen))\n",
    "```\n",
    "\n",
    "    - Now lets analyse what's going on. \n",
    "    - First we define a function **genFunc** which ends with yield statement. So, it becomes a generator. \n",
    "    - Then we are creating an an object **gen** which calls the generator function. \n",
    "    - As we have used the yield statement, the program pauses after yielding the value until we give the command to continue. \n",
    "    - For that we are using the **next** keyword. When we run **next(gen)**, the generator functio yields 0. We use print(next(gen)) to print it to the screen. When we run it again, it returns 1 and so on...  \n",
    "    \n",
    "    "
   ]
  },
  {
   "cell_type": "code",
   "execution_count": null,
   "id": "willing-athletics",
   "metadata": {},
   "outputs": [],
   "source": []
  }
 ],
 "metadata": {
  "kernelspec": {
   "display_name": "Python 3 (ipykernel)",
   "language": "python",
   "name": "python3"
  },
  "language_info": {
   "codemirror_mode": {
    "name": "ipython",
    "version": 3
   },
   "file_extension": ".py",
   "mimetype": "text/x-python",
   "name": "python",
   "nbconvert_exporter": "python",
   "pygments_lexer": "ipython3",
   "version": "3.9.2"
  }
 },
 "nbformat": 4,
 "nbformat_minor": 5
}
