{
 "cells": [
  {
   "cell_type": "markdown",
   "metadata": {},
   "source": [
    "There are several methods to search matches : finditer, match, search, findall"
   ]
  },
  {
   "cell_type": "code",
   "execution_count": 3,
   "metadata": {},
   "outputs": [
    {
     "name": "stdout",
     "output_type": "stream",
     "text": [
      "<re.Match object; span=(3, 6), match='abc'>\n",
      "<re.Match object; span=(15, 18), match='abc'>\n"
     ]
    }
   ],
   "source": [
    "# Method 1 : Giving the pattern directly to finditer\n",
    "import re \n",
    "test = '117abciujoi8987abc7465'\n",
    "match = re.finditer(r'abc',test)\n",
    "for i in match:\n",
    "    print(i)"
   ]
  },
  {
   "cell_type": "code",
   "execution_count": 3,
   "metadata": {},
   "outputs": [
    {
     "name": "stdout",
     "output_type": "stream",
     "text": [
      "abc\n",
      "abc\n"
     ]
    }
   ],
   "source": [
    "# Method 2 : Findall\n",
    "import re \n",
    "test = '117abciujoi8987abc7465'\n",
    "match = re.findall(r'abc',test)\n",
    "for i in match:\n",
    "    print(i)"
   ]
  },
  {
   "cell_type": "code",
   "execution_count": 5,
   "metadata": {},
   "outputs": [
    {
     "name": "stdout",
     "output_type": "stream",
     "text": [
      "None\n"
     ]
    }
   ],
   "source": [
    "# Method 3 : Match\n",
    "import re \n",
    "test = '117abciujoi8987abc7465'\n",
    "match = re.match(r'abc',test)\n",
    "print(match)   # Searches for abc on the beginning of the test string"
   ]
  },
  {
   "cell_type": "code",
   "execution_count": 6,
   "metadata": {},
   "outputs": [
    {
     "name": "stdout",
     "output_type": "stream",
     "text": [
      "<re.Match object; span=(3, 6), match='abc'>\n"
     ]
    }
   ],
   "source": [
    "# Method 4 : Search\n",
    "import re \n",
    "test = '117abciujoi8987abc7465'\n",
    "match = re.search(r'abc',test)\n",
    "print(match)    # Returns the first location of the pattern"
   ]
  },
  {
   "cell_type": "code",
   "execution_count": 14,
   "metadata": {},
   "outputs": [
    {
     "name": "stdout",
     "output_type": "stream",
     "text": [
      "<re.Match object; span=(3, 6), match='abc'>\n",
      "<re.Match object; span=(15, 18), match='abc'>\n"
     ]
    }
   ],
   "source": [
    "# Method 5 : Explicitly compiling the pattern and most commonly used\n",
    "import re \n",
    "test = '117abciujoi8987abc7465'\n",
    "pattern = re.compile(r'abc')\n",
    "matches = pattern.finditer(test)\n",
    "for  match in matches:\n",
    "    print(match)"
   ]
  },
  {
   "cell_type": "markdown",
   "metadata": {},
   "source": [
    "There are 4 different methods we can use on the match object above : group, start, end, span"
   ]
  },
  {
   "cell_type": "code",
   "execution_count": 13,
   "metadata": {},
   "outputs": [
    {
     "name": "stdout",
     "output_type": "stream",
     "text": [
      "(3, 6) 3 6 abc\n",
      "(15, 18) 15 18 abc\n"
     ]
    }
   ],
   "source": [
    "import re \n",
    "test = '117abciujoi8987abc7465'\n",
    "pattern = re.compile(r'abc')\n",
    "matches = pattern.finditer(test)\n",
    "for  match in matches:\n",
    "    print(match.span(),match.start(),match.end(),match.group())"
   ]
  },
  {
   "cell_type": "markdown",
   "metadata": {},
   "source": [
    "### Metacharacters:\n",
    "All meta characters: . ^ $ * + ? { } [ ] \\ | ( )\n",
    "Meta characters need need to be escaped (with ) if we actually want to search for the character.\n",
    "\n",
    "- **.** Any character (except newline character) \"he..o\"<br>\n",
    "- **^**  Starts with \"^hello\"<br>\n",
    "- **\\$**  Ends with \"world$\"<br>\n",
    "- **\\***  Zero or more occurrences \"aix*\"<br>\n",
    "- **\\+**  One or more occurrences \"aix+\"<br>\n",
    "- **{ }**  Exactly the specified number of occurrences \"al{2}\"<br>\n",
    "- **[]** A set of characters \"[a-m]\"<br>\n",
    "- **\\\\** Signals a special sequence (can also be used to escape special characters) \"\\d\"<br>\n",
    "- **|** Either or \"falls|stays\"<br>\n",
    "- **( )** Capture and group<br>\n"
   ]
  },
  {
   "cell_type": "code",
   "execution_count": 19,
   "metadata": {},
   "outputs": [
    {
     "name": "stdout",
     "output_type": "stream",
     "text": [
      "<re.Match object; span=(0, 1), match='1'>\n",
      "<re.Match object; span=(1, 2), match='1'>\n",
      "<re.Match object; span=(2, 3), match='7'>\n"
     ]
    }
   ],
   "source": [
    "import re \n",
    "test = '117'\n",
    "pattern = re.compile('.')\n",
    "matches = pattern.finditer(test)\n",
    "for  match in matches:\n",
    "    print(match)"
   ]
  },
  {
   "cell_type": "code",
   "execution_count": 16,
   "metadata": {},
   "outputs": [
    {
     "name": "stdout",
     "output_type": "stream",
     "text": [
      "<re.Match object; span=(0, 3), match='117'>\n"
     ]
    }
   ],
   "source": [
    "import re \n",
    "test = '117abciujoi8987abc7465'\n",
    "pattern = re.compile('^117')\n",
    "matches = pattern.finditer(test)\n",
    "for  match in matches:\n",
    "    print(match)"
   ]
  },
  {
   "cell_type": "code",
   "execution_count": 18,
   "metadata": {},
   "outputs": [
    {
     "name": "stdout",
     "output_type": "stream",
     "text": [
      "<re.Match object; span=(18, 22), match='7465'>\n"
     ]
    }
   ],
   "source": [
    "import re \n",
    "test = '117abciujoi8987abc7465'\n",
    "pattern = re.compile('7465$')\n",
    "matches = pattern.finditer(test)\n",
    "for  match in matches:\n",
    "    print(match)"
   ]
  },
  {
   "cell_type": "markdown",
   "metadata": {},
   "source": [
    "### More Metacharacters / Special Sequences<br>\n",
    "A special sequence is a \\ followed by one of the characters in the list below, and has a special meaning:\n",
    "\n",
    "- \\d :Matches any decimal digit; this is equivalent to the class [0-9].\n",
    "- \\D : Matches any non-digit character; this is equivalent to the class [^0-9].\n",
    "- \\s : Matches any whitespace character;\n",
    "- \\S : Matches any non-whitespace character;\n",
    "- \\w : Matches any alphanumeric (word) character; this is equivalent to the class [a-zA-Z0-9_].\n",
    "- \\W : Matches any non-alphanumeric character; this is equivalent to the class [^a-zA-Z0-9_].\n",
    "- \\b Returns a match where the specified characters are at the beginning or at the end of a word r\"\\bain\" r\"ain\\b\"\n",
    "- \\B Returns a match where the specified characters are present, but NOT at the beginning (or at the end) of a word r\"\\Bain\" r\"ain\\B\"\n",
    "- \\A Returns a match if the specified characters are at the beginning of the string \"\\AThe\"\n",
    "- \\Z Returns a match if the specified characters are at the end of the string \"Spain\\Z\"<br>\n",
    "\n",
    "Here we can find a pattern. All the capital letters are the exact opposite of the small ones."
   ]
  },
  {
   "cell_type": "code",
   "execution_count": 23,
   "metadata": {},
   "outputs": [
    {
     "name": "stdout",
     "output_type": "stream",
     "text": [
      "<re.Match object; span=(0, 1), match='1'>\n",
      "<re.Match object; span=(1, 2), match='7'>\n",
      "<re.Match object; span=(5, 6), match='7'>\n",
      "<re.Match object; span=(8, 9), match='5'>\n"
     ]
    }
   ],
   "source": [
    "import re \n",
    "test = '17soi7ab5'\n",
    "pattern = re.compile('\\d')\n",
    "matches = pattern.finditer(test)\n",
    "for  match in matches:\n",
    "    print(match)"
   ]
  },
  {
   "cell_type": "code",
   "execution_count": 24,
   "metadata": {},
   "outputs": [
    {
     "name": "stdout",
     "output_type": "stream",
     "text": [
      "<re.Match object; span=(2, 3), match='s'>\n",
      "<re.Match object; span=(3, 4), match='o'>\n",
      "<re.Match object; span=(4, 5), match='i'>\n",
      "<re.Match object; span=(6, 7), match='a'>\n",
      "<re.Match object; span=(7, 8), match='b'>\n"
     ]
    }
   ],
   "source": [
    "import re \n",
    "test = '17soi7ab5'\n",
    "pattern = re.compile('\\D')\n",
    "matches = pattern.finditer(test)\n",
    "for  match in matches:\n",
    "    print(match)"
   ]
  },
  {
   "cell_type": "markdown",
   "metadata": {},
   "source": [
    "### Sets in regex:<br>\n",
    "We can use a set of characters to define a pattern in regex."
   ]
  },
  {
   "cell_type": "code",
   "execution_count": 26,
   "metadata": {},
   "outputs": [
    {
     "name": "stdout",
     "output_type": "stream",
     "text": [
      "<re.Match object; span=(1, 2), match='7'>\n",
      "<re.Match object; span=(2, 3), match='s'>\n",
      "<re.Match object; span=(5, 6), match='7'>\n",
      "<re.Match object; span=(6, 7), match='a'>\n"
     ]
    }
   ],
   "source": [
    "import re \n",
    "test = '17soi7ab5'\n",
    "pattern = re.compile('[7sa]')\n",
    "matches = pattern.finditer(test)\n",
    "for  match in matches:\n",
    "    print(match)"
   ]
  },
  {
   "cell_type": "code",
   "execution_count": 42,
   "metadata": {},
   "outputs": [
    {
     "name": "stdout",
     "output_type": "stream",
     "text": [
      "<re.Match object; span=(0, 1), match='1'>\n",
      "<re.Match object; span=(6, 7), match='a'>\n",
      "<re.Match object; span=(7, 8), match='b'>\n",
      "<re.Match object; span=(8, 9), match='5'>\n"
     ]
    }
   ],
   "source": [
    "import re \n",
    "test = '17soi7ab5'\n",
    "pattern = re.compile('[1-5a-d]')  #using ranges inside a set and it is case sensitive\n",
    "matches = pattern.finditer(test)\n",
    "for  match in matches:\n",
    "    print(match)"
   ]
  },
  {
   "cell_type": "markdown",
   "metadata": {},
   "source": [
    "### Quantifiers:\n",
    "- \\* - 0 or more\n",
    "- \\+ - one or more\n",
    "- ? - 0 or 1 (Either or)\n",
    "- { } - Exact number\n",
    "- {1,100} - range (min,max)"
   ]
  },
  {
   "cell_type": "code",
   "execution_count": 44,
   "metadata": {},
   "outputs": [
    {
     "name": "stdout",
     "output_type": "stream",
     "text": [
      "<re.Match object; span=(0, 2), match='17'>\n",
      "<re.Match object; span=(2, 2), match=''>\n",
      "<re.Match object; span=(3, 3), match=''>\n",
      "<re.Match object; span=(4, 4), match=''>\n",
      "<re.Match object; span=(5, 6), match='7'>\n",
      "<re.Match object; span=(6, 7), match='a'>\n",
      "<re.Match object; span=(7, 9), match='b5'>\n",
      "<re.Match object; span=(9, 9), match=''>\n"
     ]
    }
   ],
   "source": [
    "import re \n",
    "test = '17soi7ab5'\n",
    "pattern = re.compile('[a-d]?\\d*')  #\n",
    "matches = pattern.finditer(test)\n",
    "for  match in matches:\n",
    "    print(match)"
   ]
  },
  {
   "cell_type": "code",
   "execution_count": 49,
   "metadata": {},
   "outputs": [
    {
     "name": "stdout",
     "output_type": "stream",
     "text": [
      "<re.Match object; span=(1, 7), match='Mr Sri'>\n",
      "<re.Match object; span=(8, 16), match='Ms Sriya'>\n",
      "<re.Match object; span=(17, 24), match='Mrs Sri'>\n",
      "<re.Match object; span=(25, 31), match='Mr.Sri'>\n",
      "<re.Match object; span=(32, 41), match='Ms. Sriya'>\n"
     ]
    }
   ],
   "source": [
    "import re \n",
    "names = '''\n",
    "hi \n",
    "hello\n",
    "1232\n",
    "Mr Sri\n",
    "Ms Sriya\n",
    "Mrs Sri\n",
    "Mr.Sri\n",
    "Ms. Sriya\n",
    "'''\n",
    "pattern = re.compile('Ms*r*s*[.\\s]+\\w+') # Ms*r*s* = (Mr|Ms|Mrs)\n",
    "matches = pattern.finditer(names)\n",
    "for  match in matches:\n",
    "    print(match)"
   ]
  },
  {
   "cell_type": "code",
   "execution_count": 75,
   "metadata": {},
   "outputs": [
    {
     "name": "stdout",
     "output_type": "stream",
     "text": [
      "<re.Match object; span=(16, 34), match='sriya111@gmail.com'>\n",
      "<re.Match object; span=(35, 54), match='sriya2004@gmail.com'>\n",
      "<re.Match object; span=(55, 73), match='msriya@yahoo.co.uk'>\n",
      "<re.Match object; span=(74, 92), match='sriya_44@yahoo.com'>\n"
     ]
    }
   ],
   "source": [
    "import re \n",
    "emails = '''\n",
    "hi \n",
    "hello\n",
    "1232\n",
    "sriya111@gmail.com\n",
    "sriya2004@gmail.com\n",
    "msriya@yahoo.co.uk\n",
    "sriya_44@yahoo.com\n",
    "'''\n",
    "pattern = re.compile('\\w+@\\w+\\.(com|co\\.uk|org)') \n",
    "matches = pattern.finditer(emails)\n",
    "for  match in matches:\n",
    "    print(match)"
   ]
  },
  {
   "cell_type": "markdown",
   "metadata": {},
   "source": [
    "We can further use the group method to get specific informations by doing some changes in the above code"
   ]
  },
  {
   "cell_type": "code",
   "execution_count": 74,
   "metadata": {},
   "outputs": [
    {
     "name": "stdout",
     "output_type": "stream",
     "text": [
      "name is sriya111\n",
      "domain name is gmail\n",
      "ending is com\n",
      "name is sriya2004\n",
      "domain name is gmail\n",
      "ending is com\n",
      "name is msriya\n",
      "domain name is yahoo\n",
      "ending is co.uk\n",
      "name is sriya_44\n",
      "domain name is yahoo\n",
      "ending is com\n"
     ]
    }
   ],
   "source": [
    "import re \n",
    "emails = '''\n",
    "hi \n",
    "hello\n",
    "1232\n",
    "sriya111@gmail.com\n",
    "sriya2004@gmail.com\n",
    "msriya@yahoo.co.uk\n",
    "sriya_44@yahoo.com\n",
    "'''\n",
    "pattern = re.compile('(\\w+)@(\\w+)\\.(com|co\\.uk|org)') \n",
    "matches = pattern.finditer(emails)\n",
    "for  match in matches:\n",
    "    print(f'name is {match.group(1)}')\n",
    "    print(f'domain name is {match.group(2)}')\n",
    "    print(f'ending is {match.group(3)}')"
   ]
  },
  {
   "cell_type": "markdown",
   "metadata": {},
   "source": [
    "### Modifying strings in regex:\n",
    "There are two methods of modifying a string with regex. They are split and sub"
   ]
  },
  {
   "cell_type": "code",
   "execution_count": 71,
   "metadata": {},
   "outputs": [
    {
     "name": "stdout",
     "output_type": "stream",
     "text": [
      "['123', '456', '123ABC']\n",
      "<re.Match object; span=(3, 6), match='abc'>\n",
      "<re.Match object; span=(9, 12), match='abc'>\n"
     ]
    }
   ],
   "source": [
    "import re \n",
    "test = '123abc456abc123ABC'\n",
    "pattern = re.compile('abc')\n",
    "splitted = pattern.split(test)\n",
    "print(splitted)"
   ]
  },
  {
   "cell_type": "code",
   "execution_count": 73,
   "metadata": {},
   "outputs": [
    {
     "name": "stdout",
     "output_type": "stream",
     "text": [
      "Hello Sriya\n"
     ]
    }
   ],
   "source": [
    "import re \n",
    "test = 'Hello World'\n",
    "pattern = re.compile('World')\n",
    "substituted = pattern.sub('Sriya',test)\n",
    "print(substituted)"
   ]
  },
  {
   "cell_type": "markdown",
   "metadata": {},
   "source": [
    "Final example"
   ]
  },
  {
   "cell_type": "code",
   "execution_count": 87,
   "metadata": {},
   "outputs": [
    {
     "name": "stdout",
     "output_type": "stream",
     "text": [
      "<re.Match object; span=(16, 32), match='http://sriya.com'>\n",
      "<re.Match object; span=(33, 52), match='https://m-sriya.com'>\n",
      "<re.Match object; span=(53, 70), match='http://msriya.org'>\n",
      "<re.Match object; span=(71, 89), match='https://google.com'>\n"
     ]
    }
   ],
   "source": [
    "import re \n",
    "url = '''\n",
    "hi \n",
    "hello\n",
    "1232\n",
    "http://sriya.com\n",
    "https://m-sriya.com\n",
    "http://msriya.org\n",
    "https://google.com\n",
    "'''\n",
    "pattern = re.compile('https*://[0-9a-zA-Z-_]+\\.[a-z]+') \n",
    "matches = pattern.finditer(url)\n",
    "for  match in matches:\n",
    "    print(match)"
   ]
  },
  {
   "cell_type": "code",
   "execution_count": null,
   "metadata": {},
   "outputs": [],
   "source": []
  }
 ],
 "metadata": {
  "interpreter": {
   "hash": "e7370f93d1d0cde622a1f8e1c04877d8463912d04d973331ad4851f04de6915a"
  },
  "kernelspec": {
   "display_name": "Python 3 (ipykernel)",
   "language": "python",
   "name": "python3"
  },
  "language_info": {
   "codemirror_mode": {
    "name": "ipython",
    "version": 3
   },
   "file_extension": ".py",
   "mimetype": "text/x-python",
   "name": "python",
   "nbconvert_exporter": "python",
   "pygments_lexer": "ipython3",
   "version": "3.9.7"
  }
 },
 "nbformat": 4,
 "nbformat_minor": 4
}
