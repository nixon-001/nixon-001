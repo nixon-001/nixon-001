{
 "cells": [
  {
   "cell_type": "code",
   "execution_count": null,
   "id": "132fa34e-2474-4aa5-999c-7611786e5055",
   "metadata": {},
   "outputs": [],
   "source": [
    "#print(\"Hello World!\")"
   ]
  },
  {
   "cell_type": "code",
   "execution_count": null,
   "id": "4ba015c0-d5e5-4721-8478-4c12c2a64637",
   "metadata": {},
   "outputs": [],
   "source": [
    "1+2"
   ]
  },
  {
   "cell_type": "code",
   "execution_count": null,
   "id": "ca0aa090-8511-4055-9eae-68c0fb8e9b01",
   "metadata": {},
   "outputs": [],
   "source": [
    "a=1\n",
    "b=2\n",
    "print(a+b)"
   ]
  },
  {
   "cell_type": "code",
   "execution_count": null,
   "id": "8ef5d5c3-c3e6-4667-b0e0-b4ab5ae026bc",
   "metadata": {},
   "outputs": [],
   "source": [
    "a=\"abc\"\n",
    "b='''xyz'''\n",
    "print(\"The Result is...\",a+b)"
   ]
  },
  {
   "cell_type": "code",
   "execution_count": null,
   "id": "c2d1107f-6927-4128-bf00-8f280b51df8a",
   "metadata": {},
   "outputs": [],
   "source": [
    "a=2\n",
    "b=3\n",
    "print(\"the result is\",a+b)"
   ]
  },
  {
   "cell_type": "code",
   "execution_count": null,
   "id": "5b17ace8-1cfc-482f-b0cf-428ed42ee514",
   "metadata": {},
   "outputs": [],
   "source": [
    "'''a=2\n",
    "b=3\n",
    "print(\"resust\"a+b)\n",
    "\n",
    "x=10\n",
    "y=10.0000001\n",
    "\n",
    "print(x<y)'''\n",
    "\n",
    "print(bool(9))"
   ]
  },
  {
   "cell_type": "code",
   "execution_count": null,
   "id": "0667b496-f15c-4212-a168-5541e834ce4d",
   "metadata": {},
   "outputs": [],
   "source": [
    "a=\"abc\"\n",
    "print(bin(7))"
   ]
  },
  {
   "cell_type": "code",
   "execution_count": null,
   "id": "09cc0fc9-4b06-46ea-b3f4-ab9b6eee6fa5",
   "metadata": {},
   "outputs": [],
   "source": [
    "print(bin(6))"
   ]
  },
  {
   "cell_type": "code",
   "execution_count": null,
   "id": "63ad9e60-6866-40d0-bf9d-eddeb4f73c39",
   "metadata": {},
   "outputs": [],
   "source": [
    "x=9"
   ]
  },
  {
   "cell_type": "code",
   "execution_count": null,
   "id": "e241f8f6-bb96-4ec1-9328-498792125b14",
   "metadata": {},
   "outputs": [],
   "source": [
    "print(oct(8))\n",
    "print(hex(88))\n",
    "print(bin(x))"
   ]
  },
  {
   "cell_type": "code",
   "execution_count": null,
   "id": "7b5c6629-6bb5-4a87-8493-af887838fa56",
   "metadata": {},
   "outputs": [],
   "source": [
    "a=18.56575757\n",
    "\n",
    "print(round(a,3))"
   ]
  },
  {
   "cell_type": "code",
   "execution_count": null,
   "id": "46a9a54f-967e-4b23-9570-709b84a84b18",
   "metadata": {},
   "outputs": [],
   "source": [
    "a=118.566575664\n",
    "\n",
    "print(\"%.3f\"%a)"
   ]
  },
  {
   "cell_type": "code",
   "execution_count": null,
   "id": "11f3a1fd-42c7-4fef-b75a-e4b90ad4f3c9",
   "metadata": {},
   "outputs": [],
   "source": [
    "a=18.66464647464\n",
    "\n",
    "print(\"%.f\"%a)\n",
    "print(4*a)\n",
    "\n",
    "print(5*'\\n')\n",
    "print(5*'/n')"
   ]
  },
  {
   "cell_type": "code",
   "execution_count": null,
   "id": "f96bfcbd-6763-4939-90e9-b0f53f9ce9c2",
   "metadata": {},
   "outputs": [],
   "source": [
    "a=1+5j\n",
    "b=5+6j\n",
    "c=a+b\n",
    "print(c)"
   ]
  },
  {
   "cell_type": "code",
   "execution_count": null,
   "id": "c49816ff-2176-4c63-8b57-89efd90d980b",
   "metadata": {},
   "outputs": [],
   "source": [
    "a,b=10,20\n",
    "print(a,\"\\t\",b,\"\\t\",a+b)"
   ]
  },
  {
   "cell_type": "code",
   "execution_count": null,
   "id": "5d6af5d6-a9f1-46de-a3ff-19d37d48959b",
   "metadata": {},
   "outputs": [],
   "source": [
    "a,b,c,d,e=range(1,6)\n",
    "print(e)"
   ]
  },
  {
   "cell_type": "code",
   "execution_count": null,
   "id": "afc8b3bd-2139-4090-9abf-9176caf473c4",
   "metadata": {},
   "outputs": [],
   "source": []
  },
  {
   "cell_type": "code",
   "execution_count": null,
   "id": "959ba2c4-9429-4285-8156-5ed310b66b36",
   "metadata": {},
   "outputs": [],
   "source": [
    "line1 = input('how many credits do you have?')\n",
    "num_credits = int(line1)\n",
    "print(num_credits)\n",
    "\n",
    "line2 = input ('what is your grade point average?')\n",
    "gpa = float(line2)\n",
    "print(gpa)"
   ]
  },
  {
   "cell_type": "code",
   "execution_count": null,
   "id": "7c9dfd12-c8bb-4a02-9ebe-e54eb1ff4d22",
   "metadata": {},
   "outputs": [],
   "source": [
    "prev = input('Enter the credits:')\n",
    "\n",
    "actual_credits = int(prev)\n",
    "\n",
    "print(actual_credits)\n",
    "\n",
    "print()\n",
    "\n",
    "prev1 = input('Enter the GPA :')\n",
    "\n",
    "actual_GPA = float(prev1)\n",
    "\n",
    "print(actual_GPA)\n",
    "\n",
    "print()"
   ]
  },
  {
   "cell_type": "code",
   "execution_count": null,
   "id": "c62574e4-b704-49f4-ae43-ed77cd16fab4",
   "metadata": {},
   "outputs": [],
   "source": [
    "29//6"
   ]
  },
  {
   "cell_type": "code",
   "execution_count": null,
   "id": "9708d004-c252-45c5-8138-49f3f91a5a2c",
   "metadata": {},
   "outputs": [],
   "source": [
    "4-40-3"
   ]
  },
  {
   "cell_type": "code",
   "execution_count": null,
   "id": "e91359af-8462-4aa8-ace6-74a3d9f39c83",
   "metadata": {},
   "outputs": [],
   "source": [
    "num=10"
   ]
  },
  {
   "cell_type": "code",
   "execution_count": null,
   "id": "c539091f-1882-4c5d-a983-081f5d6fc4bc",
   "metadata": {},
   "outputs": [],
   "source": [
    "num = int(input('enter number:'))\n",
    "enter_number:5\n",
    "print(num)"
   ]
  },
  {
   "cell_type": "code",
   "execution_count": null,
   "id": "2007c27d-b72f-4a9b-b03e-3bab9a634640",
   "metadata": {},
   "outputs": [],
   "source": [
    "num=int(input('hi:'))\n",
    "hi:5\n",
    "num"
   ]
  },
  {
   "cell_type": "code",
   "execution_count": null,
   "id": "7cf39c31-a589-4748-8285-6ace30d1b386",
   "metadata": {},
   "outputs": [],
   "source": [
    "format(23/7, \".22f\")"
   ]
  },
  {
   "cell_type": "code",
   "execution_count": null,
   "id": "330e70fc-c4d2-43f6-aa4c-c8eefc48673b",
   "metadata": {},
   "outputs": [],
   "source": [
    "format(22/23, \".2e\")"
   ]
  },
  {
   "cell_type": "code",
   "execution_count": null,
   "id": "6141b401-fbc8-46d3-9a4a-dde5ef18e272",
   "metadata": {},
   "outputs": [],
   "source": [
    "k=11"
   ]
  },
  {
   "cell_type": "code",
   "execution_count": null,
   "id": "3454e5b3-e9f7-4aba-9011-33e590dde771",
   "metadata": {},
   "outputs": [],
   "source": [
    "k = k+1\n",
    "k"
   ]
  },
  {
   "cell_type": "code",
   "execution_count": null,
   "id": "df237562-114c-48e9-bf5c-52d0dbc7880b",
   "metadata": {},
   "outputs": [],
   "source": [
    "id(k)"
   ]
  },
  {
   "cell_type": "code",
   "execution_count": null,
   "id": "890875df-f23e-4095-9ed0-a91f276fddcf",
   "metadata": {},
   "outputs": [],
   "source": [
    "id(777)"
   ]
  },
  {
   "cell_type": "code",
   "execution_count": null,
   "id": "1e5c708d-ed36-44ef-a4ac-ff84fecb6a6a",
   "metadata": {},
   "outputs": [],
   "source": [
    "k = num\n",
    "k"
   ]
  },
  {
   "cell_type": "code",
   "execution_count": null,
   "id": "36e4dd09-5f85-4cea-b370-083edf365c38",
   "metadata": {},
   "outputs": [],
   "source": [
    "x = 1.3567843\n",
    "print(f'{x:.2f}')"
   ]
  },
  {
   "cell_type": "code",
   "execution_count": null,
   "id": "30fa7f6c-61d6-441a-9661-11e3f3ebfc16",
   "metadata": {},
   "outputs": [],
   "source": [
    "x=1\n",
    "x<<2"
   ]
  },
  {
   "cell_type": "code",
   "execution_count": null,
   "id": "4cb8d9ad-eb0c-4b9f-b4f3-f3864af53484",
   "metadata": {},
   "outputs": [],
   "source": [
    "x=9\n",
    "x<<10"
   ]
  },
  {
   "cell_type": "code",
   "execution_count": null,
   "id": "49f96848-092f-44bd-9c34-547527590a9d",
   "metadata": {},
   "outputs": [],
   "source": [
    "bin(x<<2)"
   ]
  },
  {
   "cell_type": "code",
   "execution_count": null,
   "id": "9dd9a756-c58f-4dca-9fcf-188ba0ec8c0e",
   "metadata": {},
   "outputs": [],
   "source": [
    "bin(9)"
   ]
  },
  {
   "cell_type": "code",
   "execution_count": null,
   "id": "0f14c1e2-1dd4-46ad-9394-93a265b8e8c3",
   "metadata": {},
   "outputs": [],
   "source": [
    "X=1\n",
    "bin(X&0b1)"
   ]
  },
  {
   "cell_type": "code",
   "execution_count": null,
   "id": "1873f4a1-1a8c-4f82-9cf5-fb6a5dd343a2",
   "metadata": {},
   "outputs": [],
   "source": [
    "x|2"
   ]
  },
  {
   "cell_type": "code",
   "execution_count": null,
   "id": "6b6c9879-72a4-4c2a-856b-3a50d39019ec",
   "metadata": {},
   "outputs": [],
   "source": [
    "x"
   ]
  },
  {
   "cell_type": "code",
   "execution_count": null,
   "id": "05b571d4-3382-4b95-b7e4-9e1d1535a401",
   "metadata": {},
   "outputs": [],
   "source": [
    "n=float(input(\"amt.\"))\n",
    "c=float(input(\"price of 1 chocolaate\"))\n",
    "m=int(input(\"num ofwrappe for free chocolte\"))\n",
    "#compute number of chocolate bought\n",
    "p=n//c\n",
    "#compute number of free chocolates\n",
    "f=p//m\n",
    "print(\"num of chocolate\",int(p+f))"
   ]
  },
  {
   "cell_type": "code",
   "execution_count": null,
   "id": "4a1682a2-42a7-495f-bd5b-3ec59bed0f7c",
   "metadata": {},
   "outputs": [],
   "source": [
    "pay = float(input('enter pay '))\n",
    "netpay = pay+(pay*0.8)+(pay*0.3)-(pay*0.12)\n",
    "print(netpay)"
   ]
  },
  {
   "cell_type": "code",
   "execution_count": null,
   "id": "67a62f09-a0cc-443e-a685-6a46eeaf0f34",
   "metadata": {},
   "outputs": [],
   "source": [
    "ftc=lambda f:(f-32)*5.0/9\n",
    "ftc(104)"
   ]
  },
  {
   "cell_type": "code",
   "execution_count": null,
   "id": "fd2a2e77-0694-41c9-a194-01c86e214c55",
   "metadata": {},
   "outputs": [],
   "source": [
    "lambda x: x+x\n",
    "(lambda x: x*2)(12)"
   ]
  },
  {
   "cell_type": "code",
   "execution_count": null,
   "id": "9a00b777-12fe-4156-852c-1b44dae7e899",
   "metadata": {},
   "outputs": [],
   "source": [
    "a=lambda x: x+x*+x**x+x**x*x\n",
    "a(2)"
   ]
  },
  {
   "cell_type": "code",
   "execution_count": null,
   "id": "ea5aa7cc-1ab7-4a76-824e-1e2e26e56617",
   "metadata": {},
   "outputs": [],
   "source": [
    "expo=lambda x: (x**70)*4\n",
    "expo(2)"
   ]
  },
  {
   "cell_type": "code",
   "execution_count": null,
   "id": "83d224a7-6edc-469c-9254-b3a39bc25ba5",
   "metadata": {},
   "outputs": [],
   "source": [
    "x = lambda a, b, c : a + b + c\n",
    "print(x(5, 6, 9))"
   ]
  },
  {
   "cell_type": "code",
   "execution_count": null,
   "id": "a1f1a654-0707-4cd9-a957-23678ed8ec32",
   "metadata": {},
   "outputs": [],
   "source": [
    "x = lambda a, b, c : a + b + c\n",
    "print(x(5, 6, 9))"
   ]
  },
  {
   "cell_type": "code",
   "execution_count": null,
   "id": "5a84965b-2e3c-464d-b147-16410245f42a",
   "metadata": {},
   "outputs": [],
   "source": [
    "def fun(n):\n",
    "  return lambda a : a * n\n",
    "\n",
    "double = fun(2)\n",
    "triple = fun(3)\n",
    "\n",
    "print(double(1234567890))\n",
    "print(triple(1234567890))"
   ]
  },
  {
   "cell_type": "code",
   "execution_count": null,
   "id": "274c328c-a3ce-47f6-8c66-44d2ca4f5a68",
   "metadata": {},
   "outputs": [],
   "source": [
    "string='BCSe'\n",
    "print(lambda string : string)"
   ]
  },
  {
   "cell_type": "code",
   "execution_count": null,
   "id": "bc34cc4c-cbd9-46fc-adce-b499fac4f1c0",
   "metadata": {},
   "outputs": [],
   "source": [
    "#overflow\n",
    "1.5e200*2.0e210"
   ]
  },
  {
   "cell_type": "code",
   "execution_count": null,
   "id": "5f09167e-21fc-42eb-80d5-445ceadce535",
   "metadata": {},
   "outputs": [],
   "source": [
    "#underflow\n",
    "1.0e-300/1.0e100"
   ]
  },
  {
   "cell_type": "code",
   "execution_count": null,
   "id": "57c09273-7b30-4167-b3ad-330027274702",
   "metadata": {},
   "outputs": [],
   "source": [
    "import math\n",
    "math.sqrt(4)"
   ]
  },
  {
   "cell_type": "code",
   "execution_count": null,
   "id": "c98e2dad-8c65-4413-9723-6c6f9ff9707b",
   "metadata": {},
   "outputs": [],
   "source": [
    "import math as m\n",
    "\n",
    "print('pi is',m.pi)\n",
    "print('cos(pi)is',m.cos(math.pi))"
   ]
  },
  {
   "cell_type": "code",
   "execution_count": null,
   "id": "bb37736a-58b2-4337-8104-ac89d33fcbbe",
   "metadata": {},
   "outputs": [],
   "source": [
    "import math as m\n",
    "m.factorial(5)"
   ]
  },
  {
   "cell_type": "code",
   "execution_count": null,
   "id": "5c09e98f-dd84-4fdc-98d2-869186c29f07",
   "metadata": {},
   "outputs": [],
   "source": [
    "from math import sin, pi #best\n",
    "import math\n",
    "import math as m\n",
    "from math import* #time consuming"
   ]
  },
  {
   "cell_type": "code",
   "execution_count": null,
   "id": "3ada0821-5abe-4d3d-8c27-1b345d535881",
   "metadata": {},
   "outputs": [],
   "source": [
    "print(\"sin(pi/2)=\",sin(pi/2))\n",
    "print(\"sin(pi/2)=\",m.sin(m.pi/2))\n",
    "print(\"sin(pi/2)=\",math.sin(math.pi/2))"
   ]
  },
  {
   "cell_type": "code",
   "execution_count": null,
   "id": "1546d221-600e-49f4-98be-81ce1789e879",
   "metadata": {},
   "outputs": [],
   "source": []
  },
  {
   "cell_type": "code",
   "execution_count": null,
   "id": "19b67d81-6d09-4793-b15f-b89cbcb3cfcb",
   "metadata": {},
   "outputs": [],
   "source": [
    "print(\"enter four run\")\n",
    "run1= int(input())\n",
    "run2= int(input())\n",
    "run3= int(input())\n",
    "run4= int(input())\n",
    "total= (run1+run2+run3+run4)\n",
    "avg= total/4\n",
    "print(\"avg\",avg)"
   ]
  },
  {
   "cell_type": "code",
   "execution_count": null,
   "id": "f340ac31-3cad-4584-8368-3d5ff75ab7c4",
   "metadata": {},
   "outputs": [],
   "source": [
    "import math as m\n",
    "print(\"enter radius\")\n",
    "radius=float(input())\n",
    "area=m.pi*radius**2\n",
    "print(\"area is\",area)"
   ]
  },
  {
   "cell_type": "code",
   "execution_count": null,
   "id": "93f832c6-0612-45c3-8802-59f44a5dfdb4",
   "metadata": {},
   "outputs": [],
   "source": [
    "radius = float(input('Enter the radius :'))\n",
    "\n",
    "print()\n",
    "\n",
    "area = 3.14*radius*radius\n",
    "\n",
    "print('The area is :', float(area))\n",
    "\n",
    "print()"
   ]
  },
  {
   "cell_type": "code",
   "execution_count": null,
   "id": "3710ceb8-ddf0-4133-b3ab-6a269b63aab7",
   "metadata": {},
   "outputs": [],
   "source": [
    "cc = int(input('comp cost '))\n",
    "nc = int(input('No of comp '))\n",
    "tc = int(input('table cost '))\n",
    "nt = int(input('No of table '))\n",
    "ch = int(input('chair cost '))\n",
    "nch = int(input('No of chair'))\n",
    "w = int(input('labour wage'))\n",
    "h = int(input('No of hours worked '))\n",
    "cost = cc*nc + tc*nt + ch*nch + w*h\n",
    "print(cost)"
   ]
  },
  {
   "cell_type": "code",
   "execution_count": null,
   "id": "9575b4b7-0b0e-45c0-99d5-09abe181b5b4",
   "metadata": {},
   "outputs": [],
   "source": [
    "grade=int(input('grade',))\n",
    "if grade>=70:\n",
    "    print('good')\n",
    "else:\n",
    "    print('improve')"
   ]
  },
  {
   "cell_type": "code",
   "execution_count": null,
   "id": "e1c1b5af-8869-408d-9a10-c6ed91b50bd4",
   "metadata": {},
   "outputs": [],
   "source": [
    "x=int(input())\n",
    "if x>5:\n",
    "    print(\"10 is greater than 5\")\n",
    "else:\n",
    "    print(\"program ended\")"
   ]
  },
  {
   "cell_type": "code",
   "execution_count": null,
   "id": "baf1b6e6-05a6-476e-b2fe-5273b5781312",
   "metadata": {},
   "outputs": [],
   "source": [
    "x=3\n",
    "if x == 4:\n",
    "    print(\"yes\")\n",
    "else:\n",
    "    print(\"no\")"
   ]
  },
  {
   "cell_type": "code",
   "execution_count": null,
   "id": "9e01d466-fe47-4a2a-8d60-f52ae96724f3",
   "metadata": {},
   "outputs": [],
   "source": [
    "N=int(input(\"enter n:\"))\n",
    "if(N%2==0):\n",
    "    print(N,\"is even\")\n",
    "else:\n",
    "    print(N,\"is odd\")"
   ]
  },
  {
   "cell_type": "code",
   "execution_count": null,
   "id": "40ad8373-17d1-40fa-9779-4c62cd575780",
   "metadata": {},
   "outputs": [],
   "source": [
    "letter = \"A\"\n",
    "\n",
    "if letter == \"B\":\n",
    "    print(\"letter is B\")\n",
    "else:\n",
    "    if letter == \"C\":\n",
    "        print(\"letter is C\")\n",
    "    else:\n",
    "        if letter == \"A\":\n",
    "            print(\"letter is A\")\n",
    "        else:\n",
    "            print(\"letter isn't A, B and C\")"
   ]
  },
  {
   "cell_type": "code",
   "execution_count": null,
   "id": "b1a8247b-e57d-4699-8068-701ece4a2528",
   "metadata": {},
   "outputs": [],
   "source": [
    "letter=(input())\n",
    "\n",
    "if letter == \"B\":\n",
    "    print(\"letter is B\")\n",
    "else:\n",
    "    if letter == \"C\":\n",
    "        print(\"letter is C\")\n",
    "    else:\n",
    "        if letter == \"A\":\n",
    "            print(\"letter is A\")\n",
    "        else:\n",
    "            print(\"letter isn't A, B and C\")"
   ]
  },
  {
   "cell_type": "code",
   "execution_count": null,
   "id": "efc0e766-621d-408d-a6c1-76a7a1892946",
   "metadata": {},
   "outputs": [],
   "source": [
    "num=int(input())\n",
    "if num>5:\n",
    "    print(\"bigger than 5\")\n",
    "    if num<=15:\n",
    "        print(\"between 5 and 15\")\n",
    "else:\n",
    "    print(\"IDK\")"
   ]
  },
  {
   "cell_type": "code",
   "execution_count": null,
   "id": "50cf7c3a-d7fa-442d-841e-9d22d683b08b",
   "metadata": {},
   "outputs": [],
   "source": [
    "x=3\n",
    "if x == 4:\n",
    "    print(\"yes\")\n",
    "else:\n",
    "    print(\"no\")"
   ]
  },
  {
   "cell_type": "code",
   "execution_count": null,
   "id": "4b3e86e5-71ac-44e2-8e88-00ffe62a9e4e",
   "metadata": {},
   "outputs": [],
   "source": [
    "x=int(input())\n",
    "if x>5:\n",
    "    print(\"10 is greater than 5\")\n",
    "else:\n",
    "    print(\"program ended\")"
   ]
  },
  {
   "cell_type": "code",
   "execution_count": null,
   "id": "97cca615-b8b3-4be1-8c48-1ca3d6bdc7b4",
   "metadata": {},
   "outputs": [],
   "source": [
    "grade=int(input('grade',))\n",
    "if grade>=70:\n",
    "    print('good')\n",
    "else:\n",
    "    print('improve')\n"
   ]
  },
  {
   "cell_type": "code",
   "execution_count": null,
   "id": "4d793624-cd00-4fd2-89c2-e6cab59662b0",
   "metadata": {},
   "outputs": [],
   "source": [
    "num = int(input())\n",
    "if(num%2==0):\n",
    "    print(num,\"even\")\n",
    "else:\n",
    "    print(num,\"odd\")"
   ]
  },
  {
   "cell_type": "code",
   "execution_count": null,
   "id": "c1838f9b-6320-4a20-9fdc-3b744d50f39a",
   "metadata": {},
   "outputs": [],
   "source": [
    "letter = \"A\"\n",
    "\n",
    "if letter == \"B\":\n",
    "    print(\"letter is B\")\n",
    "else:\n",
    "    if letter == \"C\":\n",
    "        print(\"letter is C\")\n",
    "    else:\n",
    "        if letter == \"A\":\n",
    "            print(\"letter is A\")\n",
    "        else:\n",
    "            print(\"letter isn't A, B and C\")"
   ]
  },
  {
   "cell_type": "code",
   "execution_count": null,
   "id": "b6dada47-c6d3-4f70-8105-8475e4b0d035",
   "metadata": {},
   "outputs": [],
   "source": [
    "letter = \"A\"\n",
    "\n",
    "if letter == \"B\":\n",
    "    print(\"letter is B\")\n",
    "else:\n",
    "    if letter == \"C\":\n",
    "        print(\"letter is C\")\n",
    "    else:\n",
    "        if letter == \"A\":\n",
    "            print(\"letter is A\")\n",
    "        else:\n",
    "            print(\"letter isn't A, B and C\")"
   ]
  },
  {
   "cell_type": "code",
   "execution_count": null,
   "id": "39c6e21a-8a0b-47be-b2e6-be23f54696df",
   "metadata": {},
   "outputs": [],
   "source": [
    "num = int(input())\n",
    "if(num%2==0):\n",
    "    print(num,\"even\")\n",
    "else:\n",
    "    print(num,\"odd\")"
   ]
  },
  {
   "cell_type": "code",
   "execution_count": null,
   "id": "eb9dd060-e486-4435-808f-c746dba861eb",
   "metadata": {},
   "outputs": [],
   "source": [
    "grade= float(input())\n",
    "if grade >= 90:\n",
    "    print('grade of A')\n",
    "elif grade >= 80:\n",
    "    print('grade of B')\n",
    "elif grade >= 70:\n",
    "    print('grade of C')\n",
    "elif grade >= 60:\n",
    "    print('grade of D')\n",
    "else:\n",
    "    print('grade of F')"
   ]
  },
  {
   "cell_type": "code",
   "execution_count": null,
   "id": "e4cf22e2-ac51-446e-bea8-de966f201f15",
   "metadata": {},
   "outputs": [],
   "source": [
    "num=int(input())\n",
    "if num>5:\n",
    "    print(\"bigger than 5\")\n",
    "    if num<=15:\n",
    "        print(\"between 5 and 15\")\n",
    "else:\n",
    "    print(\"IDK\")"
   ]
  },
  {
   "cell_type": "code",
   "execution_count": null,
   "id": "9d6f22d7-e0ab-4330-ab5a-36a0f102bf54",
   "metadata": {},
   "outputs": [],
   "source": [
    "letter = \"A\"\n",
    "\n",
    "if letter == \"B\":\n",
    "    print(\"letter is B\")\n",
    "else:\n",
    "    if letter == \"C\":\n",
    "        print(\"letter is C\")\n",
    "    else:\n",
    "        if letter == \"A\":\n",
    "            print(\"letter is A\")\n",
    "        else:\n",
    "            print(\"letter isn't A, B and C\")"
   ]
  },
  {
   "cell_type": "code",
   "execution_count": null,
   "id": "c5adfd2a-16a5-46c2-bda5-1f002a92c9d1",
   "metadata": {},
   "outputs": [],
   "source": [
    "num = int(input())\n",
    "if(num%2==0):\n",
    "    print(num,\"even\")\n",
    "else:\n",
    "    print(num,\"odd\")"
   ]
  },
  {
   "cell_type": "code",
   "execution_count": null,
   "id": "1cc2db86-a446-4f45-8e3c-feebc4de1c2d",
   "metadata": {},
   "outputs": [],
   "source": [
    "grade= float(input())\n",
    "if grade >= 90:\n",
    "    print('grade of A')\n",
    "elif grade >= 80:\n",
    "    print('grade of B')\n",
    "elif grade >= 70:\n",
    "    print('grade of C')\n",
    "elif grade >= 60:\n",
    "    print('grade of D')\n",
    "else:\n",
    "    print('grade of F')"
   ]
  },
  {
   "cell_type": "code",
   "execution_count": null,
   "id": "4b91781a-ae78-4b3f-86b3-06e20de0eef3",
   "metadata": {},
   "outputs": [],
   "source": [
    "mark1= float(input())\n",
    "mark2= float(input())\n",
    "if mark1>=90 and mark2>=90:\n",
    "    print('excellent')\n",
    "if mark1>=90 or mark2>=90:\n",
    "    print('good')\n",
    "else:\n",
    "    print('needs to improve')"
   ]
  },
  {
   "cell_type": "code",
   "execution_count": null,
   "id": "d4960baf-edfb-43b4-8efa-152a70a76cce",
   "metadata": {},
   "outputs": [],
   "source": [
    "mark1= float(input())\n",
    "mark2= float(input())\n",
    "if mark1>=90 and mark2>=90:\n",
    "    print('excellent')\n",
    "elif mark1>=90 or mark2>=90:\n",
    "    print('good')\n",
    "else:\n",
    "    print('needs to improve')"
   ]
  },
  {
   "cell_type": "code",
   "execution_count": null,
   "id": "cca24878-98a7-4950-a1a6-3bc10f689a20",
   "metadata": {},
   "outputs": [],
   "source": [
    "num=int(input())\n",
    "if num>5:\n",
    "    print(\"bigger than 5\")\n",
    "    if num<=15:\n",
    "        print(\"between 5 and 15\")\n",
    "else:\n",
    "    print(\"IDK\")"
   ]
  },
  {
   "cell_type": "code",
   "execution_count": null,
   "id": "4641c442-a75c-44a5-ada2-8a516fe4d62f",
   "metadata": {},
   "outputs": [],
   "source": [
    "letter=(input())\n",
    "\n",
    "if letter == \"B\":\n",
    "    print(\"letter is B\")\n",
    "else:\n",
    "    if letter == \"C\":\n",
    "        print(\"letter is C\")\n",
    "    else:\n",
    "        if letter == \"A\":\n",
    "            print(\"letter is A\")\n",
    "        else:\n",
    "            print(\"letter isn't A, B and C\")"
   ]
  },
  {
   "cell_type": "code",
   "execution_count": null,
   "id": "1a3630fe-c517-4457-ae4b-3537ae985b34",
   "metadata": {},
   "outputs": [],
   "source": [
    "mark1= float(input())\n",
    "mark2= float(input())\n",
    "if mark1>=90 and mark2>=90:\n",
    "    print('excellent')\n",
    "if mark1>=90 or mark2>=90:\n",
    "    print('good')\n",
    "else:\n",
    "    print('needs to improve')"
   ]
  },
  {
   "cell_type": "code",
   "execution_count": null,
   "id": "5a543101-9fa5-4b93-a21b-dafd3ba95465",
   "metadata": {},
   "outputs": [],
   "source": [
    "num=int(input())\n",
    "if num>5:\n",
    "    print(\"bigger than 5\")\n",
    "    if num<=15:\n",
    "        print(\"between 5 and 15\")\n",
    "else:\n",
    "    print(\"IDK\")"
   ]
  },
  {
   "cell_type": "code",
   "execution_count": null,
   "id": "b2e213c2-87f1-4295-aa07-5f2b2362df29",
   "metadata": {},
   "outputs": [],
   "source": [
    "letter=str(input())\n",
    "\n",
    "if letter == \"B\":\n",
    "    print(\"letter is B\")\n",
    "elif letter == \"C\":\n",
    "     print(\"letter is C\")\n",
    "elif letter == \"A\":\n",
    "    print(\"letter is A\")\n",
    "else:\n",
    "    print(\"letter isn't A, B and C\")"
   ]
  },
  {
   "cell_type": "code",
   "execution_count": null,
   "id": "ae9bddd6-e4f5-4f9c-a59f-110d621305d9",
   "metadata": {},
   "outputs": [],
   "source": [
    "print('is first graduate(1 for yes and 0 for no)')\n",
    "first = int(input())\n",
    "phy= float(input('phy'))\n",
    "chem= float(input('chem'))\n",
    "math= float(input('math'))\n",
    "total=phy+chem+math\n",
    "if(phy<0 or chem<0 or math<0):\n",
    "    print('invalid')\n",
    "else:\n",
    "    avg= total/3\n",
    "    if first==1 and avg>=98:\n",
    "        print('qualified')\n",
    "    else:\n",
    "        print('not qualified')"
   ]
  },
  {
   "cell_type": "code",
   "execution_count": null,
   "id": "6a1ee878-e8d9-4665-be2b-215d0612a77f",
   "metadata": {},
   "outputs": [],
   "source": [
    "#program to check scholarship requirements\n",
    "grad_no=int(input(\"Number of graduates in family(excluding yourself)\"))\n",
    "if grad_no==0:\n",
    "    mm = float(input(\"Enter Math Marks\"))\n",
    "    cm = float(input(\"Enter Chemistry Marks\"))\n",
    "    pm = float(input(\"Enter Physics Marks\"))\n",
    "    avg = (mm + cm + pm) / 3\n",
    "    if avg>=98:\n",
    "        print(\"Congratulatons you are eligible for the scholarship!\")\n",
    "    else:\n",
    "        print(\"Sorry you cannot avail the scholarship.\")\n",
    "else:\n",
    "    print(\"Sorry you cannot avail the scholarship.\")"
   ]
  },
  {
   "cell_type": "code",
   "execution_count": null,
   "id": "b0b3ec3d-aa0d-4bb4-abe8-d662f84ac09b",
   "metadata": {},
   "outputs": [],
   "source": [
    "# true condition\n",
    "A='t' if 'spam' else 'f'\n",
    "A"
   ]
  },
  {
   "cell_type": "code",
   "execution_count": null,
   "id": "ecbaeb32-bcf2-4b2b-bb89-280bb70fb940",
   "metadata": {},
   "outputs": [],
   "source": [
    "# condition is empty therefore false\n",
    "A='t' if '' else 'f'\n",
    "A"
   ]
  },
  {
   "cell_type": "code",
   "execution_count": null,
   "id": "31f1bd41-67c8-4d72-9059-25d5f7b0ff69",
   "metadata": {},
   "outputs": [],
   "source": [
    "x=5\n",
    "y=4\n",
    "n=int(input(\"enter n\"))\n",
    "a=x if '' else y\n",
    "print(a)"
   ]
  },
  {
   "cell_type": "code",
   "execution_count": null,
   "id": "eaec46c4-4a88-4777-adb3-c04770079089",
   "metadata": {},
   "outputs": [],
   "source": []
  },
  {
   "cell_type": "code",
   "execution_count": null,
   "id": "2624b517-95c8-4847-bebd-018e590e8fab",
   "metadata": {},
   "outputs": [],
   "source": [
    "N = int(input('Enter the last range upto which u want to see the list of Natural numbers:'))\n",
    "count = 0\n",
    "i = 0\n",
    "for i in range(1 , N+1):\n",
    "    if(N>=1):\n",
    "        count += 1\n",
    "        print(i, end = ' ')\n",
    "    else:\n",
    "        print('Sorry! this is not the list of natural number:')\n",
    "\n",
    "#print()"
   ]
  },
  {
   "cell_type": "code",
   "execution_count": null,
   "id": "b535458f-5338-4b04-b9a7-3b1b5ea33678",
   "metadata": {},
   "outputs": [],
   "source": [
    "#how to set loops in python\n",
    "n=int(input(\"Enter value of N\"))\n",
    "for i in range(n):\n",
    "    print(i+1)"
   ]
  },
  {
   "cell_type": "code",
   "execution_count": null,
   "id": "36e9c7d3-9a3b-4609-a827-1334565a0eb2",
   "metadata": {},
   "outputs": [],
   "source": [
    "#imp steps for looping\n",
    "#1. inisialize\n",
    "#2. condition\n",
    "#3. increment"
   ]
  },
  {
   "cell_type": "code",
   "execution_count": null,
   "id": "9c54eddf-3b40-4aa7-baec-491582eeb76d",
   "metadata": {},
   "outputs": [],
   "source": [
    "number_start =int (input(\"Enter starting number: \"))\n",
    "number_end = int (input(\"Enter ending number: \"))\n",
    "\n",
    "counter = number_start\n",
    "while counter <= number_end:\n",
    "    print(counter)\n",
    "    counter = counter + 1"
   ]
  },
  {
   "cell_type": "code",
   "execution_count": null,
   "id": "e2d33f29-bc12-4142-a329-bf39bb814f75",
   "metadata": {},
   "outputs": [],
   "source": [
    "a=1;b=10\n",
    "while a<b:\n",
    "    print(a, end='\\n')\n",
    "    a+=1"
   ]
  },
  {
   "cell_type": "code",
   "execution_count": null,
   "id": "7f0470e1-b08d-4fb1-a281-6205753ceeb3",
   "metadata": {},
   "outputs": [],
   "source": [
    "a=1;b=10\n",
    "while a<b:\n",
    "    print(a, end='')\n",
    "    a+=1"
   ]
  },
  {
   "cell_type": "code",
   "execution_count": null,
   "id": "e9484512-433e-423f-815f-65b7ed2d9a66",
   "metadata": {},
   "outputs": [],
   "source": [
    "a=1;b=10\n",
    "while a<b:\n",
    "    print(a, end=' ')\n",
    "    a+=1\n",
    "#end is a key word (new printing way)\n",
    "#end = in a single line"
   ]
  },
  {
   "cell_type": "code",
   "execution_count": null,
   "id": "ce4e49d6-f79e-4797-8373-864830b37b98",
   "metadata": {},
   "outputs": [],
   "source": [
    "a=int(input('a='))\n",
    "b=int(input('b='))\n",
    "while a<b:\n",
    "    print(a)\n",
    "    a+=1"
   ]
  },
  {
   "cell_type": "code",
   "execution_count": null,
   "id": "37555465-1e0e-43d2-84fc-8f14367aeb72",
   "metadata": {},
   "outputs": [],
   "source": [
    "def printNums(n):\n",
    "    for i in range(0,n):\n",
    "        if i%2==0:\n",
    "            print(i,end=' ')\n",
    "printNums(int(input(\"Enter the number\")))"
   ]
  },
  {
   "cell_type": "code",
   "execution_count": null,
   "id": "ef2dd3da-b375-425c-82d6-36d80ecd551b",
   "metadata": {},
   "outputs": [],
   "source": [
    "sum=0\n",
    "current=1\n",
    "n=3\n",
    "while current<=n:\n",
    "    sum=sum+current\n",
    "    current=current+1\n",
    "    print(sum)"
   ]
  },
  {
   "cell_type": "code",
   "execution_count": null,
   "id": "3bd602c0-78b9-4178-b0a6-7e8ba82a3d99",
   "metadata": {},
   "outputs": [],
   "source": [
    "while true:\n",
    "    name = input('enter name:')\n",
    "    if name =='stop':\n",
    "        break\n",
    "    age = input('enter age:')\n",
    "    print('hello',name,'=>',age)"
   ]
  },
  {
   "cell_type": "code",
   "execution_count": null,
   "id": "e916e32a-501d-4eda-b0a1-1558bbe8e575",
   "metadata": {},
   "outputs": [],
   "source": [
    "#True capital\n",
    "while True:\n",
    "    name = str(input('Enter name'))\n",
    "    if name=='stop':\n",
    "        break\n",
    "    age = int(input('enter age:'))\n",
    "    print('hello', name, '=>', age)"
   ]
  },
  {
   "cell_type": "code",
   "execution_count": null,
   "id": "1f658e40-08eb-4484-b199-3dbd3c5d2143",
   "metadata": {},
   "outputs": [],
   "source": [
    "let n=3\n",
    "counter=1\n",
    "while counter <=n:\n",
    "    if n%2!=0:\n",
    "        continue\n",
    "    print(counter)\n",
    "    counter=counter+1"
   ]
  },
  {
   "cell_type": "code",
   "execution_count": null,
   "id": "c89d2800-f088-4350-ae85-28adee190c9c",
   "metadata": {},
   "outputs": [],
   "source": [
    "x=int(input(\"no.=\"))\n",
    "while x:\n",
    "    x=x-1\n",
    "    if x%2!=0:\n",
    "        continue\n",
    "    print(x,end=' ')"
   ]
  },
  {
   "cell_type": "code",
   "execution_count": null,
   "id": "406fc053-2abe-49e2-a134-15e4d2c72b3d",
   "metadata": {},
   "outputs": [],
   "source": [
    "x=int(input(\"no.=\"))\n",
    "while x:\n",
    "    x=x-1\n",
    "    if x%2!=0:\n",
    "        break\n",
    "    print(x,end=' ')"
   ]
  },
  {
   "cell_type": "code",
   "execution_count": null,
   "id": "e1d85401-2014-4de3-8da9-d440d2417225",
   "metadata": {},
   "outputs": [],
   "source": [
    "# isinstance to check it is a perticular data type (integer)\n",
    "y = int(input())\n",
    "if not isinstance (y,int) :\n",
    "    print(\"no\")\n",
    "else:\n",
    "    if y == 0 :\n",
    "        print(\"zero is not\")\n",
    "    else:\n",
    "        if y<0 :\n",
    "            print(\"no\")\n",
    "        else:\n",
    "            x=y//2\n",
    "            while x>1:\n",
    "                if y%x == 0:\n",
    "                    break\n",
    "                x -= 1\n",
    "            else:\n",
    "                print(y, 'k')"
   ]
  },
  {
   "cell_type": "code",
   "execution_count": null,
   "id": "d38acb96-46f1-4ea9-8a6e-86c43b979044",
   "metadata": {},
   "outputs": [],
   "source": [
    "x = int(input('enter a number: '))\n",
    "c = 0\n",
    "if x ==0:\n",
    "    print('0 is neither primr nor composite')\n",
    "elif x<0:\n",
    "    print('prime numbers are only in non negative numbers')\n",
    "else:\n",
    "    for i in range(2, x//2):\n",
    "        if x%i == 0:\n",
    "            c += 1\n",
    "    if c > 0:\n",
    "        print('the number is not a prinme')\n",
    "    else:\n",
    "        print('It is prime')"
   ]
  },
  {
   "cell_type": "code",
   "execution_count": null,
   "id": "6caa8088-2d64-4e7a-bd32-56a0bf1dcef7",
   "metadata": {},
   "outputs": [],
   "source": [
    "for letter in 'Python':\n",
    "    print ('Current Letter:',letter,'\\t')"
   ]
  },
  {
   "cell_type": "code",
   "execution_count": null,
   "id": "3dfe03b5-d387-4537-9f43-2c51138c7411",
   "metadata": {},
   "outputs": [],
   "source": [
    "for n in range(1,6):\n",
    "    print(n)"
   ]
  },
  {
   "cell_type": "code",
   "execution_count": null,
   "id": "ec7bac7b-ef90-46c4-8c62-16eeb524442d",
   "metadata": {},
   "outputs": [],
   "source": [
    "for n in range(6):\n",
    "    print(n,end=', ')"
   ]
  },
  {
   "cell_type": "code",
   "execution_count": null,
   "id": "8a17d688-937e-4ef3-92f6-08039ea6b361",
   "metadata": {},
   "outputs": [],
   "source": [
    "for n in range(6,1,-1):\n",
    "    print(n,end=', ')"
   ]
  },
  {
   "cell_type": "code",
   "execution_count": null,
   "id": "fed23b83-77d4-4aea-9e7c-298676808cbf",
   "metadata": {},
   "outputs": [],
   "source": [
    "print(\"enter number of steps\")\n",
    "n= int(input())\n",
    "for i in range(0,n):\n",
    "    for j in range(0,i+1):\n",
    "        print('#',end='')\n",
    "    print()"
   ]
  },
  {
   "cell_type": "code",
   "execution_count": null,
   "id": "166429b1-3f1c-4d7a-895f-40923f33815c",
   "metadata": {},
   "outputs": [],
   "source": [
    "print(\"enter number of steps\")\n",
    "n= int(input())\n",
    "for i in range(n,0,-1):\n",
    "    for j in range(0,i+1):\n",
    "        print('#',end='')\n",
    "    print()"
   ]
  },
  {
   "cell_type": "code",
   "execution_count": null,
   "id": "c0d9088c-2341-46d9-94df-fac7f7f2499a",
   "metadata": {},
   "outputs": [],
   "source": [
    "print(\"enter number of steps\")\n",
    "n= int(input())\n",
    "for i in range(n,0,-1):\n",
    "    for j in range(0,i):\n",
    "        print(i,end='')\n",
    "    print()"
   ]
  },
  {
   "cell_type": "code",
   "execution_count": null,
   "id": "e61fa815-584b-4ac5-ad1c-2f58447066f4",
   "metadata": {},
   "outputs": [],
   "source": []
  },
  {
   "cell_type": "code",
   "execution_count": null,
   "id": "3c4e0303-050c-42cb-81f5-915df6fd4559",
   "metadata": {
    "tags": []
   },
   "outputs": [],
   "source": [
    "#list"
   ]
  },
  {
   "cell_type": "code",
   "execution_count": null,
   "id": "9bb3e423-52ec-41be-b910-40eddedfc463",
   "metadata": {},
   "outputs": [],
   "source": [
    "l1=[]\n",
    "print(l1)\n",
    "print(len(l1))"
   ]
  },
  {
   "cell_type": "code",
   "execution_count": null,
   "id": "7b9c73ca-e96c-4d0e-a947-d3835f82b089",
   "metadata": {
    "tags": []
   },
   "outputs": [],
   "source": [
    "# numbering start with 0 for eg here 100 is in oth position\n",
    "temp=[100,99.8,103,102,'abc']\n",
    "print(temp)"
   ]
  },
  {
   "cell_type": "code",
   "execution_count": null,
   "id": "e04e04d0-4274-455c-9edc-cb962418bb43",
   "metadata": {},
   "outputs": [],
   "source": [
    "list=[\"vit\",'chennai','vellore']\n",
    "print(\"\\nlist items\")\n",
    "print(list[0])\n",
    "print(list[2])"
   ]
  },
  {
   "cell_type": "code",
   "execution_count": null,
   "id": "2930c26d-1ff3-475b-9e98-c97a1239b4ea",
   "metadata": {},
   "outputs": [],
   "source": [
    "l1=[1,2,4,4,3,3,3,6,5]\n",
    "print(l1)\n",
    "print(l1[3])\n",
    "print(l1.sort())\n",
    "print(len(l1))"
   ]
  },
  {
   "cell_type": "code",
   "execution_count": null,
   "id": "d8b38108-287c-4dec-a27c-fd8cee930f79",
   "metadata": {},
   "outputs": [],
   "source": [
    "l1=[1,2,'vit',4,'chennai',6,'vellore']\n",
    "print(l1[3:7])\n",
    "print(len(l1))"
   ]
  },
  {
   "cell_type": "code",
   "execution_count": null,
   "id": "50f66b3e-0e8d-4216-b856-83f95da464f4",
   "metadata": {},
   "outputs": [],
   "source": [
    "l2=[1,2]\n",
    "l2.append(2)\n",
    "l2.append(3)\n",
    "l2.append(5)\n",
    "l2.append((11,22))\n",
    "l2"
   ]
  },
  {
   "cell_type": "code",
   "execution_count": null,
   "id": "96981445-d881-4b89-b55e-19bdaaab2d29",
   "metadata": {},
   "outputs": [],
   "source": [
    "l3=[1,2,3]\n",
    "for i in range(4,10):\n",
    "    l3.append(i)\n",
    "l3.append('abc')\n",
    "l3.append(l2)\n",
    "print(l3)\n",
    "print(l3[-6])"
   ]
  },
  {
   "cell_type": "code",
   "execution_count": null,
   "id": "3f591384-588c-49d7-8527-8e6fbd0c6eb4",
   "metadata": {},
   "outputs": [],
   "source": [
    "l3=[1,2,3]\n",
    "for i in range(4,10):\n",
    "    l3.append(i)\n",
    "l3.append(l1)\n",
    "l3"
   ]
  },
  {
   "cell_type": "code",
   "execution_count": null,
   "id": "8a989b3a-4bc0-4fe2-bf23-639d7ce74c9b",
   "metadata": {},
   "outputs": [],
   "source": [
    "l4=[[1,2,3],[4,5,6]]\n",
    "print(l4)\n",
    "print(l4[1][2])\n",
    "print(l4[0])"
   ]
  },
  {
   "cell_type": "code",
   "execution_count": null,
   "id": "f604e774-9f0e-4385-973e-59f62b57ab27",
   "metadata": {},
   "outputs": [],
   "source": [
    "l3.insert(4,10000)\n",
    "l3.insert(6,90000)\n",
    "l3"
   ]
  },
  {
   "cell_type": "code",
   "execution_count": null,
   "id": "7fe46630-5364-4be1-b33d-6a8ae89ffe34",
   "metadata": {},
   "outputs": [],
   "source": [
    "l4.insert([0][1],700)\n",
    "l4"
   ]
  },
  {
   "cell_type": "code",
   "execution_count": null,
   "id": "b528e46c-d2f1-4ee9-b2a6-a15944b3386f",
   "metadata": {},
   "outputs": [],
   "source": [
    "li=[1,2,3,8,9]\n",
    "li.insert(2,[4,5,6,7])\n",
    "print(li)"
   ]
  },
  {
   "cell_type": "code",
   "execution_count": null,
   "id": "45cdbfe4-59e2-4659-ae52-821fd6af45a4",
   "metadata": {},
   "outputs": [],
   "source": [
    "li=[1,2,3,8,9]\n",
    "li.append([4,5,6,7])\n",
    "print(li)"
   ]
  },
  {
   "cell_type": "code",
   "execution_count": null,
   "id": "0921846b-a7f4-4970-9fad-b920c4616c91",
   "metadata": {},
   "outputs": [],
   "source": [
    "O=[1,2]\n",
    ">>> O.insert(3,4)\n",
    ">>> print(O)\n",
    "[1, 2, 4]\n",
    ">>> O.insert(0,6)\n",
    ">>> print(O)\n",
    "[6, 1, 2, 4]\n",
    ">>> list=['vit',4]\n",
    ">>> O.append(list)\n",
    ">>> print(O)\n",
    "[6, 1, 2, 4, ['vit', 4]]"
   ]
  },
  {
   "cell_type": "code",
   "execution_count": null,
   "id": "3a516560-0fdf-4f95-af51-b727d95dc189",
   "metadata": {},
   "outputs": [],
   "source": [
    "#element in one of the bracket\n",
    "l4[1].insert(4,123456789)\n",
    "l4"
   ]
  },
  {
   "cell_type": "code",
   "execution_count": null,
   "id": "abee9969-bcd3-4a2b-8f5a-4870bf8fd494",
   "metadata": {},
   "outputs": [],
   "source": [
    "list=[1,2,[3],4]\n",
    "list"
   ]
  },
  {
   "cell_type": "code",
   "execution_count": null,
   "id": "49d87c88-c7d1-443d-b96f-4a76621f8afd",
   "metadata": {},
   "outputs": [],
   "source": [
    "list.extend([8,'vit','chennai'])\n",
    "list"
   ]
  },
  {
   "cell_type": "code",
   "execution_count": null,
   "id": "e4131052-1b0b-460c-ba96-bbc9f255c5d4",
   "metadata": {},
   "outputs": [],
   "source": [
    "list.append([8,'vit','chennai'])\n",
    "list"
   ]
  },
  {
   "cell_type": "code",
   "execution_count": null,
   "id": "ada794b3-05ff-4555-88a1-255cd1a3154a",
   "metadata": {},
   "outputs": [],
   "source": [
    "print(list[-1][-1])\n",
    "print(list[-3])"
   ]
  },
  {
   "cell_type": "code",
   "execution_count": null,
   "id": "fc511340-37d7-4e03-baef-3381b16aa7c1",
   "metadata": {},
   "outputs": [],
   "source": [
    "list.remove(8)\n",
    "list"
   ]
  },
  {
   "cell_type": "code",
   "execution_count": null,
   "id": "f355244c-d714-4f90-955b-2dabef1e33f7",
   "metadata": {},
   "outputs": [],
   "source": [
    "l=[1,1,2,2,3,3,4,4,5,5,5,6,6,7,8,9,10,11]\n",
    "l"
   ]
  },
  {
   "cell_type": "code",
   "execution_count": null,
   "id": "bdaa17e1-33f5-42d3-83ac-edbf26af1b72",
   "metadata": {},
   "outputs": [],
   "source": [
    "l.remove(5)\n",
    "l.remove(6)\n",
    "l"
   ]
  },
  {
   "cell_type": "code",
   "execution_count": null,
   "id": "208a2be9-2ce5-41b4-a59d-ba932f8c4deb",
   "metadata": {},
   "outputs": [],
   "source": [
    "for i in range(1,6):\n",
    "    l.remove(i)\n",
    "l"
   ]
  },
  {
   "cell_type": "code",
   "execution_count": null,
   "id": "16e5fbc6-77f0-4fdc-b7b3-c04ed9e15a3e",
   "metadata": {},
   "outputs": [],
   "source": [
    "list=[1,2,3,4,5]\n",
    "list.pop()\n",
    "list"
   ]
  },
  {
   "cell_type": "code",
   "execution_count": null,
   "id": "3c10bcf7-74c0-4c22-9197-31796f2a0cf3",
   "metadata": {},
   "outputs": [],
   "source": [
    "#pop for position not number\n",
    "list.pop(2)\n",
    "list"
   ]
  },
  {
   "cell_type": "code",
   "execution_count": null,
   "id": "f0cc0cd1-ec48-4ba9-8df3-cb601e2c15c3",
   "metadata": {},
   "outputs": [],
   "source": [
    "l=['a','b','c','d','e','f','g','h','i','j','k']\n",
    "l"
   ]
  },
  {
   "cell_type": "code",
   "execution_count": null,
   "id": "a3fc1063-5c97-4900-84af-e198443fc91f",
   "metadata": {},
   "outputs": [],
   "source": [
    "sliced_list=l[3:8]\n",
    "sliced_list"
   ]
  },
  {
   "cell_type": "code",
   "execution_count": null,
   "id": "80347092-0e81-443c-99b6-78c92d1c0296",
   "metadata": {},
   "outputs": [],
   "source": [
    "sliced_list=l[5:]\n",
    "sliced_list"
   ]
  },
  {
   "cell_type": "code",
   "execution_count": null,
   "id": "0a62bcee-3967-4bb2-b82f-5c3141360350",
   "metadata": {},
   "outputs": [],
   "source": [
    "sliced_list=l[:]\n",
    "sliced_list"
   ]
  },
  {
   "cell_type": "code",
   "execution_count": null,
   "id": "b1155d48-f359-4b96-91fe-aec735690f2e",
   "metadata": {},
   "outputs": [],
   "source": [
    "#reverse\n",
    "sliced_list=l[::-1]\n",
    "sliced_list"
   ]
  },
  {
   "cell_type": "code",
   "execution_count": null,
   "id": "52ad63a0-e7fa-4882-89e5-8180eb0db883",
   "metadata": {},
   "outputs": [],
   "source": [
    "l1=[1,2,3,4,5,6]\n",
    "l1[2]=111\n",
    "l1"
   ]
  },
  {
   "cell_type": "code",
   "execution_count": null,
   "id": "5121d86c-54b5-4e39-9ebc-4e690e097fe3",
   "metadata": {},
   "outputs": [],
   "source": [
    "del l1[5]\n",
    "l1"
   ]
  },
  {
   "cell_type": "code",
   "execution_count": null,
   "id": "b4653c56-480b-468a-bf9d-4870fe302650",
   "metadata": {},
   "outputs": [],
   "source": [
    "len([1,2,3])"
   ]
  },
  {
   "cell_type": "code",
   "execution_count": null,
   "id": "39041e77-2ca3-47ba-959d-2a276400e1ea",
   "metadata": {},
   "outputs": [],
   "source": [
    "[1,2,3]+[4,5,6]"
   ]
  },
  {
   "cell_type": "code",
   "execution_count": null,
   "id": "9662ed55-2cf5-4920-aac8-90254141bed2",
   "metadata": {},
   "outputs": [],
   "source": [
    "['hi','olo']*4"
   ]
  },
  {
   "cell_type": "code",
   "execution_count": null,
   "id": "7ede2ecb-cf64-413d-8a02-7fb69ed00222",
   "metadata": {},
   "outputs": [],
   "source": [
    "3 in [1,2,3]"
   ]
  },
  {
   "cell_type": "code",
   "execution_count": null,
   "id": "e484551b-8941-4f5b-9d6c-d2a9d1ada2eb",
   "metadata": {},
   "outputs": [],
   "source": [
    "for x in [1,2,3]:\n",
    "    print(x,end='')"
   ]
  },
  {
   "cell_type": "code",
   "execution_count": null,
   "id": "10708fbb-e5c4-4251-a16b-5464753c6151",
   "metadata": {},
   "outputs": [],
   "source": [
    "res = [c*4 for c in 'HELLO']\n",
    "res"
   ]
  },
  {
   "cell_type": "code",
   "execution_count": null,
   "id": "92ebfb79-27f7-4ef1-9583-c927bedec913",
   "metadata": {},
   "outputs": [],
   "source": [
    "res=[]\n",
    "for c in 'HELLO':\n",
    "    res.append(c*4)\n",
    "res"
   ]
  },
  {
   "cell_type": "code",
   "execution_count": null,
   "id": "f8b15455-edb9-401e-8970-63705a311457",
   "metadata": {},
   "outputs": [],
   "source": [
    "n=6\n",
    "res=[]\n",
    "res=[9 for c in range(0,7)]\n",
    "res"
   ]
  },
  {
   "cell_type": "code",
   "execution_count": null,
   "id": "7bef5d86-cc80-42c4-bbdc-ddb2558d102a",
   "metadata": {},
   "outputs": [],
   "source": [
    "#abs convert all -ve no. to positive no.\n",
    "list(map(abs,[-1,-2,0,1,2]))"
   ]
  },
  {
   "cell_type": "code",
   "execution_count": null,
   "id": "3bf14343-0ced-4b91-93ec-039348f77d44",
   "metadata": {},
   "outputs": [],
   "source": [
    "l=[1,2,3]\n",
    "l[1:2]=[4,5,6]\n",
    "l"
   ]
  },
  {
   "cell_type": "code",
   "execution_count": null,
   "id": "5d51e889-3c0b-473f-a022-9e5d95841386",
   "metadata": {},
   "outputs": [],
   "source": [
    "l[1]=[2222]\n",
    "l"
   ]
  },
  {
   "cell_type": "code",
   "execution_count": null,
   "id": "eb5b57e1-7db9-4c09-a628-f8705df0cd18",
   "metadata": {},
   "outputs": [],
   "source": [
    "l[1:1]=[2222]\n",
    "l"
   ]
  },
  {
   "cell_type": "code",
   "execution_count": null,
   "id": "dccfcb9f-15e0-4775-a811-228aa551a397",
   "metadata": {},
   "outputs": [],
   "source": [
    "l[2:3]=[]\n",
    "l"
   ]
  },
  {
   "cell_type": "code",
   "execution_count": null,
   "id": "d5a756f9-d8b5-482c-a23b-4f426d3f9990",
   "metadata": {},
   "outputs": [],
   "source": [
    "l=[1]\n",
    "l[:0]=[2,3,4]\n",
    "l"
   ]
  },
  {
   "cell_type": "code",
   "execution_count": null,
   "id": "8f1b8f13-6341-485b-96e8-aa98be58829d",
   "metadata": {},
   "outputs": [],
   "source": [
    "#len(l) here means that entire list that is last position\n",
    "l[len(l):]=[5,6,7]\n",
    "l"
   ]
  },
  {
   "cell_type": "code",
   "execution_count": null,
   "id": "cdce7e63-da53-4af1-91c0-b1d19f86cab8",
   "metadata": {},
   "outputs": [],
   "source": [
    "l=['abc','ABD','aBe','a','c','b','a']\n",
    "l.sort()\n",
    "l"
   ]
  },
  {
   "cell_type": "code",
   "execution_count": null,
   "id": "b3959a2b-2c04-447f-aada-7d8e01db8c77",
   "metadata": {},
   "outputs": [],
   "source": [
    "l=['abc','ABD','aBe','a','c','b']\n",
    "l.sort(key=str.lower, reverse=True)\n",
    "l"
   ]
  },
  {
   "cell_type": "code",
   "execution_count": null,
   "id": "dd1f55be-3120-42e5-99ae-cb967ed49183",
   "metadata": {},
   "outputs": [],
   "source": [
    "l=[1,2,3,4,1,5]\n",
    "l.sort()\n",
    "l"
   ]
  },
  {
   "cell_type": "code",
   "execution_count": null,
   "id": "64dbf3d0-1a8a-481e-9213-f7bfb116ef34",
   "metadata": {},
   "outputs": [],
   "source": [
    "l=['abc','aBe','ABD','a','c','b']\n",
    "l.sort(key=str.lower, reverse=True)\n",
    "a=\" \".join(l)\n",
    "print(a)"
   ]
  },
  {
   "cell_type": "code",
   "execution_count": null,
   "id": "d45537e8-695d-436d-a466-472b83e0e576",
   "metadata": {},
   "outputs": [],
   "source": [
    "l=[1,2,3,4,5,6]\n",
    "a=\" \".join(l)\n",
    "a"
   ]
  },
  {
   "cell_type": "code",
   "execution_count": null,
   "id": "5df4b804-26f4-46e9-88ef-9649050298d6",
   "metadata": {},
   "outputs": [],
   "source": [
    "l=[1,2,3,4,6,5]\n",
    "l.reverse()\n",
    "l"
   ]
  },
  {
   "cell_type": "code",
   "execution_count": null,
   "id": "0ec6c15b-7d4e-4af2-bca5-5cbdaf1591f7",
   "metadata": {},
   "outputs": [],
   "source": [
    "l1 = [1,2,4,6,5]\n",
    "print(list(reversed(l1)))"
   ]
  },
  {
   "cell_type": "code",
   "execution_count": null,
   "id": "dda6b2c3-f850-422c-a47c-a92d3a7dc989",
   "metadata": {},
   "outputs": [],
   "source": [
    "l8=['aaa','bbb','ccc']\n",
    "l8.index('bbb')"
   ]
  },
  {
   "cell_type": "code",
   "execution_count": null,
   "id": "83170401-8d0f-4e05-8a5a-de92d834f56e",
   "metadata": {},
   "outputs": [],
   "source": [
    "l8.insert(1,'abc')\n",
    "l8"
   ]
  },
  {
   "cell_type": "code",
   "execution_count": null,
   "id": "e94872bb-eb7c-4224-8323-1bf4b25fe74e",
   "metadata": {},
   "outputs": [],
   "source": [
    "l8.remove('aaa')\n",
    "l8"
   ]
  },
  {
   "cell_type": "code",
   "execution_count": null,
   "id": "b71ac0d0-b393-4d13-8c87-edf5208ce148",
   "metadata": {},
   "outputs": [],
   "source": [
    "l=[1,2,3,3,2,4,6,7,3,3,4,3,3]\n",
    "l.count(3)"
   ]
  },
  {
   "cell_type": "code",
   "execution_count": null,
   "id": "ddf30082-bd6f-40fd-b277-f192a209cb2c",
   "metadata": {},
   "outputs": [],
   "source": [
    "l=[1,2,3,4,5,6,7,8,9]\n",
    "del l[3:]\n",
    "l"
   ]
  },
  {
   "cell_type": "code",
   "execution_count": null,
   "id": "93ef0a49-5e69-46cf-aa08-3ae471643228",
   "metadata": {},
   "outputs": [],
   "source": [
    "l=[2**3,3**2]\n",
    "max(l)"
   ]
  },
  {
   "cell_type": "code",
   "execution_count": null,
   "id": "c293100e-9529-473b-8a30-177c7723882b",
   "metadata": {},
   "outputs": [],
   "source": [
    "n=int(input())\n",
    "l2=[]\n",
    "for i in range(0,n):\n",
    "    points=int(input())\n",
    "    l2.append(points)\n",
    "print(l2)"
   ]
  },
  {
   "cell_type": "code",
   "execution_count": null,
   "id": "947430d1-49bf-4072-acc9-a87ac6c21245",
   "metadata": {},
   "outputs": [],
   "source": [
    "l1=[[1,2,3],[4,5,6],[7,8,9]]\n",
    "l1[1][1]"
   ]
  },
  {
   "cell_type": "code",
   "execution_count": null,
   "id": "7a32ac67-2df7-4367-bba7-45d9ccd7bb05",
   "metadata": {},
   "outputs": [],
   "source": [
    "a=[[1,2,3,4],[5,6],[7,8,9]]\n",
    "for i in range(len(a)):\n",
    "    for j in range(len(a[i])):\n",
    "        print(a[i][j],end=' ')\n",
    "    print()   "
   ]
  },
  {
   "cell_type": "code",
   "execution_count": null,
   "id": "d24855e5-c043-4006-978f-026580d562af",
   "metadata": {},
   "outputs": [],
   "source": [
    "a=[[1,2,3,4],[5,6],[7,8,9]]\n",
    "for row in a:\n",
    "    for elem in row:\n",
    "        print(elem,end=' ')\n",
    "    print()"
   ]
  },
  {
   "cell_type": "code",
   "execution_count": null,
   "id": "922b5690-1f2b-484f-971f-2da8420186e2",
   "metadata": {},
   "outputs": [],
   "source": [
    "a=[[1,2,3,4],[5,6],[7,8,9]]\n",
    "s=0\n",
    "for i in range(len(a)):\n",
    "    for j in range(len(a[i])):\n",
    "        s+=a[i][j]\n",
    "print(s)"
   ]
  },
  {
   "cell_type": "code",
   "execution_count": null,
   "id": "240ad8b0-8511-4d5d-8641-4f715999e831",
   "metadata": {},
   "outputs": [],
   "source": [
    "a=[[1,2,3],[4,5,6],[7,8,9]]\n",
    "for i in range(len(a)):\n",
    "    for j in range(len(a[i])):\n",
    "        if(i==j):\n",
    "            print(a[i][j])"
   ]
  },
  {
   "cell_type": "code",
   "execution_count": null,
   "id": "21ce1e9e-af76-494d-9e13-46b59234876b",
   "metadata": {},
   "outputs": [],
   "source": [
    "a=[[1,2,3],[4,5,6],[7,8,9]]\n",
    "for i in range(len(a)):\n",
    "    for j in range(len(a[i])):\n",
    "        if((i+j)==(len(a)-1)):\n",
    "            print(a[i][j])"
   ]
  },
  {
   "cell_type": "code",
   "execution_count": null,
   "id": "e10c1cfe-e152-440c-83ef-c0f4ddec36bb",
   "metadata": {},
   "outputs": [],
   "source": [
    "a=[[1,2,3],[4,5,6],[7,8,9]]\n",
    "b=[[1,2,3],[4,5,6],[7,8,9]]\n",
    "c=a+b\n",
    "print(c)"
   ]
  },
  {
   "cell_type": "code",
   "execution_count": null,
   "id": "68db2e66-6087-4d09-99ab-986ec7576682",
   "metadata": {},
   "outputs": [],
   "source": [
    "a=[[1,2,3],[4,5,6],[7,8,9]]\n",
    "b=[[1,2,3],[4,5,6],[7,8,9]]\n",
    "for i in range(0,len(a)):\n",
    "    for j in range(0,len(b)):\n",
    "        c[i][j]=a[i][j]+b[i][j]\n",
    "print(c)"
   ]
  },
  {
   "cell_type": "code",
   "execution_count": null,
   "id": "63751349-80c4-4902-81ef-a44d2fd82918",
   "metadata": {},
   "outputs": [],
   "source": [
    "a=[[1,2,3],[4,5,6],[7,8,9]]\n",
    "b=[[2,3,4],[5,6,7],[8,9,10]]\n",
    "c=[[0 for x in range(3)] for x in range(3)]\n",
    "print(c)\n",
    "for i in range(0,len(a)):\n",
    "    for j in range(0,len(b)):\n",
    "        c[i][j]=a[i][j]+b[i][j]\n",
    "print(c)\n",
    "print(d)"
   ]
  },
  {
   "cell_type": "code",
   "execution_count": null,
   "id": "7ee5bcad-5ef2-4905-94d7-4bb0eaf2bc38",
   "metadata": {},
   "outputs": [],
   "source": [
    "a='spammy'\n",
    "l=list(a)\n",
    "l"
   ]
  },
  {
   "cell_type": "code",
   "execution_count": null,
   "id": "373b5087-7d9e-46de-b174-a851b5a29c4f",
   "metadata": {},
   "outputs": [],
   "source": [
    "l[3]='t'\n",
    "l[4]='t'\n",
    "l"
   ]
  },
  {
   "cell_type": "code",
   "execution_count": null,
   "id": "0490d140-2e68-4ad8-af8d-1f2ba101ba21",
   "metadata": {},
   "outputs": [],
   "source": [
    "a='l'.join(l)\n",
    "a"
   ]
  },
  {
   "cell_type": "code",
   "execution_count": null,
   "id": "18733f1f-ed36-417d-9834-3f96371b8af1",
   "metadata": {},
   "outputs": [],
   "source": [
    "k=[123,'abc',1.23,{}]\n",
    "for i in range(len(k)):\n",
    "    a=k[i]\n",
    "    print(a)"
   ]
  },
  {
   "cell_type": "code",
   "execution_count": null,
   "id": "0bfa335e-a847-4ee9-b65f-3112fab283c1",
   "metadata": {},
   "outputs": [],
   "source": [
    "l=list(range(-4,4))\n",
    "l.reverse()\n",
    "l"
   ]
  },
  {
   "cell_type": "code",
   "execution_count": null,
   "id": "68165292-5072-4448-9178-9c32827ddde7",
   "metadata": {},
   "outputs": [],
   "source": [
    "l.clear()\n",
    "l"
   ]
  },
  {
   "cell_type": "code",
   "execution_count": null,
   "id": "fa2f4c30-d81f-4906-81ae-b39f4a1d71dc",
   "metadata": {},
   "outputs": [],
   "source": []
  },
  {
   "cell_type": "code",
   "execution_count": null,
   "id": "f5e283f2-c3f6-4be2-a257-b040cde674dd",
   "metadata": {
    "tags": []
   },
   "outputs": [],
   "source": [
    "tup1=('phy','chem',1997,2000)\n",
    "tup2=(1,2,3,4,5)\n",
    "tup3=\"a\",\"b\",\"c\",\"d\"\n",
    "print(tup1)\n",
    "print(tup2)\n",
    "print(tup3)"
   ]
  },
  {
   "cell_type": "code",
   "execution_count": null,
   "id": "b5621ce9-b683-40e2-a849-b2c72af3d044",
   "metadata": {},
   "outputs": [],
   "source": [
    "\"\"\"tup1()\n",
    "a=(50)\n",
    "tup1=(50,)\"\"\"\n",
    "print(\"tup1[0]:\",tup1[0])\n",
    "print(\"tup2[1:5]:\",tup2[1:5])"
   ]
  },
  {
   "cell_type": "code",
   "execution_count": null,
   "id": "60880f38-e4a5-40bf-8b91-7dc9288b0b15",
   "metadata": {},
   "outputs": [],
   "source": [
    "(1,2)+(3,4)"
   ]
  },
  {
   "cell_type": "code",
   "execution_count": null,
   "id": "2d9f80eb-3db3-41c4-a64d-fb34a85b303f",
   "metadata": {},
   "outputs": [],
   "source": [
    "(1,2)*4"
   ]
  },
  {
   "cell_type": "code",
   "execution_count": null,
   "id": "cdd83414-c305-49ea-a7e0-d4893db97801",
   "metadata": {},
   "outputs": [],
   "source": [
    "t=(1,2,3,4)\n",
    "print(t[0],t[1:3])"
   ]
  },
  {
   "cell_type": "code",
   "execution_count": null,
   "id": "5555c881-b2e4-48d8-98a4-cdf7d53fdc28",
   "metadata": {},
   "outputs": [],
   "source": [
    "#list to tuple\n",
    "tmp=['aa','ee','cc','dd']\n",
    "t=tuple(tmp)\n",
    "t"
   ]
  },
  {
   "cell_type": "code",
   "execution_count": null,
   "id": "28f0e727-b1b5-4e67-bbf3-9256eb2ca171",
   "metadata": {},
   "outputs": [],
   "source": [
    "#sorted will convert to list and also sort it\n",
    "sorted(t)"
   ]
  },
  {
   "cell_type": "code",
   "execution_count": null,
   "id": "5c136288-a426-4bbb-9b65-bc6a46aa5e74",
   "metadata": {},
   "outputs": [],
   "source": [
    "#list convert to list\n",
    "list(t)"
   ]
  },
  {
   "cell_type": "code",
   "execution_count": null,
   "id": "e57f5467-291d-4117-935a-ad387ed32512",
   "metadata": {},
   "outputs": [],
   "source": [
    "#tuple and ans in  list\n",
    "t=(1,2,3,4,5)\n",
    "l=[x+20 for x in t]\n",
    "l"
   ]
  },
  {
   "cell_type": "code",
   "execution_count": null,
   "id": "a8b8c5f8-e693-4612-a128-b51ddf69fe81",
   "metadata": {},
   "outputs": [],
   "source": [
    "#in list\n",
    "l=[]\n",
    "for x in t:\n",
    "    l.append(x+20)\n",
    "l"
   ]
  },
  {
   "cell_type": "code",
   "execution_count": null,
   "id": "c785301d-c500-4844-b583-05b324e26411",
   "metadata": {},
   "outputs": [],
   "source": [
    "t=(1,2,3,2,4,2)\n",
    "print(t.index(2))\n",
    "print(t.index(2,2))\n",
    "print(t.count(2))\n",
    "print(t[3])"
   ]
  },
  {
   "cell_type": "code",
   "execution_count": null,
   "id": "4f44f606-c2ad-4a7c-94f7-324a9453b932",
   "metadata": {},
   "outputs": [],
   "source": [
    "# tuple with mutable list in immutable tuple\n",
    "t=(1,[2,3],4)"
   ]
  },
  {
   "cell_type": "code",
   "execution_count": null,
   "id": "10c2f5d2-f45f-44de-bb04-6ede40d060fa",
   "metadata": {
    "collapsed": true,
    "jupyter": {
     "outputs_hidden": true
    },
    "tags": []
   },
   "outputs": [],
   "source": [
    "#will not work\n",
    "t[1]='spam'\n",
    "t"
   ]
  },
  {
   "cell_type": "code",
   "execution_count": null,
   "id": "b60382c5-26ee-4f9e-a273-e84651b5ccbf",
   "metadata": {},
   "outputs": [],
   "source": [
    "#this will work\n",
    "t[1][0]='spam'\n",
    "t"
   ]
  },
  {
   "cell_type": "code",
   "execution_count": null,
   "id": "3294fde9-d0a7-4d34-85f0-2325046a0529",
   "metadata": {},
   "outputs": [],
   "source": [
    "bob=('Bob',40.5,['dev','mgr'])\n",
    "bob[0],bob[2]"
   ]
  },
  {
   "cell_type": "code",
   "execution_count": null,
   "id": "c73052ec-c2c4-4320-9008-ffea05401ee7",
   "metadata": {},
   "outputs": [],
   "source": [
    "bob=dict(name='Bob',age=40.5,jobs=['dev','mgr'])\n",
    "bob"
   ]
  },
  {
   "cell_type": "code",
   "execution_count": null,
   "id": "0d440c67-5c29-4d86-8558-f59099938652",
   "metadata": {},
   "outputs": [],
   "source": [
    "bob['name'],bob['jobs']"
   ]
  },
  {
   "cell_type": "code",
   "execution_count": null,
   "id": "9d75f1d5-1e9b-4b24-876a-2da5f4545284",
   "metadata": {},
   "outputs": [],
   "source": [
    "tuple(bob.items())"
   ]
  },
  {
   "cell_type": "code",
   "execution_count": null,
   "id": "30b26b8a-6818-4fef-8daa-2b64d5d0e0e3",
   "metadata": {},
   "outputs": [],
   "source": [
    "list(bob.items())"
   ]
  },
  {
   "cell_type": "code",
   "execution_count": null,
   "id": "82af90c8-27d3-4aa6-9227-5c0295f33fca",
   "metadata": {},
   "outputs": [],
   "source": [
    "tup1=(12,34.56)\n",
    "tup2=('abc','xyz')"
   ]
  },
  {
   "cell_type": "code",
   "execution_count": null,
   "id": "6991d3cf-d655-4090-8440-969a9d9b431b",
   "metadata": {},
   "outputs": [],
   "source": [
    "tup3=tup1+tup2\n",
    "tup3"
   ]
  },
  {
   "cell_type": "code",
   "execution_count": null,
   "id": "e859571f-6a98-4a16-b5da-e7a6f541e879",
   "metadata": {
    "collapsed": true,
    "jupyter": {
     "outputs_hidden": true
    },
    "tags": []
   },
   "outputs": [],
   "source": [
    "tup11=('phy','chem',1997,2000)\n",
    "print(tup11)\n",
    "del tup11;\n",
    "print(\"after del tup:\")\n",
    "print(tup11)"
   ]
  },
  {
   "cell_type": "code",
   "execution_count": null,
   "id": "ea501f3c-0e24-45db-b890-8cf40964a38b",
   "metadata": {},
   "outputs": [],
   "source": [
    "t=('foo','bar','baz','qux')\n",
    "print(t)\n",
    "print(t[0])\n",
    "print(t[-1])"
   ]
  },
  {
   "cell_type": "code",
   "execution_count": null,
   "id": "88789b61-8d55-4f9b-b9ae-79f939607b46",
   "metadata": {},
   "outputs": [],
   "source": [
    "#packing and unpacking\n",
    "(s1,s2,s3,s4)=t\n",
    "print(s1)\n",
    "print(s2)\n",
    "print(s3)"
   ]
  },
  {
   "cell_type": "code",
   "execution_count": null,
   "id": "9825c665-53f1-43b9-b092-15b754debb8f",
   "metadata": {},
   "outputs": [],
   "source": [
    "(s1,s2,s3,s4)=('foo','bar','baz','qux')\n",
    "print(s1)\n",
    "print(s2)\n",
    "print(s3)\n",
    "print(s4)"
   ]
  },
  {
   "cell_type": "code",
   "execution_count": null,
   "id": "9b647a01-f5b8-4de7-8839-56c79657cfc5",
   "metadata": {},
   "outputs": [],
   "source": [
    "tup1,tup2=(123,222,'xyz'),(456,999,'abc')\n",
    "len(tup1)"
   ]
  },
  {
   "cell_type": "code",
   "execution_count": null,
   "id": "1bfadd87-bbfe-4c06-aa84-05503166d2a6",
   "metadata": {},
   "outputs": [],
   "source": [
    "t1=(1,2,3,9,5)\n",
    "print(max(t1))\n",
    "print(min(t1))"
   ]
  },
  {
   "cell_type": "code",
   "execution_count": null,
   "id": "bdbe048a-13ad-49f9-ac05-8e62caaa5fa4",
   "metadata": {},
   "outputs": [],
   "source": [
    "t2=tuple([2,4])\n",
    "t2"
   ]
  },
  {
   "cell_type": "code",
   "execution_count": null,
   "id": "c2814e3d-18d4-4fb1-bfef-b56b0ff333a2",
   "metadata": {
    "jupyter": {
     "source_hidden": true
    },
    "tags": []
   },
   "outputs": [],
   "source": [
    "mat=int(input())\n",
    "phy=int(input())\n",
    "chem=int(input())\n",
    "cs=int(input())\n"
   ]
  },
  {
   "cell_type": "code",
   "execution_count": null,
   "id": "924cbd64-ce91-4c79-bbb4-d0a1ea5e7283",
   "metadata": {
    "tags": []
   },
   "outputs": [],
   "source": [
    "lab_Reading = { }\n",
    "for i in range(0,5):\n",
    "    test_Name=input()\n",
    "    min=float(input())\n",
    "    max=float(input())\n",
    "    lab_Reading[test_Name]=(min,max)\n",
    "print(lab_Reading)\n",
    "#Read name of test\n",
    "chk_Test=input()\n",
    "#read observed value of test\n",
    "obs_Value=float(input())\n",
    "#find range of value for the specified test\n",
    "range_Test=lab_Reading[chk_Test]\n",
    "min=range_Test[0]\n",
    "max=range_Test[1]\n",
    "if min<obs_Value<max:\n",
    "    print('Normal')\n",
    "else:\n",
    "    print('Abnormal')"
   ]
  },
  {
   "cell_type": "code",
   "execution_count": null,
   "id": "4fe86001-86b3-469c-90a8-2837b3e725cd",
   "metadata": {},
   "outputs": [],
   "source": [
    "li=[int]*4\n",
    "print(\"Enter\")\n",
    "for i in range(4):\n",
    "    li[i]=int(input())\n",
    "\n",
    "tup=tuple(li)\n",
    "s=tup[0]+tup[1]+tup[2]+tup[3]\n",
    "print(s)"
   ]
  },
  {
   "cell_type": "code",
   "execution_count": null,
   "id": "b52f6c0f-ad82-45fb-a3a3-6eaca962dc22",
   "metadata": {},
   "outputs": [],
   "source": []
  },
  {
   "cell_type": "code",
   "execution_count": null,
   "id": "1070c0f8-cd0b-4d58-b1bc-154779d8381d",
   "metadata": {},
   "outputs": [],
   "source": [
    "#every dict should have a key and its value"
   ]
  },
  {
   "cell_type": "code",
   "execution_count": null,
   "id": "11312530-ce14-4719-bfc4-96724a8c7308",
   "metadata": {},
   "outputs": [],
   "source": [
    "#empty\n",
    "dictname={}\n",
    "dictname"
   ]
  },
  {
   "cell_type": "code",
   "execution_count": null,
   "id": "eb520657-3dcd-4942-952f-125a6f52eb38",
   "metadata": {},
   "outputs": [],
   "source": [
    "mydict={1:'choco',\n",
    "       2:'ice'}\n",
    "mycourse={'ms':'python','it':'c',\n",
    "          'cse':'c++','mca':'java'}\n",
    "mycircle={'aaa':9999,\n",
    "          'bbb':1234}"
   ]
  },
  {
   "cell_type": "code",
   "execution_count": null,
   "id": "06f0678a-a7b7-46ae-93ab-8694646f970d",
   "metadata": {},
   "outputs": [],
   "source": [
    "#dict works on key and not on value (i.e position in it)\n",
    "print(mydict[1])\n",
    "print(mycourse['cse'])"
   ]
  },
  {
   "cell_type": "code",
   "execution_count": null,
   "id": "4a39d76a-3097-4e06-b067-f29926fad405",
   "metadata": {},
   "outputs": [],
   "source": [
    "mydict[1]='pizza'\n",
    "mycourse['mca']='uml'\n",
    "print(mydict[1])\n",
    "print(mycourse['mca'])"
   ]
  },
  {
   "cell_type": "code",
   "execution_count": null,
   "id": "aa535dc1-6964-4ce2-990b-73103555f67c",
   "metadata": {},
   "outputs": [],
   "source": [
    "print(mydict)"
   ]
  },
  {
   "cell_type": "code",
   "execution_count": null,
   "id": "661da4a1-5b99-4d77-876a-4d29711fde48",
   "metadata": {},
   "outputs": [],
   "source": [
    "del mycourse['it']\n",
    "print(mycourse)"
   ]
  },
  {
   "cell_type": "code",
   "execution_count": null,
   "id": "2246764a-ed90-49ee-b7ba-23dcefad4b52",
   "metadata": {},
   "outputs": [],
   "source": [
    "mycourse.clear()\n",
    "print(mycourse)"
   ]
  },
  {
   "cell_type": "code",
   "execution_count": null,
   "id": "85bdc60c-4056-4ac7-9fb6-0d6d604c9971",
   "metadata": {},
   "outputs": [],
   "source": [
    "del mycourse\n",
    "print(mycourse)"
   ]
  },
  {
   "cell_type": "code",
   "execution_count": null,
   "id": "1e06ed43-df03-47c8-9d95-acc57ab52700",
   "metadata": {},
   "outputs": [],
   "source": [
    "d={'spam':2,'ham':1,'eggs':3}"
   ]
  },
  {
   "cell_type": "code",
   "execution_count": null,
   "id": "1f4f17b7-2827-4172-9a9b-b037c582f85b",
   "metadata": {},
   "outputs": [],
   "source": [
    "list(d.values())"
   ]
  },
  {
   "cell_type": "code",
   "execution_count": null,
   "id": "a4eb7d83-c082-4d04-89f1-281771a502b3",
   "metadata": {},
   "outputs": [],
   "source": [
    "list(d.items())"
   ]
  },
  {
   "cell_type": "code",
   "execution_count": null,
   "id": "b09bc7f0-b6b1-434e-b58c-252d3b8713d5",
   "metadata": {},
   "outputs": [],
   "source": [
    "d.get('spam')"
   ]
  },
  {
   "cell_type": "code",
   "execution_count": null,
   "id": "d82eb251-96b4-4bdf-81e2-ffea8dec2116",
   "metadata": {},
   "outputs": [],
   "source": [
    "list(d.get('toast'))"
   ]
  },
  {
   "cell_type": "code",
   "execution_count": null,
   "id": "88f46646-5cbb-4788-851b-fb43518ff0fc",
   "metadata": {},
   "outputs": [],
   "source": [
    "d.get('toast',88)"
   ]
  },
  {
   "cell_type": "code",
   "execution_count": null,
   "id": "99919038-e3eb-4830-b7bc-d57c56ff113e",
   "metadata": {},
   "outputs": [],
   "source": [
    "len(d)"
   ]
  },
  {
   "cell_type": "code",
   "execution_count": null,
   "id": "78a6c3e2-2b0d-4bcc-9dc7-aa7056edc982",
   "metadata": {},
   "outputs": [],
   "source": [
    "d"
   ]
  },
  {
   "cell_type": "code",
   "execution_count": null,
   "id": "5e909bcc-ecc6-445d-ab2b-d05b6734c66c",
   "metadata": {},
   "outputs": [],
   "source": [
    "'ham' in d"
   ]
  },
  {
   "cell_type": "code",
   "execution_count": null,
   "id": "1d7c9136-ae3e-4329-bb14-ad87e5a3c93f",
   "metadata": {},
   "outputs": [],
   "source": [
    "#taking anly keys and forming a list\n",
    "print(list(d.keys()))\n",
    "#only values\n",
    "print(list(d.values()))"
   ]
  },
  {
   "cell_type": "code",
   "execution_count": null,
   "id": "a4f90cef-d4e2-4951-885b-f52431bad905",
   "metadata": {},
   "outputs": [],
   "source": [
    "d={'spam':2,'ham':1,'eggs':3}\n",
    "d2={'toast':4,'muffin':5}"
   ]
  },
  {
   "cell_type": "code",
   "execution_count": null,
   "id": "9f39bd3a-a4be-4a9a-be5f-f944259b437a",
   "metadata": {},
   "outputs": [],
   "source": [
    "d.update(d2)\n",
    "d"
   ]
  },
  {
   "cell_type": "code",
   "execution_count": null,
   "id": "dc5b2dac-28eb-482b-b134-4c11a86dcfd3",
   "metadata": {},
   "outputs": [],
   "source": [
    "d.pop('muffin')"
   ]
  },
  {
   "cell_type": "code",
   "execution_count": null,
   "id": "57a54794-3290-42b6-8245-4fbaff7f7a9d",
   "metadata": {},
   "outputs": [],
   "source": [
    "d.pop('toast')"
   ]
  },
  {
   "cell_type": "code",
   "execution_count": null,
   "id": "546962f3-41fa-472e-9e73-dcfab5ecc44e",
   "metadata": {},
   "outputs": [],
   "source": [
    "d"
   ]
  },
  {
   "cell_type": "code",
   "execution_count": null,
   "id": "3bb30237-2a11-4cc4-b9fd-52d0986c7aa5",
   "metadata": {},
   "outputs": [],
   "source": [
    "l=[]\n",
    "l[99]='spam'"
   ]
  },
  {
   "cell_type": "code",
   "execution_count": null,
   "id": "d0fdc96d-7015-4861-be32-ddc3fcfa5ad2",
   "metadata": {},
   "outputs": [],
   "source": [
    "d={}\n",
    "d[99]='spam'\n",
    "print(d)\n",
    "d={99:'spam'}\n",
    "d"
   ]
  },
  {
   "cell_type": "code",
   "execution_count": null,
   "id": "696aa768-4b1e-4831-a33d-2e3932a7272d",
   "metadata": {},
   "outputs": [],
   "source": [
    "rec={}\n",
    "rec['name']='bob'\n",
    "rec['age']=40.5\n",
    "rec['job']='dev/mana'\n",
    "rec['name']"
   ]
  },
  {
   "cell_type": "code",
   "execution_count": null,
   "id": "a64526a8-65a6-45e8-b5ba-017eed386216",
   "metadata": {},
   "outputs": [],
   "source": [
    "rec={'name':'bob',\n",
    "     'jobs':['dev','manager'],\n",
    "     'web':'www.abc.org/bob',\n",
    "     'home':{'state':'over','zip':1234}}\n",
    "print(rec['name'])\n",
    "print(rec['jobs'][1])\n",
    "print(rec['home']['zip'])"
   ]
  },
  {
   "cell_type": "code",
   "execution_count": null,
   "id": "bbb5f4fe-a71a-4603-bcdf-09668e68a560",
   "metadata": {},
   "outputs": [],
   "source": [
    "d={}\n",
    "d['name']='bob'\n",
    "d['age']=40\n",
    "d"
   ]
  },
  {
   "cell_type": "code",
   "execution_count": null,
   "id": "b3ded6d3-259f-42f1-bf76-1e182a1535f4",
   "metadata": {},
   "outputs": [],
   "source": [
    "dict(name='bob',age=40)"
   ]
  },
  {
   "cell_type": "code",
   "execution_count": null,
   "id": "a066373a-8188-4d72-b790-058739346eff",
   "metadata": {},
   "outputs": [],
   "source": [
    "dict([('name','bob'),('age',40)])"
   ]
  },
  {
   "cell_type": "code",
   "execution_count": null,
   "id": "c171cef5-48b5-4bfe-80d3-ce61026d677c",
   "metadata": {},
   "outputs": [],
   "source": [
    "d={k:v for (k,v) in zip(['a','b','c'],[1,2,3])}\n",
    "print(d)\n",
    "d={'b':2,'c':3,'a':1}\n",
    "print(d)\n",
    "d={x:x**2 for x in range(0,10,2)}\n",
    "d"
   ]
  },
  {
   "cell_type": "code",
   "execution_count": null,
   "id": "4a5c2342-c8f0-42b5-b2dd-9245c6add488",
   "metadata": {},
   "outputs": [],
   "source": [
    "n=int(input())\n",
    "d={n:n*n for n in range(0,n)}\n",
    "d"
   ]
  },
  {
   "cell_type": "code",
   "execution_count": null,
   "id": "1c0c4549-d259-406b-b284-8ab4119ab06e",
   "metadata": {},
   "outputs": [],
   "source": [
    "d={c:c*4 for c in 'spam'}\n",
    "d"
   ]
  },
  {
   "cell_type": "code",
   "execution_count": null,
   "id": "29795ae6-6a29-4550-a20a-50ec240e727a",
   "metadata": {},
   "outputs": [],
   "source": [
    "d={c.lower():c+'!' for c in ['SPAM','EGGS','HAM']}\n",
    "d"
   ]
  },
  {
   "cell_type": "code",
   "execution_count": null,
   "id": "647ffa97-1a17-4ef3-9946-912df2dbb83a",
   "metadata": {},
   "outputs": [],
   "source": [
    "d={'eggs':'EGGS!','spam':'SPAM!','ham':'HAM!'}\n",
    "d"
   ]
  },
  {
   "cell_type": "code",
   "execution_count": null,
   "id": "bd542766-f7fd-4e1a-8159-9731376e9a23",
   "metadata": {},
   "outputs": [],
   "source": [
    "d=dict.fromkeys(['a','b','c'],0)\n",
    "d"
   ]
  },
  {
   "cell_type": "code",
   "execution_count": null,
   "id": "4eae67b9-d93b-4151-8572-ec90fd8168b5",
   "metadata": {},
   "outputs": [],
   "source": [
    "d={'b':0,'c':0,'a':0}\n",
    "d"
   ]
  },
  {
   "cell_type": "code",
   "execution_count": null,
   "id": "409a650c-e157-468b-9312-ef3c34a8cc85",
   "metadata": {},
   "outputs": [],
   "source": [
    "d={k:0 for k in ['a','b','c']}\n",
    "d"
   ]
  },
  {
   "cell_type": "code",
   "execution_count": null,
   "id": "d579174e-a132-49e2-8b2d-1e15a7ac0ea7",
   "metadata": {},
   "outputs": [],
   "source": [
    "d=dict.fromkeys('spam')\n",
    "d"
   ]
  },
  {
   "cell_type": "code",
   "execution_count": null,
   "id": "7a902e4b-a4f3-43a9-a3ec-b5b1d3d9e87b",
   "metadata": {},
   "outputs": [],
   "source": [
    "d={k:'none' for k in 'spam'}\n",
    "d"
   ]
  },
  {
   "cell_type": "code",
   "execution_count": null,
   "id": "c33554ab-d007-45de-b253-997f98d8b62f",
   "metadata": {},
   "outputs": [],
   "source": []
  },
  {
   "cell_type": "code",
   "execution_count": null,
   "id": "bae17f2f-c47b-4e31-9a49-112ea3283cbe",
   "metadata": {},
   "outputs": [],
   "source": [
    "#sets in python\n",
    "#unordered collection\n",
    "#no duplicates\n",
    "#mutable (grow or shrink)\n",
    "#no indexing(positions)"
   ]
  },
  {
   "cell_type": "code",
   "execution_count": null,
   "id": "15ae34c3-adc1-44ec-9e30-3d6618d60580",
   "metadata": {},
   "outputs": [],
   "source": [
    "x1=set('spam')\n",
    "x1"
   ]
  },
  {
   "cell_type": "code",
   "execution_count": null,
   "id": "da725c80-26fb-4966-82b4-e1afe09f9c47",
   "metadata": {},
   "outputs": [],
   "source": [
    "x1.add('alot')\n",
    "x1"
   ]
  },
  {
   "cell_type": "code",
   "execution_count": null,
   "id": "854dc675-eb75-4009-8064-00bb0cb9fb58",
   "metadata": {},
   "outputs": [],
   "source": [
    "s1={1,2,3,4}"
   ]
  },
  {
   "cell_type": "code",
   "execution_count": null,
   "id": "f0f7ea57-32e0-4524-8f42-313bad121836",
   "metadata": {},
   "outputs": [],
   "source": [
    "#union\n",
    "s2={1,5,3,6}|s1\n",
    "s2"
   ]
  },
  {
   "cell_type": "code",
   "execution_count": null,
   "id": "70b3f7e0-db60-47bd-bb04-751caf8e85cf",
   "metadata": {},
   "outputs": [],
   "source": [
    "#intersection\n",
    "s2=s1&{1,3}\n",
    "s2"
   ]
  },
  {
   "cell_type": "code",
   "execution_count": null,
   "id": "9704c7bc-7ce1-4e00-997b-36915e4b0c4d",
   "metadata": {},
   "outputs": [],
   "source": [
    "s2=s1-{1,3,4}\n",
    "s2"
   ]
  },
  {
   "cell_type": "code",
   "execution_count": null,
   "id": "d172a571-d6d2-4b60-aa4d-c4c2795ffd19",
   "metadata": {},
   "outputs": [],
   "source": [
    "#super set\n",
    "s2=s1>{1,3}\n",
    "s2"
   ]
  },
  {
   "cell_type": "code",
   "execution_count": null,
   "id": "b6b97945-a435-4a19-a6ee-3ad13b022409",
   "metadata": {},
   "outputs": [],
   "source": [
    "#sub set\n",
    "s2=s1<{1,3}\n",
    "s2"
   ]
  },
  {
   "cell_type": "code",
   "execution_count": null,
   "id": "dd5efb0f-2754-4416-8771-7ad208ce3723",
   "metadata": {},
   "outputs": [],
   "source": [
    "s2=s1-{1,2,3,4}\n",
    "s2"
   ]
  },
  {
   "cell_type": "code",
   "execution_count": null,
   "id": "8bc0c163-5133-4afe-bb6c-b98bb9422780",
   "metadata": {},
   "outputs": [],
   "source": [
    "#{}empty dictinory "
   ]
  },
  {
   "cell_type": "code",
   "execution_count": null,
   "id": "130e992c-f97c-4201-bc32-a724b975bbb9",
   "metadata": {},
   "outputs": [],
   "source": [
    "{1,2,3}|{3,4}"
   ]
  },
  {
   "cell_type": "code",
   "execution_count": null,
   "id": "ba387869-983f-488a-926b-ddfafb25e2b0",
   "metadata": {},
   "outputs": [],
   "source": [
    "{1,2,3}|set([3,4])"
   ]
  },
  {
   "cell_type": "code",
   "execution_count": null,
   "id": "003d9efe-932f-42c5-8487-a312ada0431d",
   "metadata": {},
   "outputs": [],
   "source": [
    "#set with list with help of union\n",
    "{1,2,3}.union([3,4])"
   ]
  },
  {
   "cell_type": "code",
   "execution_count": null,
   "id": "a364c402-c77a-46a3-b1de-c4236cc70cd4",
   "metadata": {},
   "outputs": [],
   "source": [
    "{1,2,3}.union({3,4})"
   ]
  },
  {
   "cell_type": "code",
   "execution_count": null,
   "id": "5a9663d1-c8bc-4bc8-adc0-3cc117e3febd",
   "metadata": {},
   "outputs": [],
   "source": [
    "{1,2,3}.intersection([3,4])"
   ]
  },
  {
   "cell_type": "code",
   "execution_count": null,
   "id": "689b2678-f93d-4787-bc28-7b195a85495c",
   "metadata": {},
   "outputs": [],
   "source": [
    "#sets and tuples are close friends"
   ]
  },
  {
   "cell_type": "code",
   "execution_count": null,
   "id": "780caaf4-b507-46d0-a9c9-fc63b8167365",
   "metadata": {},
   "outputs": [],
   "source": [
    "s={1.23}"
   ]
  },
  {
   "cell_type": "code",
   "execution_count": null,
   "id": "c9915739-c0fc-4270-baf5-a3badcede824",
   "metadata": {
    "collapsed": true,
    "jupyter": {
     "outputs_hidden": true
    },
    "tags": []
   },
   "outputs": [],
   "source": [
    "s.add([1,2,3])"
   ]
  },
  {
   "cell_type": "code",
   "execution_count": null,
   "id": "45c4b796-5bd8-4d78-90f8-eb2889430ee0",
   "metadata": {
    "collapsed": true,
    "jupyter": {
     "outputs_hidden": true
    },
    "tags": []
   },
   "outputs": [],
   "source": [
    "s.add({'a':1})"
   ]
  },
  {
   "cell_type": "code",
   "execution_count": null,
   "id": "87950310-e4de-434f-b175-a86e15c333f4",
   "metadata": {},
   "outputs": [],
   "source": [
    "s.add((1,2,3))\n",
    "s"
   ]
  },
  {
   "cell_type": "code",
   "execution_count": null,
   "id": "e9600c0b-bc00-4885-8da0-c0974b6567bb",
   "metadata": {},
   "outputs": [],
   "source": [
    "s|{(4,5,6),(1,2,3)}"
   ]
  },
  {
   "cell_type": "code",
   "execution_count": null,
   "id": "087ea38b-0a96-4ca7-aba2-8035a63b34a9",
   "metadata": {},
   "outputs": [],
   "source": [
    "(1,2,3) in s"
   ]
  },
  {
   "cell_type": "code",
   "execution_count": null,
   "id": "c474b82d-a91b-448a-b77e-dda9f93f80a8",
   "metadata": {},
   "outputs": [],
   "source": [
    "(1,4,3) in s"
   ]
  },
  {
   "cell_type": "code",
   "execution_count": null,
   "id": "70438220-1695-4eb5-b9b7-20e2aa9895f0",
   "metadata": {},
   "outputs": [],
   "source": [
    "name={\"aaa\",\"bbb\",\"ccc\"}\n",
    "name.clear()\n",
    "name"
   ]
  },
  {
   "cell_type": "code",
   "execution_count": null,
   "id": "f8d76dca-e3a4-46fe-98b7-a0d93fb91ff0",
   "metadata": {},
   "outputs": [],
   "source": [
    "more_name={\"ddd\",\"eee\",\"fff\"}\n",
    "name_backup=more_name.copy()\n",
    "more_name.clear()\n",
    "name_backup"
   ]
  },
  {
   "cell_type": "code",
   "execution_count": null,
   "id": "9386d3fd-05cb-4d52-8e47-d82a52384299",
   "metadata": {},
   "outputs": [],
   "source": [
    "more_name={\"ddd\",\"eee\",\"fff\"}\n",
    "name_backup=more_name\n",
    "more_name.clear()\n",
    "name_backup"
   ]
  },
  {
   "cell_type": "code",
   "execution_count": null,
   "id": "bf7ee53e-0665-4327-a0d1-33f950d30375",
   "metadata": {},
   "outputs": [],
   "source": [
    "x={'a','b','c','d','e'}\n",
    "y={'b','c'}\n",
    "x.difference_update(y)  #same as \"x=x-y\"\n",
    "x"
   ]
  },
  {
   "cell_type": "code",
   "execution_count": null,
   "id": "c86d57bd-04b9-4649-970f-b790a4da8893",
   "metadata": {},
   "outputs": [],
   "source": [
    "x={'a',\"b\",'c','d','e'}\n",
    "x.discard(\"a\")\n",
    "x"
   ]
  },
  {
   "cell_type": "code",
   "execution_count": null,
   "id": "e64f0f04-9e61-4e9c-94d1-0927bd19c01a",
   "metadata": {},
   "outputs": [],
   "source": [
    "x.discard(\"z\")\n",
    "x"
   ]
  },
  {
   "cell_type": "code",
   "execution_count": null,
   "id": "6655d957-43bf-4e8f-83df-e48751fa3683",
   "metadata": {},
   "outputs": [],
   "source": [
    "x={'a',\"b\",'c','d','e'}\n",
    "x.remove(\"a\")\n",
    "x"
   ]
  },
  {
   "cell_type": "code",
   "execution_count": null,
   "id": "873c8a02-ee41-4b9f-a7f4-cfc51446d520",
   "metadata": {
    "collapsed": true,
    "jupyter": {
     "outputs_hidden": true
    },
    "tags": []
   },
   "outputs": [],
   "source": [
    "x.remove(\"z\")\n",
    "x"
   ]
  },
  {
   "cell_type": "code",
   "execution_count": null,
   "id": "3da07c0c-1b4a-40bf-b69a-bb1900ca56b4",
   "metadata": {},
   "outputs": [],
   "source": [
    "#library function starting with \"is\" gives ans as bool(true or false) \n",
    "x={'a','b','c','d','e'}\n",
    "y={'b','c'}\n",
    "x.issuperset(y)"
   ]
  },
  {
   "cell_type": "code",
   "execution_count": null,
   "id": "940e02e4-b870-44c1-a791-7fc7477e4f7a",
   "metadata": {},
   "outputs": [],
   "source": [
    "print(x>y)\n",
    "print(x>=y)\n",
    "print(x>=x)\n",
    "print(x>x)"
   ]
  },
  {
   "cell_type": "code",
   "execution_count": null,
   "id": "f9a4aedf-e1a2-413a-aa1b-c0b35733c442",
   "metadata": {},
   "outputs": [],
   "source": [
    "x={'a','b','c','d','e'}\n",
    "y={'b','c'}\n",
    "print(x.issubset(y))\n",
    "print(y.issubset(x))\n",
    "print(x<y)\n",
    "print(y<x)\n",
    "print(x<x)\n",
    "print(x<=x)"
   ]
  },
  {
   "cell_type": "code",
   "execution_count": null,
   "id": "cd983fd3-16fe-495a-ae0b-485bea93b861",
   "metadata": {},
   "outputs": [],
   "source": [
    "x={'a','b','c','d','e'}\n",
    "print(x.pop())\n",
    "print(x.pop())\n",
    "print(x.add('s'))"
   ]
  },
  {
   "cell_type": "code",
   "execution_count": null,
   "id": "7a0d6b47-9181-42f2-8397-1f6b778addf4",
   "metadata": {},
   "outputs": [],
   "source": [
    "x=frozenset(['a','b','c','d','e'])\n",
    "x.add('gg')"
   ]
  },
  {
   "cell_type": "code",
   "execution_count": null,
   "id": "ecdf736e-b60b-486f-95b8-7ee5c085e22c",
   "metadata": {},
   "outputs": [],
   "source": [
    "#no meanning\n",
    "x=frozen{'a','b','c','d','e'}\n",
    "x.add('gg')"
   ]
  },
  {
   "cell_type": "code",
   "execution_count": null,
   "id": "bfc271e5-7ed6-4198-8a0a-2ed140967751",
   "metadata": {},
   "outputs": [],
   "source": [
    "{x**2 for x in [1,2,3,4]}"
   ]
  },
  {
   "cell_type": "code",
   "execution_count": null,
   "id": "51f5bb73-f0c2-4962-9bfb-926a91b6200b",
   "metadata": {},
   "outputs": [],
   "source": [
    "{x for x in 'spam'}"
   ]
  },
  {
   "cell_type": "code",
   "execution_count": null,
   "id": "648b4ea5-e2ac-489b-beb3-8c778d3aae5f",
   "metadata": {},
   "outputs": [],
   "source": [
    "s={c*4 for c in 'spam'}\n",
    "s"
   ]
  },
  {
   "cell_type": "code",
   "execution_count": null,
   "id": "b8b5c867-4a7d-4730-bb45-b9e5eaef2a77",
   "metadata": {},
   "outputs": [],
   "source": [
    "s={c*4 for c in 'spamham'}\n",
    "s"
   ]
  },
  {
   "cell_type": "code",
   "execution_count": null,
   "id": "66f26bf3-c8fb-4a9c-a193-53d68b47d990",
   "metadata": {},
   "outputs": [],
   "source": [
    "s|{'mmmm','xxxx'}"
   ]
  },
  {
   "cell_type": "code",
   "execution_count": null,
   "id": "f91904be-bbd8-4ad3-b63f-451c373c4860",
   "metadata": {},
   "outputs": [],
   "source": [
    "s&{'mmmm','xxxx'}"
   ]
  },
  {
   "cell_type": "code",
   "execution_count": null,
   "id": "30cbf52a-99f9-411c-aa96-974b82c9a6fd",
   "metadata": {},
   "outputs": [],
   "source": [
    "math=set()\n",
    "phy=set()\n",
    "che=set()\n",
    "cs=set()\n",
    "m_n=int(input())\n",
    "for i in  range(0,m_n):\n",
    "    val=input()\n",
    "    math=math|{val}\n",
    "m_p=int(input())\n",
    "for i in  range(0,m_p):\n",
    "    val=input()\n",
    "    phy=phy|{val}\n",
    "m_c=int(input())\n",
    "for i in  range(0,m_c):\n",
    "    val=input()\n",
    "    che=che|{val}\n",
    "m_cs=int(input())\n",
    "for i in  range(0,m_cs):\n",
    "    val=input()\n",
    "    cs=cs|{val}\n",
    "    pp=math|phy|che|cs\n",
    "print(len(pp))   "
   ]
  },
  {
   "cell_type": "code",
   "execution_count": null,
   "id": "6d784fa8-cec9-4b9b-9ac6-30bfde4ce8c2",
   "metadata": {},
   "outputs": [],
   "source": [
    "print('s\\np\\ta\\x00m')"
   ]
  },
  {
   "cell_type": "code",
   "execution_count": null,
   "id": "baee9ef8-931c-403c-a119-e17c1a50a498",
   "metadata": {},
   "outputs": [],
   "source": [
    "print(\"spam's\")"
   ]
  },
  {
   "cell_type": "code",
   "execution_count": null,
   "id": "9419dfa1-2cc1-43e2-8e4c-321f4c2f8aea",
   "metadata": {},
   "outputs": [],
   "source": [
    "s=r'\\temp\\spam'\n",
    "print(s)"
   ]
  },
  {
   "cell_type": "code",
   "execution_count": null,
   "id": "b422f298-8270-4ee5-9e72-df3c24444ed7",
   "metadata": {},
   "outputs": [],
   "source": [
    "print(b'sp\\i00c4m')"
   ]
  },
  {
   "cell_type": "code",
   "execution_count": null,
   "id": "7f69a1a0-c764-493c-834f-2c8f6a21b520",
   "metadata": {
    "collapsed": true,
    "jupyter": {
     "outputs_hidden": true
    },
    "tags": []
   },
   "outputs": [],
   "source": [
    "print(\"a %s parrot\"%kind)"
   ]
  },
  {
   "cell_type": "code",
   "execution_count": null,
   "id": "e9e3e667-ab45-4e30-9d4c-9d81a7aef00a",
   "metadata": {
    "collapsed": true,
    "jupyter": {
     "outputs_hidden": true
    },
    "tags": []
   },
   "outputs": [],
   "source": [
    "print(\"a {0} parrot\".format(kind))"
   ]
  },
  {
   "cell_type": "code",
   "execution_count": null,
   "id": "ad857d6a-c1c6-41ec-9469-0c85cc08fa6b",
   "metadata": {},
   "outputs": [],
   "source": [
    "s='a\\nb\\tc'\n",
    "print(s)"
   ]
  },
  {
   "cell_type": "code",
   "execution_count": null,
   "id": "cac56969-36f1-4842-978c-f0cf186442d2",
   "metadata": {},
   "outputs": [],
   "source": [
    "len(s)"
   ]
  },
  {
   "cell_type": "code",
   "execution_count": null,
   "id": "70396121-69be-4e6f-a0bb-758995e20c72",
   "metadata": {},
   "outputs": [],
   "source": [
    "print('spa\\rmm')"
   ]
  },
  {
   "cell_type": "code",
   "execution_count": null,
   "id": "52ff1930-fb77-4074-bbb2-6bc65db18b6d",
   "metadata": {},
   "outputs": [],
   "source": [
    "print('\\b')"
   ]
  },
  {
   "cell_type": "code",
   "execution_count": null,
   "id": "b2116284-1ad0-4771-b3c9-1acb7af58795",
   "metadata": {},
   "outputs": [],
   "source": [
    "x=\"C:\\py\\code\"\n",
    "x"
   ]
  },
  {
   "cell_type": "code",
   "execution_count": null,
   "id": "2098bbc1-125f-45fb-9266-e3f51a20e0d8",
   "metadata": {},
   "outputs": [],
   "source": [
    "print('spa\"m')"
   ]
  },
  {
   "cell_type": "code",
   "execution_count": null,
   "id": "8337cdc4-2492-4369-8b2d-8da7b75d7d61",
   "metadata": {},
   "outputs": [],
   "source": [
    "print(\"spa'm\")"
   ]
  },
  {
   "cell_type": "code",
   "execution_count": null,
   "id": "65e04856-d0da-49e1-8908-32b0700873c2",
   "metadata": {},
   "outputs": [],
   "source": [
    "print('''...spam...''',\"\"\"...spam...\"\"\")"
   ]
  },
  {
   "cell_type": "code",
   "execution_count": null,
   "id": "4c12e586-494d-42fe-b4c2-6b1764ac8384",
   "metadata": {},
   "outputs": [],
   "source": [
    "print(\"s\\tp\\na\\0m\")"
   ]
  },
  {
   "cell_type": "code",
   "execution_count": null,
   "id": "ebc26cae-6116-4e92-b8e1-b3389a83b5f4",
   "metadata": {},
   "outputs": [],
   "source": [
    "#raw string i.e. \\ (escape sequence) will be ignored use r in starting\n",
    "print(r\"C:\\new\\test.spm\")"
   ]
  },
  {
   "cell_type": "code",
   "execution_count": null,
   "id": "0245e0d6-f841-4e67-b19e-b5f0b7338c12",
   "metadata": {},
   "outputs": [],
   "source": [
    "s='a\\nb\\tc'\n",
    "print(s)\n",
    "print('\\n')\n",
    "print('length is:',len(s)) #(a,n,b,,t,c)"
   ]
  },
  {
   "cell_type": "code",
   "execution_count": null,
   "id": "af1ddaa8-31d2-4ac8-9616-ea353c62dd9d",
   "metadata": {},
   "outputs": [],
   "source": [
    "s1='a\\0b\\0c'\n",
    "print(s1)"
   ]
  },
  {
   "cell_type": "code",
   "execution_count": null,
   "id": "54cdfb31-cd89-4d0d-969d-daa59a9eb50c",
   "metadata": {},
   "outputs": [],
   "source": [
    "s2='a\\x00b\\x00c'\n",
    "print(s2)\n",
    "len(s2)"
   ]
  },
  {
   "cell_type": "code",
   "execution_count": null,
   "id": "60cbfaf8-e23d-4502-93ed-17abff536620",
   "metadata": {},
   "outputs": [],
   "source": [
    "s='\\x001\\x002\\x003'\n",
    "print(s)\n",
    "len(s)"
   ]
  },
  {
   "cell_type": "code",
   "execution_count": null,
   "id": "8fb46b92-daec-4751-92ca-789115f209b4",
   "metadata": {},
   "outputs": [],
   "source": [
    "s='\\0001\\0002\\0003'\n",
    "print(s)\n",
    "len(s)"
   ]
  },
  {
   "cell_type": "code",
   "execution_count": null,
   "id": "c484baf0-096d-4a98-a598-3498e2a8e96e",
   "metadata": {},
   "outputs": [],
   "source": [
    "x=\"c:\\py\\code\"\n",
    "x"
   ]
  },
  {
   "cell_type": "code",
   "execution_count": null,
   "id": "c45fef8d-0aa5-4c8c-85c4-727d7b0edbd1",
   "metadata": {},
   "outputs": [],
   "source": [
    "x=\"c:\\py\\code\"\n",
    "print(x)\n",
    "len(x)"
   ]
  },
  {
   "cell_type": "code",
   "execution_count": null,
   "id": "47314911-47ef-4752-9bc4-e0abdde74779",
   "metadata": {},
   "outputs": [],
   "source": [
    "x"
   ]
  },
  {
   "cell_type": "code",
   "execution_count": null,
   "id": "d4e9c4e0-e9d2-4cff-97ec-a0c9f1d062f7",
   "metadata": {},
   "outputs": [],
   "source": [
    "s=\"C:\\new\\text.dat\"\n",
    "s"
   ]
  },
  {
   "cell_type": "code",
   "execution_count": null,
   "id": "7993fe85-82cc-429e-a3b9-7eda93edecde",
   "metadata": {},
   "outputs": [],
   "source": [
    "s=\"C:\\new\\text.dat\"\n",
    "print(s)"
   ]
  },
  {
   "cell_type": "code",
   "execution_count": null,
   "id": "1c379fe8-bd2c-4e61-8ff4-cb63783b0e7b",
   "metadata": {},
   "outputs": [],
   "source": [
    "#r = raw string\n",
    "s1=r\"C:\\new\\text.dat\"\n",
    "print(s1)"
   ]
  },
  {
   "cell_type": "code",
   "execution_count": null,
   "id": "2eb318f0-cdd5-4cf9-ad68-23638c7169f6",
   "metadata": {},
   "outputs": [],
   "source": [
    "s2=\"C:\\\\new\\\\text.dat\"\n",
    "print(s2)"
   ]
  },
  {
   "cell_type": "code",
   "execution_count": null,
   "id": "dc2ed52d-ac69-4e98-b4af-afa707157bb2",
   "metadata": {},
   "outputs": [],
   "source": [
    "print('-'*80)"
   ]
  },
  {
   "cell_type": "code",
   "execution_count": null,
   "id": "d89f30ae-b12a-4d2b-86f4-373c124a5171",
   "metadata": {},
   "outputs": [],
   "source": [
    "my=\"aaabbbccc\"\n",
    "for x in my:\n",
    "    print(x,end='  ')"
   ]
  },
  {
   "cell_type": "code",
   "execution_count": null,
   "id": "4d0ac1bd-a362-4330-ba5d-c1ba203c4775",
   "metadata": {},
   "outputs": [],
   "source": [
    "my=\"aaabbbccc\"\n",
    "for x in my:\n",
    "    print(x,end='\\t')"
   ]
  },
  {
   "cell_type": "code",
   "execution_count": null,
   "id": "80fd3e17-9052-4926-af6a-c5f4ea389de9",
   "metadata": {},
   "outputs": [],
   "source": [
    "\"a\" in my"
   ]
  },
  {
   "cell_type": "code",
   "execution_count": null,
   "id": "da4991e5-7850-453c-a441-99a75481fcde",
   "metadata": {},
   "outputs": [],
   "source": [
    "'z' in my"
   ]
  },
  {
   "cell_type": "code",
   "execution_count": null,
   "id": "cfd1c4e4-822a-4e17-b2ee-ead689cec835",
   "metadata": {},
   "outputs": [],
   "source": [
    "'spam' in 'abcdefghijklmnopqrstuvwxyzspwwam'"
   ]
  },
  {
   "cell_type": "code",
   "execution_count": null,
   "id": "667b1644-c756-456c-8182-6da19b3eff59",
   "metadata": {},
   "outputs": [],
   "source": [
    "'spam' in 'abcspamxyz'"
   ]
  },
  {
   "cell_type": "code",
   "execution_count": null,
   "id": "17eea35d-1113-4748-a96a-b8709e24cff9",
   "metadata": {},
   "outputs": [],
   "source": [
    "# counting 'a' in the word\n",
    "word='abcbdhjbadukaijdiaajaeijjaa'\n",
    "count=0\n",
    "for letter in word:\n",
    "    if letter =='a':\n",
    "        count=count+1\n",
    "print(count)"
   ]
  },
  {
   "cell_type": "code",
   "execution_count": null,
   "id": "59c591f4-c164-463a-85ce-f56e1d6d4c51",
   "metadata": {},
   "outputs": [],
   "source": [
    "word[0],word[-5]"
   ]
  },
  {
   "cell_type": "code",
   "execution_count": null,
   "id": "c9f3ebda-8316-40bb-85a6-86582e970b8c",
   "metadata": {},
   "outputs": [],
   "source": [
    "word[1:-1]"
   ]
  },
  {
   "cell_type": "code",
   "execution_count": null,
   "id": "5080cc6c-d227-4297-954b-8d6e2fdf5494",
   "metadata": {},
   "outputs": [],
   "source": [
    "s='spam'\n",
    "s[:-1]"
   ]
  },
  {
   "cell_type": "code",
   "execution_count": null,
   "id": "3ee90e2b-89b0-48c8-9823-8dabd7d1b815",
   "metadata": {},
   "outputs": [],
   "source": [
    "s='spam'\n",
    "s[1:-1]"
   ]
  },
  {
   "cell_type": "code",
   "execution_count": null,
   "id": "7b94ce8e-6f13-4b98-8d53-a3765958f1cc",
   "metadata": {},
   "outputs": [],
   "source": [
    "s='spam'\n",
    "s[-4:4]"
   ]
  },
  {
   "cell_type": "code",
   "execution_count": null,
   "id": "4ba234d3-e0c2-4264-9701-2dbe27d3d9ea",
   "metadata": {},
   "outputs": [],
   "source": [
    "s='spam'\n",
    "s[-1:1]"
   ]
  },
  {
   "cell_type": "code",
   "execution_count": null,
   "id": "256e6289-3e9d-4a3d-a99c-55455b9ba8b6",
   "metadata": {},
   "outputs": [],
   "source": [
    "s='spam'\n",
    "s[-1:1:-1]"
   ]
  },
  {
   "cell_type": "code",
   "execution_count": null,
   "id": "fbffbb76-1baa-472a-b278-74148af2759b",
   "metadata": {},
   "outputs": [],
   "source": [
    "s='0123456789'\n",
    "print(s[:])\n",
    "s[::2]"
   ]
  },
  {
   "cell_type": "code",
   "execution_count": null,
   "id": "656265d9-71a6-43c7-9726-0ff05b3ac730",
   "metadata": {
    "collapsed": true,
    "jupyter": {
     "outputs_hidden": true
    },
    "tags": []
   },
   "outputs": [],
   "source": [
    "'42'+1"
   ]
  },
  {
   "cell_type": "code",
   "execution_count": null,
   "id": "31d6bd06-b477-41c4-abda-6433abd94017",
   "metadata": {},
   "outputs": [],
   "source": [
    "int(\"42\"),str(42)"
   ]
  },
  {
   "cell_type": "code",
   "execution_count": null,
   "id": "ad4bd8ef-2150-4b6d-a20a-4ffd4774ecaa",
   "metadata": {},
   "outputs": [],
   "source": [
    "int('42')+1"
   ]
  },
  {
   "cell_type": "code",
   "execution_count": null,
   "id": "db8c9e7e-eb86-4300-9d43-db5f1936527b",
   "metadata": {},
   "outputs": [],
   "source": [
    "'42'+str(1)"
   ]
  },
  {
   "cell_type": "code",
   "execution_count": null,
   "id": "c7ef3b7f-e0b3-4473-afca-1f657f2728e1",
   "metadata": {},
   "outputs": [],
   "source": [
    "#((ord used)) ASCII code value (each character associated with no.)\n",
    "print(ord('s'))\n",
    "print(ord('S'))"
   ]
  },
  {
   "cell_type": "code",
   "execution_count": null,
   "id": "dac53978-7c85-4b5b-8a04-ea4ba4c3ac90",
   "metadata": {},
   "outputs": [],
   "source": [
    "#chr no. to character\n",
    "print(chr(115))\n",
    "print(chr(69))"
   ]
  },
  {
   "cell_type": "code",
   "execution_count": null,
   "id": "76773a00-7112-4a40-aac0-8820192a42bf",
   "metadata": {},
   "outputs": [],
   "source": [
    "s='5'\n",
    "s=chr(ord(s)+1)\n",
    "s"
   ]
  },
  {
   "cell_type": "code",
   "execution_count": null,
   "id": "3d5f5511-5249-4f44-a10b-1b62ca679738",
   "metadata": {},
   "outputs": [],
   "source": [
    "s=chr(ord(s)+1)\n",
    "s"
   ]
  },
  {
   "cell_type": "code",
   "execution_count": null,
   "id": "667f68e8-99a3-4782-bb01-d8cfa82c38eb",
   "metadata": {},
   "outputs": [],
   "source": [
    "ord('5')-ord('0')"
   ]
  },
  {
   "cell_type": "code",
   "execution_count": null,
   "id": "b8d40250-9ca6-404f-9e78-fb2486849c60",
   "metadata": {},
   "outputs": [],
   "source": [
    "# here 2 is the base for binary\n",
    "int('1110',2)"
   ]
  },
  {
   "cell_type": "code",
   "execution_count": null,
   "id": "779ed5ec-5a3b-4a2a-9b5e-f1d29af97cb0",
   "metadata": {},
   "outputs": [],
   "source": [
    "int('0b1110',2)"
   ]
  },
  {
   "cell_type": "code",
   "execution_count": null,
   "id": "4fc85f02-4704-4805-93b2-5c0150b5829a",
   "metadata": {},
   "outputs": [],
   "source": [
    "bin(14)"
   ]
  },
  {
   "cell_type": "code",
   "execution_count": null,
   "id": "dc8059be-421a-490a-b637-d9a7648a59ef",
   "metadata": {},
   "outputs": [],
   "source": [
    "int(bin(14),2)"
   ]
  },
  {
   "cell_type": "code",
   "execution_count": null,
   "id": "7623a8d7-e25d-45bd-997a-f976754767eb",
   "metadata": {},
   "outputs": [],
   "source": [
    "s1='hello'\n",
    "s2=' world'\n",
    "s3=s1+s2\n",
    "s3"
   ]
  },
  {
   "cell_type": "code",
   "execution_count": null,
   "id": "0eba6e8b-d96a-4eb6-b6dc-8ee918f042af",
   "metadata": {
    "collapsed": true,
    "jupyter": {
     "outputs_hidden": true
    },
    "tags": []
   },
   "outputs": [],
   "source": [
    "#string is immutable but we can update\n",
    "s='spam'\n",
    "s[0]='x'\n",
    "s"
   ]
  },
  {
   "cell_type": "code",
   "execution_count": null,
   "id": "b2511e02-eef0-4bcd-9507-ea8c11cea9aa",
   "metadata": {},
   "outputs": [],
   "source": [
    "s=s+'SPAM!'\n",
    "s"
   ]
  },
  {
   "cell_type": "code",
   "execution_count": null,
   "id": "0fb07df0-4b1b-46b4-aaa2-b8c9cd4603f9",
   "metadata": {},
   "outputs": [],
   "source": [
    "s=s[:4]+'Burger'+s[-1]\n",
    "s"
   ]
  },
  {
   "cell_type": "code",
   "execution_count": null,
   "id": "54d9f3a7-8935-4f6f-b6fa-8acaf5ca5fc2",
   "metadata": {},
   "outputs": [],
   "source": [
    "s='splot'\n",
    "s=s.replace('pl','pam a l')\n",
    "s"
   ]
  },
  {
   "cell_type": "code",
   "execution_count": null,
   "id": "bd0b3516-49e1-4427-a867-f65252518a8f",
   "metadata": {},
   "outputs": [],
   "source": [
    "#%d=intteger(digit), %s=str, %c=character, %f=float\n",
    "print('that is %d %s bird!'%(1,'good'))"
   ]
  },
  {
   "cell_type": "code",
   "execution_count": null,
   "id": "07a0287c-d781-49ec-a857-88841d555e92",
   "metadata": {},
   "outputs": [],
   "source": [
    "'that is {} {} bird!'.format(1,'good','spam')"
   ]
  },
  {
   "cell_type": "code",
   "execution_count": null,
   "id": "98e0bb02-2409-4dca-801b-5abafe901165",
   "metadata": {},
   "outputs": [],
   "source": [
    "'that is {3} {2} bird!'.format(1,'good',1,'spam')"
   ]
  },
  {
   "cell_type": "code",
   "execution_count": null,
   "id": "fce81b3e-b2f8-4ad5-ac5d-e78054d3d919",
   "metadata": {},
   "outputs": [],
   "source": [
    "print('that is {0} {2} bird!'.format(1,'good','gg'))"
   ]
  },
  {
   "cell_type": "code",
   "execution_count": null,
   "id": "7eb1bcb0-c498-471f-ad93-74d5d4192dc1",
   "metadata": {},
   "outputs": [],
   "source": [
    "a='Hello ARuN'\n",
    "b=a.lower()\n",
    "print(b)"
   ]
  },
  {
   "cell_type": "code",
   "execution_count": null,
   "id": "5b02a765-3042-4edb-97c1-6a0627c13fce",
   "metadata": {},
   "outputs": [],
   "source": [
    "print('HI thERE'.lower())"
   ]
  },
  {
   "cell_type": "code",
   "execution_count": null,
   "id": "46e6406b-5575-446c-b7eb-880d942e62b3",
   "metadata": {},
   "outputs": [],
   "source": [
    "a='Hello ARuN'\n",
    "b=a[1:8].upper()\n",
    "print(b)"
   ]
  },
  {
   "cell_type": "code",
   "execution_count": null,
   "id": "44c6b0b3-4e84-48e1-b7b9-9d78c9554e50",
   "metadata": {},
   "outputs": [],
   "source": [
    "a=\"HHHHHHH HHHHHH\".lower()\n",
    "a"
   ]
  },
  {
   "cell_type": "code",
   "execution_count": null,
   "id": "742b1137-0d57-45ca-9a50-c1b5569fa822",
   "metadata": {},
   "outputs": [],
   "source": [
    "a='kumar'\n",
    "pos=a.find('ma')\n",
    "print(pos)"
   ]
  },
  {
   "cell_type": "code",
   "execution_count": null,
   "id": "64d6aaaf-80ef-4409-98ce-6932458f2b5c",
   "metadata": {},
   "outputs": [],
   "source": [
    "a='kumar'\n",
    "pos=a.find('aa')\n",
    "print(pos)"
   ]
  },
  {
   "cell_type": "code",
   "execution_count": null,
   "id": "82b019bd-f2c9-435c-b43d-0546b9062f3f",
   "metadata": {},
   "outputs": [],
   "source": [
    "aa='abcd'.find('z')\n",
    "aa"
   ]
  },
  {
   "cell_type": "code",
   "execution_count": null,
   "id": "8bd4b95d-3cdb-4fbd-87ea-754b3abf5ab4",
   "metadata": {},
   "outputs": [],
   "source": [
    "#de between 5(starting pos) to 8(end pos)\n",
    "#just like sliccing\n",
    "name='pradeepkumar'\n",
    "pos=name.find('de',5,8)\n",
    "pos"
   ]
  },
  {
   "cell_type": "code",
   "execution_count": null,
   "id": "c07aeb3b-694d-4e38-aece-3312dda532af",
   "metadata": {},
   "outputs": [],
   "source": [
    "name='pradeepkumar'\n",
    "pos=name.find('dee',3,5)\n",
    "pos"
   ]
  },
  {
   "cell_type": "code",
   "execution_count": null,
   "id": "2addf208-9b01-4fb7-9e44-9ed65a8197ec",
   "metadata": {},
   "outputs": [],
   "source": [
    "name='pradeepkumar'\n",
    "pos=name.find('dee',3,6)\n",
    "pos"
   ]
  },
  {
   "cell_type": "code",
   "execution_count": null,
   "id": "b4de2272-f1da-4f52-a4b8-7ea33229a409",
   "metadata": {},
   "outputs": [],
   "source": [
    "#remove right spaces\n",
    "line=\"   \\nThe Knights who say Ni!\\n\\n     \"\n",
    "line.rstrip()"
   ]
  },
  {
   "cell_type": "code",
   "execution_count": null,
   "id": "0ea6e76e-1a61-451c-a792-b8b0709c8e3d",
   "metadata": {},
   "outputs": [],
   "source": [
    "#remove left spaces\n",
    "line=\"     \\nThe Knights who say Ni!\\n\\n     \"\n",
    "line.lstrip()"
   ]
  },
  {
   "cell_type": "code",
   "execution_count": null,
   "id": "27102f29-8420-4b89-b2ab-6aa535b529e4",
   "metadata": {},
   "outputs": [],
   "source": [
    "#remove spaces at right and left\n",
    "line=\"     \\nThe Knights who say Ni!\\n\\n     \"\n",
    "line.strip()"
   ]
  },
  {
   "cell_type": "code",
   "execution_count": null,
   "id": "9d315855-671a-40ab-9935-371c727dd67e",
   "metadata": {},
   "outputs": [],
   "source": [
    "line.upper()"
   ]
  },
  {
   "cell_type": "code",
   "execution_count": null,
   "id": "522128e2-bb7d-44fc-9aad-a3aab31b03ce",
   "metadata": {},
   "outputs": [],
   "source": [
    "a=' a b c d e f g h i '\n",
    "b=a.replace(' ','')\n",
    "print(b)"
   ]
  },
  {
   "cell_type": "code",
   "execution_count": null,
   "id": "a91f3157-1d5a-4fbe-99df-fb606f08c282",
   "metadata": {},
   "outputs": [],
   "source": [
    "line.isalpha() #to check alphabet"
   ]
  },
  {
   "cell_type": "code",
   "execution_count": null,
   "id": "5afe80df-10a5-4f95-99c1-547f2a13f156",
   "metadata": {},
   "outputs": [],
   "source": [
    "#not equal to\n",
    "line.find('Nii')!=-1"
   ]
  },
  {
   "cell_type": "code",
   "execution_count": null,
   "id": "5693e2b4-ccdf-4037-8b61-84de8c1173e8",
   "metadata": {},
   "outputs": [],
   "source": [
    "#not equal to\n",
    "line.find('Ni')!=-1"
   ]
  },
  {
   "cell_type": "code",
   "execution_count": null,
   "id": "0362f9a2-ac7c-44d6-a6b3-b181b1b274f0",
   "metadata": {},
   "outputs": [],
   "source": [
    "'ni' in line"
   ]
  },
  {
   "cell_type": "code",
   "execution_count": null,
   "id": "d9992505-176d-4fd8-93ad-1c7164f30be7",
   "metadata": {},
   "outputs": [],
   "source": [
    "sub='Ni!\\n\\n     '\n",
    "line.endswith(sub)"
   ]
  },
  {
   "cell_type": "code",
   "execution_count": null,
   "id": "ebb20b7a-c238-44b3-91f2-791cd88c583f",
   "metadata": {},
   "outputs": [],
   "source": [
    "line[-len(sub):]==sub"
   ]
  },
  {
   "cell_type": "code",
   "execution_count": null,
   "id": "564fea54-11a9-404b-9f4c-8d50af2a2137",
   "metadata": {},
   "outputs": [],
   "source": [
    "'a'.isupper()"
   ]
  },
  {
   "cell_type": "code",
   "execution_count": null,
   "id": "877131de-19e6-4f24-b4a9-816cd6e13956",
   "metadata": {},
   "outputs": [],
   "source": [
    "'A'.isupper()"
   ]
  },
  {
   "cell_type": "code",
   "execution_count": null,
   "id": "60d330d1-960c-4e92-88ac-918b610fa6f6",
   "metadata": {},
   "outputs": [],
   "source": [
    "pan=input('enter pan')\n",
    "invalid= False\n",
    "if len(pan)!=10:\n",
    "    invalid=True\n",
    "else:\n",
    "    for i in range(0,5):\n",
    "        if not pan[i].isalpha():\n",
    "            invalid=True\n",
    "            break\n",
    "    for i in range(5,9):\n",
    "        if not pan[i].isdigit():\n",
    "            invalid=True\n",
    "            break\n",
    "if not pan[9].isalpha():\n",
    "    invalid=True\n",
    "if invalid == True:\n",
    "    print('invalid')"
   ]
  },
  {
   "cell_type": "code",
   "execution_count": null,
   "id": "dbb03710-e52f-48c8-88d5-464671cde107",
   "metadata": {},
   "outputs": [],
   "source": [
    "n=int(input())\n",
    "l=[]\n",
    "for i in range(n):\n",
    "    x=int(input())\n",
    "    l.append(x)\n",
    "l"
   ]
  },
  {
   "cell_type": "code",
   "execution_count": null,
   "id": "0db6c58e-099f-48e6-b9fa-bf8700eca3a5",
   "metadata": {},
   "outputs": [],
   "source": [
    "n=int(input())\n",
    "l=[]\n",
    "if n>0 and n<99:\n",
    "    \n",
    "    for i in range(n):\n",
    "        x=int(input())\n",
    "        l.append(x)\n",
    "    \n",
    "    \n",
    "    for a in l:\n",
    "        for b in l:\n",
    "            if l[a] == l[b]:\n",
    "                l.remove(a)\n",
    "else:\n",
    "    print('invalid input')"
   ]
  },
  {
   "cell_type": "code",
   "execution_count": null,
   "id": "b6ddeaaf-4c2b-4665-8145-cddaf3e454db",
   "metadata": {},
   "outputs": [],
   "source": [
    "l=[1,2,3,4,3,2,1]\n",
    "for a in l:\n",
    "    for b in l:\n",
    "        if l[a] == l[b]:\n",
    "            l.remove(a)\n",
    "l"
   ]
  },
  {
   "cell_type": "code",
   "execution_count": null,
   "id": "cf78039c-b7de-46f3-b154-23cd2f8a2baf",
   "metadata": {},
   "outputs": [],
   "source": []
  },
  {
   "cell_type": "code",
   "execution_count": null,
   "id": "70610cc2-509e-492e-a946-5a2656c6ac6a",
   "metadata": {},
   "outputs": [],
   "source": [
    "#long way\n",
    "#input as a string\n",
    "import sys\n",
    "n=input()\n",
    "if len(n) != 10:\n",
    "    print('invalid')\n",
    "    sys.exit(0)\n",
    "if n[0] == '0':\n",
    "    print('invalid')\n",
    "    sys.exit(0)\n",
    "for x in n:\n",
    "    if x.isalpha():\n",
    "        print('invalid')\n",
    "        break\n",
    "else:\n",
    "    print(n, ' is valid')"
   ]
  },
  {
   "cell_type": "code",
   "execution_count": null,
   "id": "b898dfb3-5dd6-4b7b-85a6-dc15b65d1ed7",
   "metadata": {},
   "outputs": [],
   "source": [
    "# re is for regex (regular expression)\n",
    "# '.' is for any character(int+str)\n",
    "import re\n",
    "if re.match('f.o','fooo'):\n",
    "    print('ok')\n",
    "else:\n",
    "    print('no')"
   ]
  },
  {
   "cell_type": "code",
   "execution_count": null,
   "id": "91942296-80f5-4289-90b3-2a5ed9f8ed4f",
   "metadata": {},
   "outputs": [],
   "source": [
    "import re\n",
    "if re.match('f.o','f5o'):\n",
    "    print('ok')\n",
    "else:\n",
    "    print('no')"
   ]
  },
  {
   "cell_type": "code",
   "execution_count": null,
   "id": "28881a38-eda3-4e3b-b2fd-097e68dc75d6",
   "metadata": {},
   "outputs": [],
   "source": [
    "import re\n",
    "if re.match('f.o.','f5o55'):\n",
    "    print('ok')\n",
    "else:\n",
    "    print('no')"
   ]
  },
  {
   "cell_type": "code",
   "execution_count": null,
   "id": "474bd237-8c2f-4563-953b-8ac31a04854e",
   "metadata": {},
   "outputs": [],
   "source": [
    "import re\n",
    "if re.match('f...o','f123o'):\n",
    "    print('ok')\n",
    "else:\n",
    "    print('no')"
   ]
  },
  {
   "cell_type": "code",
   "execution_count": null,
   "id": "49f1bfaf-8938-46d0-8806-e87d69c9cd2a",
   "metadata": {},
   "outputs": [],
   "source": [
    "import re\n",
    "if re.match('f.o$','fooo'):\n",
    "    print('ok')\n",
    "else:\n",
    "    print('no')"
   ]
  },
  {
   "cell_type": "code",
   "execution_count": null,
   "id": "f506fecb-98f2-4e9f-a851-c14317502d83",
   "metadata": {},
   "outputs": [],
   "source": [
    "import re\n",
    "if re.match('f.o$','oof5o'):\n",
    "    print('ok')\n",
    "else:\n",
    "    print('no')"
   ]
  },
  {
   "cell_type": "code",
   "execution_count": null,
   "id": "2966b8db-6733-4cd3-9049-c6f84bf757aa",
   "metadata": {},
   "outputs": [],
   "source": [
    "import re\n",
    "if re.match('..f.o$','oof5o'):\n",
    "    print('ok')\n",
    "else:\n",
    "    print('no')"
   ]
  },
  {
   "cell_type": "code",
   "execution_count": null,
   "id": "424a2de1-6425-4c43-966d-6afaf8786496",
   "metadata": {},
   "outputs": [],
   "source": [
    "import re\n",
    "if re.match('f..o$','fooo'):\n",
    "    print('ok')\n",
    "else:\n",
    "    print('no')"
   ]
  },
  {
   "cell_type": "code",
   "execution_count": null,
   "id": "ba7d3014-2b01-4b1f-a757-97e3d6ed2ca5",
   "metadata": {},
   "outputs": [],
   "source": [
    "#'..$' for len = 2\n",
    "import re\n",
    "if re.match('..$','fooo'):\n",
    "    print('ok')\n",
    "else:\n",
    "    print('no')"
   ]
  },
  {
   "cell_type": "code",
   "execution_count": null,
   "id": "c8c9de6d-929f-4c59-bd51-70afa55e3443",
   "metadata": {},
   "outputs": [],
   "source": [
    "import re\n",
    "if re.match('....$','fooo'):\n",
    "    print('ok')\n",
    "else:\n",
    "    print('no')"
   ]
  },
  {
   "cell_type": "code",
   "execution_count": null,
   "id": "34274283-21eb-4575-a7d4-c9741755b026",
   "metadata": {},
   "outputs": [],
   "source": [
    "# no limit \n",
    "import re\n",
    "if re.match('..','fooo'):\n",
    "    print('ok')\n",
    "else:\n",
    "    print('no')"
   ]
  },
  {
   "cell_type": "code",
   "execution_count": null,
   "id": "9bef250e-fffd-4038-a014-ed5200d8a046",
   "metadata": {
    "tags": []
   },
   "outputs": [],
   "source": [
    "import re\n",
    "if re.match('.end','11endsss'):\n",
    "    print('ok')\n",
    "else:\n",
    "    print('no')"
   ]
  },
  {
   "cell_type": "code",
   "execution_count": null,
   "id": "8001daaf-17fe-40de-bb7c-ea13d384e4ee",
   "metadata": {},
   "outputs": [],
   "source": [
    "# .end means any character at the end of string\n",
    "import re\n",
    "if re.match('.end','1endsss'):\n",
    "    print('ok')\n",
    "else:\n",
    "    print('no')"
   ]
  },
  {
   "cell_type": "code",
   "execution_count": null,
   "id": "481b7946-080f-4717-b670-8c500d3be57d",
   "metadata": {},
   "outputs": [],
   "source": [
    "import re\n",
    "if re.match('.end$','bend'):\n",
    "    print('ok')\n",
    "else:\n",
    "    print('no')"
   ]
  },
  {
   "cell_type": "code",
   "execution_count": null,
   "id": "5c4c3337-9979-4ec2-b173-080c80d2e3c5",
   "metadata": {},
   "outputs": [],
   "source": [
    "import re\n",
    "if re.match('.end$','bbend'):\n",
    "    print('ok')\n",
    "else:\n",
    "    print('no')"
   ]
  },
  {
   "cell_type": "code",
   "execution_count": null,
   "id": "5c30cd86-83f5-4fdc-a62d-021f9b5b8ebb",
   "metadata": {},
   "outputs": [],
   "source": [
    "import re\n",
    "if re.match('.end$','bendsss'):\n",
    "    print('ok')\n",
    "else:\n",
    "    print('no')"
   ]
  },
  {
   "cell_type": "code",
   "execution_count": null,
   "id": "600a5aa4-2e2c-4490-a16f-8d29741e837d",
   "metadata": {},
   "outputs": [],
   "source": [
    "# this has no meanning \n",
    "import re\n",
    "if re.match('.$...','bends'):\n",
    "    print('ok')\n",
    "else:\n",
    "    print('no')"
   ]
  },
  {
   "cell_type": "code",
   "execution_count": null,
   "id": "ac4c8b99-914a-430b-b5aa-481ab1fc5735",
   "metadata": {},
   "outputs": [],
   "source": [
    "import re\n",
    "if re.match('^from','any str that start with from'):\n",
    "    print('ok')\n",
    "else:\n",
    "    print('no')"
   ]
  },
  {
   "cell_type": "code",
   "execution_count": null,
   "id": "0fc9c2ba-ff9b-4d40-ac13-f459539154a7",
   "metadata": {},
   "outputs": [],
   "source": [
    "import re\n",
    "if re.match('^from','from this to that'):\n",
    "    print('ok')\n",
    "else:\n",
    "    print('no')"
   ]
  },
  {
   "cell_type": "code",
   "execution_count": null,
   "id": "a826572e-4554-42ab-83e0-c88e7c215ce2",
   "metadata": {},
   "outputs": [],
   "source": [
    "import re\n",
    "if re.match('^subject : hi$','subject : hi'):\n",
    "    print('ok')\n",
    "else:\n",
    "    print('no')"
   ]
  },
  {
   "cell_type": "code",
   "execution_count": null,
   "id": "24ee2e4e-12c7-4ab6-946c-78d76b1ae6b2",
   "metadata": {},
   "outputs": [],
   "source": [
    "# str ending with $\n",
    "import re\n",
    "if re.match('.*\\$$','aaaaa$'):\n",
    "    print('ok')\n",
    "else:\n",
    "    print('no')"
   ]
  },
  {
   "cell_type": "code",
   "execution_count": null,
   "id": "920cc693-8de5-4737-a9b5-f8c65d69a1d8",
   "metadata": {},
   "outputs": [],
   "source": [
    "import re\n",
    "if re.match('.*\\$$','aaaaa$$$$'):\n",
    "    print('ok')\n",
    "else:\n",
    "    print('no')"
   ]
  },
  {
   "cell_type": "code",
   "execution_count": null,
   "id": "449d32c1-1d8f-4a8a-b18a-1791265df316",
   "metadata": {},
   "outputs": [],
   "source": [
    "import re\n",
    "if re.match('[r-u][env-y][us]','sws'):\n",
    "    print('ok')\n",
    "else:\n",
    "    print('no')"
   ]
  },
  {
   "cell_type": "code",
   "execution_count": null,
   "id": "95e69d9d-878e-45b6-b878-e12dcf1ea54b",
   "metadata": {},
   "outputs": [],
   "source": [
    "import re\n",
    "if re.match('[r-u][env-y][us]','svws'):\n",
    "    print('ok')\n",
    "else:\n",
    "    print('no')"
   ]
  },
  {
   "cell_type": "code",
   "execution_count": null,
   "id": "8964c097-392a-4478-9234-23e616f17607",
   "metadata": {},
   "outputs": [],
   "source": [
    "#[' '-a] ascii value of ' ' to a\n",
    "# yes ' ' has ascii valle\n",
    "print(ord(' '))\n",
    "print(ord('a'))"
   ]
  },
  {
   "cell_type": "code",
   "execution_count": null,
   "id": "ebb1bd59-78a8-48f7-948a-64d264053a58",
   "metadata": {},
   "outputs": [],
   "source": [
    "import re\n",
    "if re.match('[dn]ot?','dt'):\n",
    "    print('ok')\n",
    "else:\n",
    "    print('no')"
   ]
  },
  {
   "cell_type": "code",
   "execution_count": null,
   "id": "81d9e33f-2c8b-4499-8d08-146e45f8013e",
   "metadata": {},
   "outputs": [],
   "source": [
    "import re\n",
    "if re.match('[dn]ot?','do'):\n",
    "    print('ok')\n",
    "else:\n",
    "    print('no')"
   ]
  },
  {
   "cell_type": "code",
   "execution_count": null,
   "id": "9eac32d3-09e1-4930-bcd6-35a5d048eabf",
   "metadata": {},
   "outputs": [],
   "source": [
    "import re\n",
    "if re.match('[dn]ot?','dottttt'):\n",
    "    print('ok')\n",
    "else:\n",
    "    print('no')"
   ]
  },
  {
   "cell_type": "code",
   "execution_count": null,
   "id": "eb5220cb-146f-4002-a7bf-e76f17f654e2",
   "metadata": {},
   "outputs": [],
   "source": [
    "import re\n",
    "if re.match('[dn]ot?','dotot'):\n",
    "    print('ok')\n",
    "else:\n",
    "    print('no')"
   ]
  },
  {
   "cell_type": "code",
   "execution_count": null,
   "id": "1c0ff037-7f7b-4860-8234-82336b971d3c",
   "metadata": {},
   "outputs": [],
   "source": [
    "import re\n",
    "if re.match('[dn]ot?$','dotftgyhu'):\n",
    "    print('ok')\n",
    "else:\n",
    "    print('no')"
   ]
  },
  {
   "cell_type": "code",
   "execution_count": null,
   "id": "6f1be844-c829-4313-adb6-637453c09c26",
   "metadata": {},
   "outputs": [],
   "source": [
    "import re\n",
    "if re.match('[dn]ot?$','dot'):\n",
    "    print('ok')\n",
    "else:\n",
    "    print('no')"
   ]
  },
  {
   "cell_type": "code",
   "execution_count": null,
   "id": "0aa58705-3d03-4458-a083-be7a623de5f4",
   "metadata": {},
   "outputs": [],
   "source": [
    "import re\n",
    "if re.match('0?[1-9]','1234567'):\n",
    "    print('ok')\n",
    "else:\n",
    "    print('no')"
   ]
  },
  {
   "cell_type": "code",
   "execution_count": null,
   "id": "cd8a6021-5c3e-4f75-ad3b-d8309aeb8ed3",
   "metadata": {},
   "outputs": [],
   "source": [
    "import re\n",
    "if re.match('0?[1-9]','011'):\n",
    "    print('ok')\n",
    "else:\n",
    "    print('no')"
   ]
  },
  {
   "cell_type": "code",
   "execution_count": null,
   "id": "13bd9f64-0a55-4ab7-92dc-4d67101fbe90",
   "metadata": {},
   "outputs": [],
   "source": [
    "import re\n",
    "if re.match('0?[1-9]','a1'):\n",
    "    print('ok')\n",
    "else:\n",
    "    print('no')"
   ]
  },
  {
   "cell_type": "code",
   "execution_count": null,
   "id": "45e50a55-2a42-4d31-a122-d168d965f1bf",
   "metadata": {},
   "outputs": [],
   "source": [
    "import re\n",
    "if re.match('0?[1-9]','2345dfg'):\n",
    "    print('ok')\n",
    "else:\n",
    "    print('no')"
   ]
  },
  {
   "cell_type": "code",
   "execution_count": null,
   "id": "969983c6-2b0e-49f4-bfaf-c0c9ceaedbaa",
   "metadata": {},
   "outputs": [],
   "source": [
    "import re\n",
    "if re.match('[0-9]{15,16}','1234567891234567'):\n",
    "    print('ok')\n",
    "else:\n",
    "    print('no')"
   ]
  },
  {
   "cell_type": "code",
   "execution_count": null,
   "id": "550c1c99-b972-4e62-a2ba-21aa5b867a20",
   "metadata": {},
   "outputs": [],
   "source": [
    "import re\n",
    "if re.match('[0-9]{15,16}','a123456789123456'):\n",
    "    print('ok')\n",
    "else:\n",
    "    print('no')"
   ]
  },
  {
   "cell_type": "code",
   "execution_count": null,
   "id": "1e7b7dcd-6042-48a6-8b30-02c07e9b51b5",
   "metadata": {},
   "outputs": [],
   "source": [
    "import re\n",
    "if re.match('[0-9]{15,16}','123456gh789123456'):\n",
    "    print('ok')\n",
    "else:\n",
    "    print('no')"
   ]
  },
  {
   "cell_type": "code",
   "execution_count": null,
   "id": "4a97af7e-0034-4f10-bb92-f2f083a723ed",
   "metadata": {},
   "outputs": [],
   "source": [
    "import re\n",
    "if re.match('[0-9]{15,16}','012334567890456789123456234567gsdfgasdfghdfgherteertcvh'):\n",
    "    print('ok')\n",
    "else:\n",
    "    print('no')"
   ]
  },
  {
   "cell_type": "code",
   "execution_count": null,
   "id": "5275e182-a86e-41ca-88b7-1fd0886ed57e",
   "metadata": {},
   "outputs": [],
   "source": [
    "import re\n",
    "register=input()\n",
    "if re.match('^[1-9][0-9][a-zA-Z][a-zA-Z][a-zA-Z][0-9][0-9][0-9][0-9]$',register):\n",
    "    print('ok')\n",
    "else:\n",
    "    print('no')"
   ]
  },
  {
   "cell_type": "code",
   "execution_count": null,
   "id": "ed7ef56c-7d98-4dce-b0d0-4d13dd10230f",
   "metadata": {},
   "outputs": [],
   "source": [
    "import re\n",
    "register_no=input()\n",
    "if re.match('^[1-9][0-9][a-zA-Z]{3}[0-9]{4}$',register_no):\n",
    "    print('ok')\n",
    "else:\n",
    "    print('no')"
   ]
  },
  {
   "cell_type": "code",
   "execution_count": null,
   "id": "6f8873ce-a1f0-46f2-bd95-bceaa0daa1b9",
   "metadata": {},
   "outputs": [],
   "source": [
    "#mobile number but with bug => can start with any character\n",
    "#'[^0]' means not equal to 0\n",
    "import re\n",
    "number=input()\n",
    "if re.match('[^0][0-9]{9}',number):\n",
    "    print('ok')\n",
    "else:\n",
    "    print('no')"
   ]
  },
  {
   "cell_type": "code",
   "execution_count": null,
   "id": "38e7d604-bb97-4e1f-84bf-289b6aa4db8c",
   "metadata": {},
   "outputs": [],
   "source": [
    "# bug => infintite character after patern\n",
    "import re\n",
    "number=input()\n",
    "if re.match('[1-9][0-9]{9}',number):\n",
    "    print('ok')\n",
    "else:\n",
    "    print('no')"
   ]
  },
  {
   "cell_type": "code",
   "execution_count": null,
   "id": "052c728c-10cb-4e4f-b80d-bfc109d93894",
   "metadata": {},
   "outputs": [],
   "source": [
    "import re\n",
    "number=input()\n",
    "if re.match('^[1-9][0-9]{9}$',number):\n",
    "    print('ok')\n",
    "else:\n",
    "    print('no')"
   ]
  },
  {
   "cell_type": "code",
   "execution_count": null,
   "id": "9bd7cb0a-eff9-4058-bd7f-29e90d2ef7df",
   "metadata": {},
   "outputs": [],
   "source": [
    "import re\n",
    "pan=input()\n",
    "if re.match('^[a-zA-Z]{5}[0-9]{4}[a-zA-Z]{1}$',pan):\n",
    "    print('your card '+pan+' is valid')\n",
    "else:\n",
    "    print('no')"
   ]
  },
  {
   "cell_type": "code",
   "execution_count": null,
   "id": "4f39f1f9-4edd-4aad-a8cb-65734aaf9a30",
   "metadata": {},
   "outputs": [],
   "source": [
    "import re\n",
    "pan=input()\n",
    "if len(pan)<10 and len(pan)>10:\n",
    "    print('pan should be 10 character')\n",
    "    exit\n",
    "elif re.search('[^a-zA-Z0-9]',pan):\n",
    "    print('no symbols allowed')\n",
    "    exit\n",
    "elif re.search('[0-9]',pan[0:5]):\n",
    "    print('invalid-1')\n",
    "    exit\n",
    "elif re.search('[A-Za-z]',pan[5:9]):\n",
    "    print('invalid-2')\n",
    "    exit\n",
    "elif re.search('[0-9]',pan[-1]):\n",
    "    print('invalid-3')\n",
    "    exit\n",
    "else:\n",
    "    print('your card '+pan+' is valid')"
   ]
  },
  {
   "cell_type": "code",
   "execution_count": null,
   "id": "b5940c5e-36fe-4d06-ad65-0e72370d4662",
   "metadata": {},
   "outputs": [],
   "source": [
    "import re\n",
    "register=input()\n",
    "if re.match('^\\-?[1-9][0-9]*$',register):\n",
    "    print('ok')\n",
    "else:\n",
    "    print('no')"
   ]
  },
  {
   "cell_type": "code",
   "execution_count": null,
   "id": "75c6a55d-9e66-4f63-b46c-bf4d21551e29",
   "metadata": {},
   "outputs": [],
   "source": []
  },
  {
   "cell_type": "code",
   "execution_count": null,
   "id": "beb94cd3-7623-43af-9db9-0172ed675efb",
   "metadata": {},
   "outputs": [],
   "source": [
    "def printme(str):\n",
    "    'this prints a passed string function'\n",
    "    print(str)\n",
    "    return"
   ]
  },
  {
   "cell_type": "code",
   "execution_count": null,
   "id": "b53b9383-f7a6-421e-97ae-92961f8d5858",
   "metadata": {},
   "outputs": [],
   "source": [
    "a,*b='spam'\n",
    "print(''.join(b))"
   ]
  },
  {
   "cell_type": "code",
   "execution_count": null,
   "id": "41deb3e0-0ac7-4d5c-840e-098d7820617f",
   "metadata": {},
   "outputs": [],
   "source": [
    "def printer(message):\n",
    "    print('hello '+message)"
   ]
  },
  {
   "cell_type": "code",
   "execution_count": null,
   "id": "2a1a2e30-594f-4ffa-8640-ef03e75c5086",
   "metadata": {},
   "outputs": [],
   "source": [
    "def adder(a,b=1,*c):\n",
    "    return a+b+c[0]\n",
    "adder(1,1,1,4,6,3,1)"
   ]
  },
  {
   "cell_type": "code",
   "execution_count": null,
   "id": "7c4a07c1-c010-4442-8f83-ca37b3e71f5d",
   "metadata": {},
   "outputs": [],
   "source": [
    "def times(x,y):\n",
    "    return x*y\n",
    "times(2,4)"
   ]
  },
  {
   "cell_type": "code",
   "execution_count": null,
   "id": "304f2d9e-febc-4ee1-9fee-9c4553f4c445",
   "metadata": {},
   "outputs": [],
   "source": [
    "times('ni',5)"
   ]
  },
  {
   "cell_type": "code",
   "execution_count": null,
   "id": "b6790481-d276-45ec-a901-8f1884e245b1",
   "metadata": {},
   "outputs": [],
   "source": [
    "def changeme(mylist):\n",
    "    mylist=([1,2,3,4])\n",
    "    print('values inside the function: ', mylist)\n",
    "    return\n",
    "mylist=[10,20,30]\n",
    "changeme(mylist)\n",
    "print('values outside the function: ', mylist)"
   ]
  },
  {
   "cell_type": "code",
   "execution_count": null,
   "id": "2aebfa83-2acb-478b-9386-db92c8f2ba36",
   "metadata": {},
   "outputs": [],
   "source": [
    "def changeme(mylist):\n",
    "    mylist.append([1,2,3,4])\n",
    "    print('values inside the function: ', mylist)\n",
    "    return\n",
    "mylist=[10,20,30]\n",
    "changeme(mylist)\n",
    "print('values outside the function: ', mylist)"
   ]
  },
  {
   "cell_type": "code",
   "execution_count": null,
   "id": "c269c09f-4e4d-4c3a-88e1-321d536a077e",
   "metadata": {},
   "outputs": [],
   "source": [
    "def printinfo(name,age):\n",
    "    print('name:',name)\n",
    "    print('age',age)\n",
    "    return\n",
    "printinfo(age=11,name='aaa')"
   ]
  },
  {
   "cell_type": "code",
   "execution_count": null,
   "id": "523e7afa-4c0a-4313-acd8-4c19e88f8220",
   "metadata": {},
   "outputs": [],
   "source": [
    "def printinfo(name,age=111):\n",
    "    print('name:',name)\n",
    "    print('age',age)\n",
    "    return\n",
    "printinfo(age=11,name='aaa')\n",
    "printinfo(name='aaaaaa')"
   ]
  },
  {
   "cell_type": "code",
   "execution_count": null,
   "id": "c369925d-97e1-4004-a3d4-3a46ac4d14a9",
   "metadata": {},
   "outputs": [],
   "source": [
    "def intersect(seq1,seq2):#sequence\n",
    "    res=[]\n",
    "    for x in s1:\n",
    "        if x in s2:\n",
    "            res.append(x)\n",
    "    return (res)\n",
    "s1='SPAM'\n",
    "s2='SCAM'\n",
    "print(intersect(s1,s2))"
   ]
  },
  {
   "cell_type": "code",
   "execution_count": null,
   "id": "be0fc5b6-ebb1-4dfc-a46e-7a61d27fee09",
   "metadata": {},
   "outputs": [],
   "source": [
    "[x for x in s1 if x in s2]"
   ]
  },
  {
   "cell_type": "code",
   "execution_count": null,
   "id": "29b82034-2671-44a5-9a50-3264111c7b66",
   "metadata": {},
   "outputs": [],
   "source": [
    "a=4\n",
    "if a%2==0:\n",
    "    def func():\n",
    "        print('even')\n",
    "else:\n",
    "    def func():\n",
    "        print('odd')\n",
    "func()"
   ]
  },
  {
   "cell_type": "code",
   "execution_count": null,
   "id": "054548d4-3304-4164-a49c-f6a1d04d0a79",
   "metadata": {},
   "outputs": [],
   "source": [
    "x=99\n",
    "def func(y):\n",
    "    z=x+y\n",
    "    return z\n",
    "func(1)"
   ]
  },
  {
   "cell_type": "code",
   "execution_count": null,
   "id": "91fcb232-c8c9-4357-b68a-f311cdcdbb10",
   "metadata": {},
   "outputs": [],
   "source": [
    "a=(input())\n",
    "def fun(a):\n",
    "    print('Hi...'+a+'...Good morning!')\n",
    "fun(a)"
   ]
  },
  {
   "cell_type": "code",
   "execution_count": null,
   "id": "38a0451f-9802-49b5-b0cb-f7d7175fdfbe",
   "metadata": {},
   "outputs": [],
   "source": [
    "num=int(input())\n",
    "def abs_val(num):\n",
    "    if num>=0:\n",
    "        return num\n",
    "    else:\n",
    "        return -num\n",
    "a=abs_val(num)\n",
    "print(a)"
   ]
  },
  {
   "cell_type": "code",
   "execution_count": null,
   "id": "826ae471-8583-449b-8b1e-e5f083b5acec",
   "metadata": {},
   "outputs": [],
   "source": [
    "str1 = input()\n",
    "def printme(str1):\n",
    "    return (str1)\n",
    "a=printme(str1)\n",
    "print(a)"
   ]
  },
  {
   "cell_type": "code",
   "execution_count": null,
   "id": "1ba3916f-3b79-4597-ae9f-f2f765e521f0",
   "metadata": {},
   "outputs": [],
   "source": [
    "def printme(str1):\n",
    "    print(str1)\n",
    "printme('hi AAA')\n",
    "printme('aaa')"
   ]
  },
  {
   "cell_type": "code",
   "execution_count": null,
   "id": "20089822-ac54-49d1-be21-693ef17c4a85",
   "metadata": {},
   "outputs": [],
   "source": [
    "def printme(str):\n",
    "    print(str)\n",
    "    #return\n",
    "    print(str)\n",
    "printme('hi AAA')\n",
    "printme('aaa')"
   ]
  },
  {
   "cell_type": "code",
   "execution_count": null,
   "id": "4a8ddf12-dbc3-455e-a37b-7d28093e8f97",
   "metadata": {},
   "outputs": [],
   "source": [
    "def printme(str):\n",
    "    print(str)\n",
    "    return \n",
    "a=printme('hi AAA')\n",
    "b=printme('aaa')\n",
    "print(a)\n",
    "print(b)"
   ]
  },
  {
   "cell_type": "code",
   "execution_count": null,
   "id": "9b38d607-8233-42a1-bcd4-d54c805880f9",
   "metadata": {},
   "outputs": [],
   "source": [
    "x=(input())\n",
    "y=int(input())\n",
    "def times(x,y):\n",
    "    return x*y\n",
    "a=times(x,y)\n",
    "print(a)\n",
    "a= times(3.14,4)\n",
    "print(a)\n",
    "a=times('ni',4)\n",
    "print(a)"
   ]
  },
  {
   "cell_type": "code",
   "execution_count": null,
   "id": "2efcdc9b-b39f-49f5-9fb7-a68d8da86e37",
   "metadata": {},
   "outputs": [],
   "source": [
    "x=int(input())\n",
    "y=int(input())\n",
    "def times(x,y):\n",
    "    return x*y\n",
    "a=times(x,y)\n",
    "print(a)\n",
    "a= times(3.14,4)\n",
    "print(a)\n",
    "a=times('ni',4)\n",
    "print(a)"
   ]
  },
  {
   "cell_type": "code",
   "execution_count": null,
   "id": "4b2b3c24-4c7e-4599-b654-1b69d02e60e8",
   "metadata": {},
   "outputs": [],
   "source": [
    "x=(input())\n",
    "y=(input())\n",
    "def times(x,y):\n",
    "    return x*y\n",
    "a=times(x,y)\n",
    "print(a)\n",
    "a= times(3.14,4)\n",
    "print(a)\n",
    "a=times('ni',4)\n",
    "print(a)"
   ]
  },
  {
   "cell_type": "code",
   "execution_count": null,
   "id": "8a2e67b1-baf7-4599-8406-15dddb25eb61",
   "metadata": {},
   "outputs": [],
   "source": [
    "x=int(input())\n",
    "y=int(input())\n",
    "def times(x,y):\n",
    "    return x*y\n",
    "a=times(x,y)\n",
    "print(a)\n",
    "a= times(3.14,4)\n",
    "print(a)\n",
    "a=times('ni','aa')\n",
    "print(a)"
   ]
  },
  {
   "cell_type": "code",
   "execution_count": null,
   "id": "8643b080-b6b9-4a29-b409-3d23274dbab2",
   "metadata": {},
   "outputs": [],
   "source": [
    "msg=int()\n",
    "def"
   ]
  },
  {
   "cell_type": "code",
   "execution_count": null,
   "id": "fcc8b500-e51e-4560-bc95-287c0547ca8b",
   "metadata": {},
   "outputs": [],
   "source": [
    "def test():\n",
    "    return 'aaa',11\n",
    "print(test())"
   ]
  },
  {
   "cell_type": "code",
   "execution_count": null,
   "id": "8cd149db-3719-421d-b910-d53d971dce20",
   "metadata": {},
   "outputs": [],
   "source": [
    "str=input()\n",
    "def printme(str):\n",
    "    print(str)\n",
    "    #return (str)\n",
    "printme() #not def"
   ]
  },
  {
   "cell_type": "code",
   "execution_count": null,
   "id": "8c2e3b95-0c1b-41c2-a6a6-32ef08c9f7a6",
   "metadata": {},
   "outputs": [],
   "source": [
    "str=input()\n",
    "def printme(str):\n",
    "    print(str)\n",
    "    #return (str)\n",
    "printme(str)"
   ]
  },
  {
   "cell_type": "code",
   "execution_count": null,
   "id": "1228e25d-f752-4ea6-919c-1390d1e1f3c8",
   "metadata": {},
   "outputs": [],
   "source": [
    "def printme(str):\n",
    "    print(str)\n",
    "    return\n",
    "printme(str='my string')#keyword argument"
   ]
  },
  {
   "cell_type": "code",
   "execution_count": null,
   "id": "91bd3ece-c40a-4bb6-a438-975a5a75d973",
   "metadata": {},
   "outputs": [],
   "source": [
    "def printinfo(name,age=111):\n",
    "    print('name: ', name)\n",
    "    print('age: ', age)\n",
    "    return\n",
    "printinfo(age=11,name='AAA')\n",
    "printinfo(name='ABC')"
   ]
  },
  {
   "cell_type": "code",
   "execution_count": null,
   "id": "23d0e077-7603-4f84-ae1c-bebbf555e0a2",
   "metadata": {},
   "outputs": [],
   "source": [
    "#asign value from right to left\n",
    "def printinfo(age=11,name):\n",
    "    print('name: ', name)\n",
    "    print('age: ', age)\n",
    "    return\n",
    "printinfo(name='AAA')"
   ]
  },
  {
   "cell_type": "code",
   "execution_count": null,
   "id": "5a1702e3-7337-40b0-8738-aa594eb9967d",
   "metadata": {},
   "outputs": [],
   "source": [
    "def my(country='norway'):\n",
    "    print('I am from '+country)\n",
    "    return\n",
    "my('india')\n",
    "my()"
   ]
  },
  {
   "cell_type": "code",
   "execution_count": null,
   "id": "b9da3653-53cd-43cc-b64c-10344494ce13",
   "metadata": {},
   "outputs": [],
   "source": [
    "def f(a,b=2,c=3):\n",
    "    print(a,b,c)\n",
    "f(1)\n",
    "f(a=6)\n",
    "f(7,8)\n",
    "f(9,10,11)\n",
    "f(1,c=6)\n",
    "f(c=6,a=11)"
   ]
  },
  {
   "cell_type": "code",
   "execution_count": null,
   "id": "e0da895a-3fd1-40ac-950a-c62cb940bfba",
   "metadata": {
    "collapsed": true,
    "jupyter": {
     "outputs_hidden": true
    },
    "tags": []
   },
   "outputs": [],
   "source": [
    "f(c=11,20)#not work as no para after c"
   ]
  },
  {
   "cell_type": "code",
   "execution_count": null,
   "id": "6498c86f-1823-4f89-960d-4bbf5c9740d6",
   "metadata": {},
   "outputs": [],
   "source": [
    "def printinfo(arg1,*vartuple):\n",
    "    print('Output is: ')\n",
    "    print(arg1)\n",
    "    for var in vartuple:\n",
    "        print(var)\n",
    "    return\n",
    "printinfo(10)\n",
    "printinfo(70,60,50)"
   ]
  },
  {
   "cell_type": "code",
   "execution_count": null,
   "id": "3407b9b5-b3ea-434e-bee3-8c3d28c207ca",
   "metadata": {},
   "outputs": [],
   "source": [
    "def printinfo(arg1,*vartuple):\n",
    "    print('Output is: ')\n",
    "    print('arg1:',arg1)\n",
    "    for var in vartuple:\n",
    "        print(var)\n",
    "    return\n",
    "printinfo(10)\n",
    "printinfo(70,60,50,30,20)"
   ]
  },
  {
   "cell_type": "code",
   "execution_count": null,
   "id": "67ef75ea-562f-432e-becc-0cc2d2d8076f",
   "metadata": {},
   "outputs": [],
   "source": [
    "def printinfo(*vartuple):\n",
    "    print('Output is: ')\n",
    "    for var in vartuple:\n",
    "        print(var)\n",
    "    return\n",
    "printinfo(10)\n",
    "printinfo(70,60,50,40,30)"
   ]
  },
  {
   "cell_type": "code",
   "execution_count": null,
   "id": "f7cba74e-bb39-4bd5-be83-1a1f0aa37df1",
   "metadata": {},
   "outputs": [],
   "source": [
    "def printinfo(arg,*vartuple):\n",
    "    print('Output is: ')\n",
    "    print(arg)\n",
    "    print(arg,vartuple)\n",
    "    return\n",
    "printinfo(10)\n",
    "printinfo(70,60,50,40,30)"
   ]
  },
  {
   "cell_type": "code",
   "execution_count": null,
   "id": "b3f26206-9ee7-4a78-9954-06defd1822c9",
   "metadata": {},
   "outputs": [],
   "source": [
    "def printinfo(*arg1):\n",
    "    print('Output is: ')\n",
    "    print(arg1)\n",
    "    return\n",
    "printinfo(10)\n",
    "printinfo(70,60,50)"
   ]
  },
  {
   "cell_type": "code",
   "execution_count": null,
   "id": "080d3ff6-bcd6-4ce4-b30e-6c4a6840d859",
   "metadata": {},
   "outputs": [],
   "source": [
    "def my_fun(*kids):# * is for tupples\n",
    "    print('youngest is '+kids[0])\n",
    "my_fun('aaa','bbb','ccc')"
   ]
  },
  {
   "cell_type": "code",
   "execution_count": null,
   "id": "07204d10-b2ee-443d-8ee5-f6d407aff935",
   "metadata": {},
   "outputs": [],
   "source": [
    "def my_fun(**kid):# ** for dictionary (looking for keywords)\n",
    "    print('last name is '+kid['lname'])\n",
    "my_fun(fname='Eleven',lname='AAA')#key and values"
   ]
  },
  {
   "cell_type": "code",
   "execution_count": null,
   "id": "c883ee3b-b80b-44c5-ac11-a9b329d2e771",
   "metadata": {},
   "outputs": [],
   "source": [
    "def my_fun(**kid):\n",
    "    print('last name is',kid['age'])\n",
    "my_fun(fname='Eleven',lname='AAA',age=20)"
   ]
  },
  {
   "cell_type": "code",
   "execution_count": null,
   "id": "f50bbf96-1f43-4150-ab2b-78f62fb24cc5",
   "metadata": {},
   "outputs": [],
   "source": [
    "def my_fun(*food):\n",
    "    for x in food:\n",
    "        print(x)\n",
    "my_fun('apple','cake','bread')"
   ]
  },
  {
   "cell_type": "code",
   "execution_count": null,
   "id": "57bfc55c-cf3f-4565-8242-71e9139eabdd",
   "metadata": {},
   "outputs": [],
   "source": [
    "def f(*args,**kwargs): print(args,kwargs)\n",
    "# arguments and keyword arguments\n",
    "l=[1,2,3]\n",
    "t=(4,5,6)\n",
    "d={'a':7,'b':8,'c':9}\n",
    "\n",
    "f()\n",
    "f(1,2,3)\n",
    "f(1,2,3,'AAA')\n",
    "f(1,2,3,'AAA',AAAAAA='Eleven')\n",
    "f(a=1,b=2,c=3)\n",
    "f(a=1,b=2,c=3,zzz='A1')\n",
    "f(1,2,3,a=1,b=2,c=9)\n",
    "\n",
    "print('\\n')\n",
    "\n",
    "f(*l,**d)\n",
    "f(*t,**d)\n",
    "f(1,2,*t)\n",
    "f(q='Winner',**d)\n",
    "f(1,2,*t,q='winner',**d)"
   ]
  },
  {
   "cell_type": "code",
   "execution_count": null,
   "id": "b8d8baba-aa85-4be8-b1f0-cc1b1ba43aa1",
   "metadata": {},
   "outputs": [],
   "source": [
    "f(*d,*l)"
   ]
  },
  {
   "cell_type": "code",
   "execution_count": null,
   "id": "44490477-51b0-4c33-bccb-cf94daebd172",
   "metadata": {
    "collapsed": true,
    "jupyter": {
     "outputs_hidden": true
    },
    "tags": []
   },
   "outputs": [],
   "source": [
    "f(**d,*l) #will not work ** is used before *"
   ]
  },
  {
   "cell_type": "code",
   "execution_count": null,
   "id": "ec93cde5-9a47-4f00-a3bf-4041718f06ab",
   "metadata": {},
   "outputs": [],
   "source": [
    "def one ():\n",
    "    print('one')\n",
    "def two ():\n",
    "    print('two')\n",
    "def three ():\n",
    "    print('three')\n",
    "a=int(input())\n",
    "\n",
    "if a==1:\n",
    "    call_func=one\n",
    "elif a==2:\n",
    "    call_func=two\n",
    "else:\n",
    "    call_func=three\n",
    "    \n",
    "call_func()"
   ]
  },
  {
   "cell_type": "code",
   "execution_count": null,
   "id": "ab8c7152-8384-4137-9e41-e6af012ede5b",
   "metadata": {},
   "outputs": [],
   "source": [
    "a=5\n",
    "if a%2==0:\n",
    "    def func():\n",
    "        print('even')\n",
    "else:\n",
    "    def func():\n",
    "        print('odd')\n",
    "        \n",
    "func()"
   ]
  },
  {
   "cell_type": "code",
   "execution_count": null,
   "id": "282efd9b-3daa-444d-a57c-f050fc7e7dc5",
   "metadata": {},
   "outputs": [],
   "source": [
    "sum=lambda arg1, arg2: arg1 + arg2\n",
    "\n",
    "print('value of total : ', sum(10,20))\n",
    "print('value of total : ', sum(20,20))\n",
    "print('value of total : ', sum('AA','A'))"
   ]
  },
  {
   "cell_type": "code",
   "execution_count": null,
   "id": "7504ff07-82ce-46c7-8e6c-dad2e3cd2ac1",
   "metadata": {},
   "outputs": [],
   "source": [
    "x=88 #global x\n",
    "def func():\n",
    "    x=99\n",
    "    print('local:',x)\n",
    "# local x: hides global\n",
    "func()\n",
    "print('global:',x)  #prints 88 : unchanged"
   ]
  },
  {
   "cell_type": "code",
   "execution_count": null,
   "id": "47813020-1723-44bd-a560-ebbb4b73f440",
   "metadata": {},
   "outputs": [],
   "source": [
    "x=88 #global x\n",
    "def func():\n",
    "    global x # this in important global to local\n",
    "    x=99\n",
    "    print('local:',x) # global x: outside def\n",
    "\n",
    "print(x) #unchanged\n",
    "func()\n",
    "print('global:',x)  #prints 99 after calling fun"
   ]
  },
  {
   "cell_type": "code",
   "execution_count": null,
   "id": "0cdceeea-6f4b-461f-8460-ce30436c6c7a",
   "metadata": {},
   "outputs": [],
   "source": [
    "x=99 #global scope name : not used\n",
    "def f1():\n",
    "    x=88\n",
    "    print(x)\n",
    "    def f2(): # enclosing def local\n",
    "        print(x) # reference made in nester def\n",
    "    f2()\n",
    "\n",
    "print(x) #global\n",
    "f1() # prints 88: enclosing def local\n",
    "print(x) "
   ]
  },
  {
   "cell_type": "code",
   "execution_count": null,
   "id": "18b6cc4e-427b-43b2-824b-5388afce8ab1",
   "metadata": {},
   "outputs": [],
   "source": [
    "# Recursive Function\n",
    "n= int(input())\n",
    "def rfunc(n):\n",
    "    print(n)\n",
    "    if n>0:\n",
    "        print(rfunc(n-1))\n",
    "rfunc(n)"
   ]
  },
  {
   "cell_type": "code",
   "execution_count": null,
   "id": "b876eeb0-99c3-44fb-9483-4ac8b46bbbd5",
   "metadata": {},
   "outputs": [],
   "source": [
    "n= int(input())\n",
    "def rfunc(n):\n",
    "    print(n)\n",
    "    if n>0:\n",
    "        rfunc(n-1)\n",
    "rfunc(n)"
   ]
  },
  {
   "cell_type": "code",
   "execution_count": null,
   "id": "4fd479b4-8a70-4b89-a134-110572907035",
   "metadata": {},
   "outputs": [],
   "source": [
    "def sum(n):\n",
    "    if n>0:\n",
    "        return n + sum(n-1)\n",
    "    return 0 # for -ve number returns 0\n",
    "\n",
    "result = sum(100)\n",
    "print(result)"
   ]
  },
  {
   "cell_type": "code",
   "execution_count": null,
   "id": "52986d6f-ed05-4aad-9b0c-5811b060aceb",
   "metadata": {},
   "outputs": [],
   "source": [
    "def factorial(x):\n",
    "    \"\"\" this is a recursive fun\n",
    "    to find the factorial of an integer\"\"\"\n",
    "    if x==1:\n",
    "        return 1\n",
    "    else:\n",
    "        return(x*factorial(x-1))\n",
    "num = int(input())\n",
    "print('The factorial of', num, 'is', factorial(num))\n",
    "print(f'The factorial of {num} is {factorial(num)}') # using f string "
   ]
  },
  {
   "cell_type": "code",
   "execution_count": null,
   "id": "394ee51c-48a6-440c-a62e-47d29f554e20",
   "metadata": {},
   "outputs": [],
   "source": [
    "def recursive_fibonacci(n):# => 0 1 1 2 3 5 8... \n",
    "    if n<=1: # base case\n",
    "        return n\n",
    "    else: # rec. case\n",
    "        return(recursive_fibonacci(n-1) + recursive_fibonacci(n-2))\n",
    "n_terms = int(input())\n",
    "#check if the number of terms is valid\n",
    "if n_terms<=0:\n",
    "    print('invalid')\n",
    "else:\n",
    "    print('f series:')\n",
    "    "
   ]
  },
  {
   "cell_type": "code",
   "execution_count": null,
   "id": "2c0ca155-7ab7-4de7-a795-6f3c23d45293",
   "metadata": {},
   "outputs": [],
   "source": []
  },
  {
   "cell_type": "code",
   "execution_count": null,
   "id": "2936d3f7-5c04-4ebc-9887-d3e01ecc094d",
   "metadata": {},
   "outputs": [],
   "source": [
    "# File\n",
    "#remember to closed in end \n",
    "#f.close()"
   ]
  },
  {
   "cell_type": "code",
   "execution_count": null,
   "id": "d19d668d-46ec-4ba6-ab69-5484bc2a015d",
   "metadata": {
    "collapsed": true,
    "jupyter": {
     "outputs_hidden": true
    },
    "tags": []
   },
   "outputs": [],
   "source": [
    "'''\n",
    "step 1 open file\n",
    "step 2 do editing\n",
    "step 3 close file\n",
    "'''"
   ]
  },
  {
   "cell_type": "code",
   "execution_count": null,
   "id": "cfd20b6f-0a5a-40cc-81a9-696a94e2a7d3",
   "metadata": {
    "collapsed": true,
    "jupyter": {
     "outputs_hidden": true
    },
    "tags": []
   },
   "outputs": [],
   "source": [
    "''' mode:\n",
    "'r'=reading (defalt case)\n",
    "'w'=writing\n",
    "'x'=creat a new file, (if alreadey exist operation give erroe)\n",
    "'a'=append mode (if flie not exist creat a new file)\n",
    "'t'=defalt mode (open in text mode)\n",
    "'b'=binary mode\n",
    "'+'=reading and writing (updating)\n",
    "'''"
   ]
  },
  {
   "cell_type": "code",
   "execution_count": null,
   "id": "42980c23-09c4-4524-b944-549eb7b7e47e",
   "metadata": {},
   "outputs": [],
   "source": [
    "# file_object=open('filename','mode')**"
   ]
  },
  {
   "cell_type": "code",
   "execution_count": null,
   "id": "9bc24429-207c-497b-aae9-9a52eb44dca6",
   "metadata": {},
   "outputs": [],
   "source": [
    "f=open('file1.txt','w+') # '+' is for more task to do\n",
    "for i in range(10):\n",
    "    f.write('this is a line %d\\r\\n' %(i+1))\n",
    "    print(i)\n",
    "f.close()"
   ]
  },
  {
   "cell_type": "code",
   "execution_count": null,
   "id": "6fead748-4247-4734-a806-d09a460d69a4",
   "metadata": {},
   "outputs": [],
   "source": [
    "f=open('file1.txt','a+')\n",
    "for i in range(2):\n",
    "    f.write('appended line %d\\r\\n' %(i+1))\n",
    "    print(i)\n",
    "\n",
    "f=open('file1.txt','r')\n",
    "if f.mode == 'r':\n",
    "    contents=f.read()\n",
    "print(contents)\n",
    "f.close()"
   ]
  },
  {
   "cell_type": "code",
   "execution_count": null,
   "id": "27041f22-b4ea-4039-b408-d36892901904",
   "metadata": {},
   "outputs": [],
   "source": [
    "# line by line reading\n",
    "def main():\n",
    "    f=open('file1.txt','r')\n",
    "    f1=f.readline() # singular i.e. read 1st line letter by letter\n",
    "    for x in f1:\n",
    "        print(x)\n",
    "if __name__ == '__main__':\n",
    "    main()"
   ]
  },
  {
   "cell_type": "code",
   "execution_count": null,
   "id": "4f2ee603-8f47-483a-9745-b435ac0bb619",
   "metadata": {},
   "outputs": [],
   "source": [
    "def main():\n",
    "    f=open('file1.txt','r')\n",
    "    f1=f.readlines() # plural i.e. read all line\n",
    "    for x in f1:\n",
    "        print(x)\n",
    "if __name__ == '__main__':\n",
    "    main()"
   ]
  },
  {
   "cell_type": "code",
   "execution_count": null,
   "id": "64434778-4898-443d-b199-ff3d8fb6e5f4",
   "metadata": {},
   "outputs": [],
   "source": [
    "def main():\n",
    "    f=open(\"File1.txt\")\n",
    "    f1=f.readlines() #f.readline would only read the first line,returns a string whereas f.readlines(),returns a list, will read all of the lines\n",
    "    print(f1)\n",
    "    f.close()\n",
    "    #for i in f1:\n",
    "     #   print(i)\n",
    "main()"
   ]
  },
  {
   "cell_type": "code",
   "execution_count": null,
   "id": "5a096a6f-a6a4-4d21-a662-68aae26f7820",
   "metadata": {},
   "outputs": [],
   "source": [
    "f=open('file1.txt','r') # if we dont give mode (here'r') it will defalt take read\n",
    "#f.write('this is a test\\n') will not work as it is soying to write in read mmode\n",
    "for line in f:\n",
    "    print(line,end='')"
   ]
  },
  {
   "cell_type": "code",
   "execution_count": null,
   "id": "682ee4b0-653a-4605-b070-8bb84651c2a3",
   "metadata": {},
   "outputs": [],
   "source": [
    "def main():\n",
    "    f2=open('file2.txt','w+')\n",
    "    \n",
    "    for i in range(10):\n",
    "        f2.write('this is line %d\\r\\n' %(i+1))\n",
    "    f2.close()\n",
    "    \n",
    "    f2=open('file2.txt','r')\n",
    "    if f2.mode=='r':\n",
    "        contents = f2.read()\n",
    "    print(contents)\n",
    "    f2.close()\n",
    "if __name__ == '__main__':\n",
    "    main()"
   ]
  },
  {
   "cell_type": "code",
   "execution_count": null,
   "id": "2c437f58-6213-4071-bc95-b89ce9153a83",
   "metadata": {},
   "outputs": [],
   "source": []
  }
 ],
 "metadata": {
  "kernelspec": {
   "display_name": "Python 3 (ipykernel)",
   "language": "python",
   "name": "python3"
  },
  "language_info": {
   "codemirror_mode": {
    "name": "ipython",
    "version": 3
   },
   "file_extension": ".py",
   "mimetype": "text/x-python",
   "name": "python",
   "nbconvert_exporter": "python",
   "pygments_lexer": "ipython3",
   "version": "3.9.6"
  }
 },
 "nbformat": 4,
 "nbformat_minor": 5
}
