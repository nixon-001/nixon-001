{
 "cells": [
  {
   "cell_type": "markdown",
   "id": "a51a9f58-e770-41ed-9350-203d723587c6",
   "metadata": {
    "tags": []
   },
   "source": [
    "### **Why numpy arrays are faster than normal ones:**\n",
    "1. Numpy arrays take up significantly lesser space than lists. Its because the list not only stores the object value alone but also some other things such as object type, object value, size and referrence count.\n",
    "2. There is no type checking when iterating through a np array whereas normal list has type checking.\n",
    "3. Coninuous space allotment - In lists, the space in memory is allocated in a ranom way such that when searching an element or using the liast in common it takes extra time to fetch those elements from different places in the memory. Whereas, in np array the elements are all stored in a continuous manner so the time taken to fetch the itms significantly reduces. \n",
    "\n",
    "Now lets see some operations on np array"
   ]
  },
  {
   "cell_type": "code",
   "execution_count": 8,
   "id": "4519a728-d30f-46fd-b70a-68f2b07bf107",
   "metadata": {},
   "outputs": [],
   "source": [
    "import numpy as np\n",
    "a = np.array([1,2,3])\n",
    "b = np.array([[10,20,30],[40,50,60]])\n",
    "c = np.array([[100,200],[300,400],[500,600]])"
   ]
  },
  {
   "cell_type": "markdown",
   "id": "f622f34b-e810-49a6-82b9-368e3dca2c30",
   "metadata": {},
   "source": [
    "**Dimensions**"
   ]
  },
  {
   "cell_type": "code",
   "execution_count": 9,
   "id": "f9ddc65e-2ff4-4dc6-888d-c7f8ce960444",
   "metadata": {},
   "outputs": [
    {
     "name": "stdout",
     "output_type": "stream",
     "text": [
      "1\n",
      "2\n",
      "2\n"
     ]
    }
   ],
   "source": [
    "print(a.ndim)\n",
    "print(b.ndim)\n",
    "print(c.ndim)"
   ]
  },
  {
   "cell_type": "markdown",
   "id": "e52bb122-4d3e-4da0-a61b-a658f17a1b0b",
   "metadata": {},
   "source": [
    "**Shape**"
   ]
  },
  {
   "cell_type": "code",
   "execution_count": 10,
   "id": "4e190c73-e465-42f8-8c57-e854e7e4dd9c",
   "metadata": {},
   "outputs": [
    {
     "name": "stdout",
     "output_type": "stream",
     "text": [
      "(3,)\n",
      "(2, 3)\n",
      "(3, 2)\n"
     ]
    }
   ],
   "source": [
    "print(a.shape)\n",
    "print(b.shape)\n",
    "print(c.shape)"
   ]
  },
  {
   "cell_type": "markdown",
   "id": "8ccdac68-baad-4205-8642-9814ea2a81e2",
   "metadata": {},
   "source": [
    "**Datatype**"
   ]
  },
  {
   "cell_type": "code",
   "execution_count": 15,
   "id": "4d23dd03-b806-4bf7-a2c0-c20198005756",
   "metadata": {},
   "outputs": [
    {
     "name": "stdout",
     "output_type": "stream",
     "text": [
      "int64\n",
      "int64\n",
      "int64\n"
     ]
    }
   ],
   "source": [
    "print(a.dtype)\n",
    "print(b.dtype)\n",
    "print(c.dtype)"
   ]
  },
  {
   "cell_type": "markdown",
   "id": "f0b1f42e-41bf-401c-9a3e-71d8cc9f0bd7",
   "metadata": {},
   "source": [
    "**Size**"
   ]
  },
  {
   "cell_type": "code",
   "execution_count": 12,
   "id": "95e00b2c-4015-4f0d-86c2-a38e28b0c949",
   "metadata": {},
   "outputs": [
    {
     "name": "stdout",
     "output_type": "stream",
     "text": [
      "3\n",
      "6\n",
      "6\n"
     ]
    }
   ],
   "source": [
    "print(a.size)\n",
    "print(b.size)\n",
    "print(c.size)"
   ]
  },
  {
   "cell_type": "markdown",
   "id": "ee0ca71c-0680-48dd-afe9-720f5bfe96d3",
   "metadata": {},
   "source": [
    "**Item Size**"
   ]
  },
  {
   "cell_type": "code",
   "execution_count": 13,
   "id": "f4ceb82a-b150-4d25-83f8-586a22c07605",
   "metadata": {},
   "outputs": [
    {
     "name": "stdout",
     "output_type": "stream",
     "text": [
      "8\n",
      "8\n",
      "8\n"
     ]
    }
   ],
   "source": [
    "print(a.itemsize)\n",
    "print(b.itemsize)\n",
    "print(c.itemsize)"
   ]
  },
  {
   "cell_type": "markdown",
   "id": "dc8381f1-3457-4eb7-b91b-97743053f952",
   "metadata": {},
   "source": [
    "**Total size = size\\*itemsize = nbytes**"
   ]
  },
  {
   "cell_type": "code",
   "execution_count": 14,
   "id": "7b755e38-bd03-41df-9576-db2c65d6a210",
   "metadata": {},
   "outputs": [
    {
     "name": "stdout",
     "output_type": "stream",
     "text": [
      "24\n",
      "48\n",
      "48\n"
     ]
    }
   ],
   "source": [
    "print(a.nbytes)\n",
    "print(b.nbytes)\n",
    "print(c.nbytes)"
   ]
  },
  {
   "cell_type": "code",
   "execution_count": null,
   "id": "54eb19c1-eba7-4655-8452-d7583af1814b",
   "metadata": {},
   "outputs": [],
   "source": []
  }
 ],
 "metadata": {
  "kernelspec": {
   "display_name": "Python 3 (ipykernel)",
   "language": "python",
   "name": "python3"
  },
  "language_info": {
   "codemirror_mode": {
    "name": "ipython",
    "version": 3
   },
   "file_extension": ".py",
   "mimetype": "text/x-python",
   "name": "python",
   "nbconvert_exporter": "python",
   "pygments_lexer": "ipython3",
   "version": "3.9.9"
  }
 },
 "nbformat": 4,
 "nbformat_minor": 5
}
