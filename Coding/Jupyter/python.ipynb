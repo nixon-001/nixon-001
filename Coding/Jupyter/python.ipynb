{
 "cells": [
  {
   "cell_type": "markdown",
   "metadata": {
    "id": "PpuQCNhjngyL"
   },
   "source": [
    "# 1. Very simple 'programs'\n",
    "## 1.1 Running Python from the command line\n",
    "In order to test pieces of code we can run Python from the command line. In this Jupyter Notebook we are going to simulate this. You can type the commands in the fields and execute them.<br>\n",
    "In the field type:<br>\n",
    "```python\n",
    "print('Hello, World')\n",
    "```\n",
    "Then press `<shift> + <return>` to execute the command.\n",
    "\n"
   ]
  },
  {
   "cell_type": "code",
   "execution_count": 1,
   "metadata": {
    "id": "MY2oRXiIngyM"
   },
   "outputs": [
    {
     "name": "stdout",
     "output_type": "stream",
     "text": [
      "Hello, World\n"
     ]
    }
   ],
   "source": [
    "print('Hello, World')"
   ]
  },
  {
   "cell_type": "markdown",
   "metadata": {
    "id": "S035V9m3ngyN"
   },
   "source": [
    "What happened?\n",
    "\n",
    "You just created a program, that prints the words 'Hello, World'. The Python environment that you are in immediately compiles whatever you have typed in. This is useful for testing things, e.g. define a few variables, and then test to see if a certain line will work. That will come in a later lesson, though."
   ]
  },
  {
   "cell_type": "markdown",
   "metadata": {
    "id": "gdzEbdYmngyN"
   },
   "source": [
    "## 1.2 Math in Python\n",
    "Type<br>\n",
    "```python\n",
    "1 + 1\n",
    "```\n",
    "and execute the code."
   ]
  },
  {
   "cell_type": "code",
   "execution_count": 2,
   "metadata": {
    "id": "qDz0qZrgngyO",
    "scrolled": true
   },
   "outputs": [
    {
     "data": {
      "text/plain": [
       "2"
      ]
     },
     "execution_count": 2,
     "metadata": {},
     "output_type": "execute_result"
    }
   ],
   "source": [
    "1 + 1"
   ]
  },
  {
   "cell_type": "markdown",
   "metadata": {
    "id": "Er3ZougJngyO"
   },
   "source": [
    "Now type\n",
    "```python\n",
    "20 + 80\n",
    "```\n",
    "and execute the code."
   ]
  },
  {
   "cell_type": "code",
   "execution_count": null,
   "metadata": {
    "id": "FHISxGebngyP"
   },
   "outputs": [],
   "source": []
  },
  {
   "cell_type": "markdown",
   "metadata": {
    "id": "N4c0p53xngyP"
   },
   "source": [
    "These are additions. We can of course use other mathematical operators.<br>\n",
    "Try this subtraction:<br>\n",
    "```python\n",
    "6 - 5\n",
    "```"
   ]
  },
  {
   "cell_type": "code",
   "execution_count": null,
   "metadata": {
    "id": "mJQQclJUngyQ"
   },
   "outputs": [],
   "source": []
  },
  {
   "cell_type": "markdown",
   "metadata": {
    "id": "bH3r79zingyR"
   },
   "source": [
    "and this multiplication:<br>\n",
    "```python\n",
    "2 * 5\n",
    "```"
   ]
  },
  {
   "cell_type": "code",
   "execution_count": null,
   "metadata": {
    "id": "li_Ik8gTngyR"
   },
   "outputs": [],
   "source": []
  },
  {
   "cell_type": "markdown",
   "metadata": {
    "id": "-zqvfdpNngyS"
   },
   "source": [
    "Try:\n",
    "```python\n",
    "5 ** 2\n",
    "```"
   ]
  },
  {
   "cell_type": "code",
   "execution_count": null,
   "metadata": {
    "id": "gj5p3uJyngyS"
   },
   "outputs": [],
   "source": []
  },
  {
   "cell_type": "markdown",
   "metadata": {
    "id": "MKAxAV2ongyS"
   },
   "source": [
    "`**` is the exponential operator, so we executed 5 squared."
   ]
  },
  {
   "cell_type": "markdown",
   "metadata": {
    "id": "OblnNFgkngyU"
   },
   "source": [
    "Type:\n",
    "```python\n",
    "print('1 + 2 is an addition')\n",
    "```"
   ]
  },
  {
   "cell_type": "code",
   "execution_count": null,
   "metadata": {
    "id": "3OPBX0vcngyV"
   },
   "outputs": [],
   "source": []
  },
  {
   "cell_type": "markdown",
   "metadata": {
    "id": "6eB8WiJingyV"
   },
   "source": [
    "You see that the `print` statement writes something on the screen.\n",
    "\n",
    "Try this:\n",
    "```python\n",
    "print('one kilobyte is 2^10 bytes, or', 2 ** 10, 'bytes')\n",
    "```"
   ]
  },
  {
   "cell_type": "code",
   "execution_count": null,
   "metadata": {
    "id": "kkOVx-GangyW"
   },
   "outputs": [],
   "source": []
  },
  {
   "cell_type": "markdown",
   "metadata": {
    "id": "ECCwfWZxngyW"
   },
   "source": [
    "This demonstrates that you can print text and calculations in a sentence. The commas separating each section are a way of separating strings (text) from calculations or variable."
   ]
  },
  {
   "cell_type": "markdown",
   "metadata": {
    "id": "AhbokSPPngyW"
   },
   "source": [
    "Now try this:\n",
    "```python\n",
    "23 / 3\n",
    "```"
   ]
  },
  {
   "cell_type": "code",
   "execution_count": null,
   "metadata": {
    "id": "_I_Lor1PngyW"
   },
   "outputs": [],
   "source": []
  },
  {
   "cell_type": "markdown",
   "metadata": {
    "id": "zaTXv4AmngyX"
   },
   "source": [
    "And this:<br>\n",
    "```python\n",
    "23 % 3\n",
    "```"
   ]
  },
  {
   "cell_type": "code",
   "execution_count": null,
   "metadata": {
    "id": "DRhTjmvfngyX"
   },
   "outputs": [],
   "source": []
  },
  {
   "cell_type": "markdown",
   "metadata": {
    "id": "mksuT5rFngyX"
   },
   "source": [
    "`%` returns the remainder of the division."
   ]
  },
  {
   "cell_type": "markdown",
   "metadata": {
    "id": "GteDxyFRngyX"
   },
   "source": [
    "## 1.3 Order of Operations"
   ]
  },
  {
   "cell_type": "markdown",
   "metadata": {
    "id": "fDiMlMYVngyX"
   },
   "source": [
    "Remember that thing called order of operation that they taught in maths? Well, it applies in Python, too. Here it is, if you need reminding:<br>\n",
    "1. Parenthesis `()`\n",
    "2. Exponents `**`\n",
    "3. Multiplication `*`, division `/` and remainder `%`\n",
    "4. Addition `+` and subtraction `-`"
   ]
  },
  {
   "cell_type": "markdown",
   "metadata": {
    "id": "AfeIzYsungyX"
   },
   "source": [
    "Here are some examples that you might want to try, if you're rusty on this:<br>\n",
    "```python\n",
    "1 + 2 * 3\n",
    "(1 + 2) * 3\n",
    "```"
   ]
  },
  {
   "cell_type": "code",
   "execution_count": null,
   "metadata": {
    "id": "xIZNH-_pngyY"
   },
   "outputs": [],
   "source": []
  },
  {
   "cell_type": "code",
   "execution_count": null,
   "metadata": {
    "id": "ezLb_kWCngyY"
   },
   "outputs": [],
   "source": []
  },
  {
   "cell_type": "markdown",
   "metadata": {
    "id": "BbKOiq29ngyY"
   },
   "source": [
    "## 1.4 Comments, Please\n",
    "The final thing you'll need to know to move on to multi-line programs is the comment. Type the following (and yes, the output is shown):\n",
    "```python\n",
    "# I am a comment. Fear my wrath!\n",
    "```"
   ]
  },
  {
   "cell_type": "code",
   "execution_count": null,
   "metadata": {
    "id": "oczArHBgngyY"
   },
   "outputs": [],
   "source": []
  },
  {
   "cell_type": "markdown",
   "metadata": {
    "id": "s9gbwtjIngyY"
   },
   "source": [
    "A comment is a piece of code that is not run. In Python, you make something a comment by putting a hash in front of it. A hash comments everything after it in the line, and nothing before it. So you could type this:\n",
    "```python\n",
    "print(\"food is very nice\") #eat me\n",
    "```"
   ]
  },
  {
   "cell_type": "code",
   "execution_count": null,
   "metadata": {
    "id": "FTRbvf2VngyY"
   },
   "outputs": [],
   "source": []
  },
  {
   "cell_type": "markdown",
   "metadata": {
    "id": "aD-dE7U_ngyZ"
   },
   "source": [
    "This results in a normal output, without the smutty comment, thank you very much.\n",
    "\n",
    "Now try this:\n",
    "```python\n",
    "# print(\"food is very nice\")\n",
    "```"
   ]
  },
  {
   "cell_type": "code",
   "execution_count": null,
   "metadata": {
    "id": "7_vmDlp5ngyZ"
   },
   "outputs": [],
   "source": []
  },
  {
   "cell_type": "markdown",
   "metadata": {
    "id": "WO7wJerongyZ"
   },
   "source": [
    "Nothing happens, because the code was after a comment."
   ]
  },
  {
   "cell_type": "markdown",
   "metadata": {
    "id": "nSPG6t5NngyZ"
   },
   "source": [
    "Comments are important for adding necessary information for another programmer to read, but not the computer. For example, an explanation of a section of code, saying what it does, or what is wrong with it. You can also comment bits of code by putting a `#` in front of it - if you don't want it to compile, but can't delete it because you might need it later."
   ]
  },
  {
   "cell_type": "markdown",
   "metadata": {
    "id": "OJzZC6-kuBar"
   },
   "source": [
    "# 2. Programs in a file, variables and strings\n",
    "## 2.1 Introduction\n",
    "Well, we can make one-liner programs. So What? You want to send programs to other people, so that they can use them, without knowing how to write them.\n",
    "## 2.2 Writing scripts\n",
    "Writing programs in Python to a file is VERY easy. Python programs are simply text documents - you can open them up in notepad, and have a look at them, just like that.\n",
    "In practice, however, you will use a so called __[Integrated Development Environment (IDE)](https://en.wikipedia.org/wiki/Integrated_development_environment)__ to develop your scripts.\n",
    "\n",
    "In this tutorial we'll use the Jupyter Notebook interactive fields as an IDE. After the tutorial we'll use __[Spyder](https://pythonhosted.org/spyder/)__ that comes with the __[Anaconda](https://www.anaconda.com/download/)__ Python distribution.\n",
    "\n",
    "Have a look at the program (`mary.py`) below:"
   ]
  },
  {
   "cell_type": "code",
   "execution_count": 3,
   "metadata": {
    "id": "AtMmCsAuuBau"
   },
   "outputs": [
    {
     "name": "stdout",
     "output_type": "stream",
     "text": [
      "Mary had a little lamb\n",
      "it's fleece was white as snow;\n",
      "and everywhere that Mary went her lamb was sure to go.\n"
     ]
    }
   ],
   "source": [
    "#A simple program.\n",
    "print(\"Mary had a little lamb\")\n",
    "print(\"it's fleece was white as snow;\")\n",
    "print(\"and everywhere that Mary went\", end = \" \")\n",
    "print(\"her lamb was sure to go.\")"
   ]
  },
  {
   "cell_type": "markdown",
   "metadata": {
    "id": "UOHhrMUruBav"
   },
   "source": [
    "If you run the script (`<shift> + <Return>`) it will execute lines 1 to 5 after each other. In an IDE there's always a screen where you can type the code with syntax highlighting (like here), a window where you can see the output and a button to run the script. The scripts are saved as `.py` files. These can be run from your command line - Open the terminal window, go to the folder and then type `Python mary.py`. Your program will now execute in the command line.\n",
    "\n",
    "In line 4 `end = \" \"` inserts a space instead of a new line at the end of the `print` operator."
   ]
  },
  {
   "cell_type": "markdown",
   "metadata": {
    "id": "r6KsIyUAuBax"
   },
   "source": [
    "## 2.3 Variables\n",
    "Now let's start introducing variables. Variables store a value, that can be looked at or changed at a later time. Let's make a program that uses variables:"
   ]
  },
  {
   "cell_type": "code",
   "execution_count": null,
   "metadata": {
    "id": "jRT-Q3ZluBay"
   },
   "outputs": [],
   "source": [
    "#variables demonstrated\n",
    "print(\"This program is a demo of variables\")\n",
    "v = 1\n",
    "print(\"The value of v is now\", v)\n",
    "v = v + 1\n",
    "print(\"v now equals itself plus one, making it worth\", v)\n",
    "v = 51\n",
    "print(\"v can store any numerical value, to be used elsewhere.\")\n",
    "print(\"for example, in a sentence. v is now worth\", v)\n",
    "print(\"v times 5 equals\", v * 5)\n",
    "print(\"but v still only remains\", v)\n",
    "print(\"to make v five times bigger, you would have to type v = v * 5\")\n",
    "v = v * 5\n",
    "print(\"there you go, now v equals\", v, \"and not\", v / 5)"
   ]
  },
  {
   "cell_type": "markdown",
   "metadata": {
    "id": "xwvAl-cyuBaz"
   },
   "source": [
    "Run the script and try to understand the results."
   ]
  },
  {
   "cell_type": "markdown",
   "metadata": {
    "id": "8tgnlBB0uBa0"
   },
   "source": [
    "Note that we can also write `v = v + 1` as `v += 1`. This can be used for all operators (e.g. `-=`, `*=`,`/=`). Try it in the code above.\n",
    "\n",
    "It is good practice to use lowercase or camelCase for variables. Don't use special characters and don't start with a number!"
   ]
  },
  {
   "cell_type": "markdown",
   "metadata": {
    "id": "-MCS9zW3uBa1"
   },
   "source": [
    "## 2.5 Strings\n",
    "As you can see, variables store values, for use at a later time. You can change them at any time. You can put in more than numbers, though. Variables can hold things like text. A variable that holds text is called a string. Try this program:"
   ]
  },
  {
   "cell_type": "code",
   "execution_count": 9,
   "metadata": {
    "id": "EfjjIXcsuBa2"
   },
   "outputs": [
    {
     "name": "stdout",
     "output_type": "stream",
     "text": [
      "Good morning\n",
      "Good morning to you too!\n"
     ]
    }
   ],
   "source": [
    "#giving variables text, and adding text.\n",
    "word1 = \"Good\"\n",
    "word2 = \"morning\"\n",
    "word3 = \"to you too!\"\n",
    "print(word1, word2)\n",
    "sentence = word1 + \" \" + word2 + \" \" + word3\n",
    "print(sentence)"
   ]
  },
  {
   "cell_type": "markdown",
   "metadata": {
    "id": "4NwFUlIeuBa3"
   },
   "source": [
    "As you see, the variables above were holding text. Variable names can also be longer than one letter - here, we had `word1`, `word2`, and `word3`. As you can also see, strings can be added together to make longer words or sentences. However, it doesn't add spaces in between the words - hence me putting in the `\" \"` things (there is one space between those).\n",
    "\n",
    "Often we need to manipulate strings. For example if we want to edit file names or make selections from text. Strings are similar to `lists` that you will learn later. So similar operations (called *list slicing*) apply to strings.\n",
    "\n",
    "Try the following code and explain what it does:"
   ]
  },
  {
   "cell_type": "code",
   "execution_count": 5,
   "metadata": {
    "id": "mOHOrZoauBa4"
   },
   "outputs": [
    {
     "data": {
      "text/plain": [
       "10"
      ]
     },
     "execution_count": 5,
     "metadata": {},
     "output_type": "execute_result"
    }
   ],
   "source": [
    "text = \"abcdefghij\"\n",
    "len(text)"
   ]
  },
  {
   "cell_type": "markdown",
   "metadata": {
    "id": "un7c9BbQuBa4"
   },
   "source": [
    "Yes, it shows us the amount of characters in a string.\n",
    "\n",
    "Now try this:"
   ]
  },
  {
   "cell_type": "code",
   "execution_count": null,
   "metadata": {
    "id": "ElUHVG0FuBa5"
   },
   "outputs": [],
   "source": [
    "print(text[4])"
   ]
  },
  {
   "cell_type": "markdown",
   "metadata": {
    "id": "PN6aELY3uBa5"
   },
   "source": [
    "Here we want to print the character at position 4. Note that the first character \"a\" is at position 0! So position 4 gives us back \"e\".\n",
    "\n",
    "Now try:"
   ]
  },
  {
   "cell_type": "code",
   "execution_count": 6,
   "metadata": {
    "id": "LzRplJ-huBa5"
   },
   "outputs": [
    {
     "name": "stdout",
     "output_type": "stream",
     "text": [
      "abcd\n"
     ]
    }
   ],
   "source": [
    "print(text[:4])"
   ]
  },
  {
   "cell_type": "code",
   "execution_count": 7,
   "metadata": {
    "id": "_tuGhs3kuBa6"
   },
   "outputs": [
    {
     "name": "stdout",
     "output_type": "stream",
     "text": [
      "efghij\n"
     ]
    }
   ],
   "source": [
    "print(text[4:])"
   ]
  },
  {
   "cell_type": "markdown",
   "metadata": {
    "id": "KcbD4LCVuBa6"
   },
   "source": [
    "Here you see that `[:4]` selects characters 0,1,2,3, which is \"abcd\". With `[4:]` we start with position 4 (counting from 0!) until the end of the string, which results in \"efghij\".\n",
    "\n",
    "We can also specify a range. Try this:"
   ]
  },
  {
   "cell_type": "code",
   "execution_count": 8,
   "metadata": {
    "id": "cuJ234nuuBa6"
   },
   "outputs": [
    {
     "name": "stdout",
     "output_type": "stream",
     "text": [
      "efgh\n"
     ]
    }
   ],
   "source": [
    "print(text[4:8])"
   ]
  },
  {
   "cell_type": "markdown",
   "metadata": {
    "id": "oPkkZ5xnuBa7"
   },
   "source": [
    "Was it what you expected?\n",
    "With ranges, the maximum value is not included in the selection.\n",
    "\n",
    "We still have the variable `sentence` available. Write code below to select the second word of the sentence using the correct range."
   ]
  },
  {
   "cell_type": "code",
   "execution_count": null,
   "metadata": {
    "id": "Cq--td6PuBa8"
   },
   "outputs": [],
   "source": []
  },
  {
   "cell_type": "markdown",
   "metadata": {
    "id": "dg5taZMIuBa8"
   },
   "source": [
    "Now try this:"
   ]
  },
  {
   "cell_type": "code",
   "execution_count": null,
   "metadata": {
    "id": "Thbhtr86uBa8"
   },
   "outputs": [],
   "source": [
    "print(text[-2])"
   ]
  },
  {
   "cell_type": "markdown",
   "metadata": {
    "id": "iTSxOnvEuBa9"
   },
   "source": [
    "What did it do?\n",
    "\n",
    "Right, you have selected the second character from the right! Note that here we start counting with -1 for the first character on the right.\n",
    "\n",
    "Try this:"
   ]
  },
  {
   "cell_type": "code",
   "execution_count": 10,
   "metadata": {
    "id": "OmHPwaMtuBa9"
   },
   "outputs": [
    {
     "name": "stdout",
     "output_type": "stream",
     "text": [
      "ghij\n"
     ]
    }
   ],
   "source": [
    "print(text[-4:])"
   ]
  },
  {
   "cell_type": "markdown",
   "metadata": {
    "id": "WxiGNCwJuBa9"
   },
   "source": [
    "In human language: start with the 4th character from the right and give me all characters from that position to the end of the string.\n",
    "\n",
    "Now try this and find out what it does:"
   ]
  },
  {
   "cell_type": "code",
   "execution_count": 11,
   "metadata": {
    "id": "X9fetaSXuBa-"
   },
   "outputs": [
    {
     "name": "stdout",
     "output_type": "stream",
     "text": [
      "acegi\n"
     ]
    }
   ],
   "source": [
    "print(text[::2])"
   ]
  },
  {
   "cell_type": "markdown",
   "metadata": {
    "id": "Id4hmp8suBa_"
   },
   "source": [
    "We can also add the results of the *list slicing* to variables and insert this into strings using the format operation:"
   ]
  },
  {
   "cell_type": "code",
   "execution_count": null,
   "metadata": {
    "id": "MXhz8bo1uBbA"
   },
   "outputs": [],
   "source": [
    "nrOfCharacters = len(sentence)\n",
    "lastWord = sentence[-4:-1]\n",
    "print(\"The sentence has {} characters and the last word is: {}\".format(nrOfCharacters,lastWord))"
   ]
  },
  {
   "cell_type": "markdown",
   "metadata": {
    "id": "LmUnPBhnuBbA"
   },
   "source": [
    "So you can easily insert variables at the places of the accolades (`{}`). They will be substituted in the same order of the variables in `.format()`"
   ]
  },
  {
   "cell_type": "markdown",
   "metadata": {
    "id": "vLIoykv8uBbB"
   },
   "source": [
    "This can also be written as:"
   ]
  },
  {
   "cell_type": "code",
   "execution_count": null,
   "metadata": {
    "id": "P3nN7jwguBbC"
   },
   "outputs": [],
   "source": [
    "print(f\"The sentence has {nrOfCharacters} characters and the last word is: {lastWord}\")"
   ]
  },
  {
   "cell_type": "markdown",
   "metadata": {
    "id": "Ck4Vd_-AuBbD"
   },
   "source": [
    "Besides *list slicing* there are also other operations that we can apply to strings.\n",
    "We can count the number of occurences of a specific character in a string:"
   ]
  },
  {
   "cell_type": "code",
   "execution_count": 12,
   "metadata": {
    "id": "Aqnt5Ey5uBbD"
   },
   "outputs": [
    {
     "name": "stdout",
     "output_type": "stream",
     "text": [
      "7\n"
     ]
    }
   ],
   "source": [
    "print(sentence.count('o'))"
   ]
  },
  {
   "cell_type": "markdown",
   "metadata": {
    "id": "TVFWbWPEuBbD"
   },
   "source": [
    "We can also find the position of character:"
   ]
  },
  {
   "cell_type": "code",
   "execution_count": 13,
   "metadata": {
    "id": "dIQO7MeHuBbE"
   },
   "outputs": [
    {
     "name": "stdout",
     "output_type": "stream",
     "text": [
      "4\n"
     ]
    }
   ],
   "source": [
    "print(text.find('e'))"
   ]
  },
  {
   "cell_type": "code",
   "execution_count": 14,
   "metadata": {
    "id": "wl0b7CfVuBbE"
   },
   "outputs": [
    {
     "name": "stdout",
     "output_type": "stream",
     "text": [
      "17\n"
     ]
    }
   ],
   "source": [
    "sometext = \"Hey you, how are you doing?\"\n",
    "print(sometext.rfind(\"you\"))"
   ]
  },
  {
   "cell_type": "markdown",
   "metadata": {
    "id": "Zp591-eDuBbE"
   },
   "source": [
    "`rfind` returns the lasts occurance of a string. So in `sometext` we have the word \"you\" twice. `rfind` returns `17` meaning that the last time that it found \"you\" is starting at position 17 (counting from 0).\n",
    "\n",
    "There are a few other useful string operations. Run the code below and will be obvious what it does:"
   ]
  },
  {
   "cell_type": "code",
   "execution_count": 15,
   "metadata": {
    "id": "nCZIi0N5uBbF"
   },
   "outputs": [
    {
     "name": "stdout",
     "output_type": "stream",
     "text": [
      "HEY YOU, HOW ARE YOU DOING?\n",
      "['Hey you', ' how are you doing?']\n",
      "Hey you, how are you doing!\n"
     ]
    }
   ],
   "source": [
    "# Changes the string to upper case\n",
    "print(sometext.upper())\n",
    "\n",
    "# Splits the string on a character and returns it as list items. You'll learn about lists later\n",
    "print(sometext.split(\",\"))\n",
    "\n",
    "# Replaces strings\n",
    "print(sometext.replace(\"?\",\"!\"))"
   ]
  },
  {
   "cell_type": "markdown",
   "metadata": {
    "id": "hSASe4mAuBbF"
   },
   "source": [
    "There are also some special characters:\n",
    "\n",
    "`\\n` jumps to a new line\n",
    "\n",
    "`\\` is an escape character. You can put it before another character that has a meaning in the code and is not considered a string. This is often used to have strings with backslashes for file names on Windows (e.g. `\"C:\\\\folder\\\\filename.txt\"`). Because `\\` is already an escape character we need to use it twice to escape the escape character!\n",
    "\n",
    "Examples:"
   ]
  },
  {
   "cell_type": "code",
   "execution_count": 16,
   "metadata": {
    "id": "2dMTL7qQuBbF"
   },
   "outputs": [
    {
     "name": "stdout",
     "output_type": "stream",
     "text": [
      "This is a very long sentence and I want to split it into two lines.\n",
      "This is a very long sentence\n",
      "and I want to split it into two lines.\n",
      "This sentence contains a quote and I don't want the string to end (yet)\"\n"
     ]
    }
   ],
   "source": [
    "print(\"This is a very long sentence and I want to split it into two lines.\")\n",
    "print(\"This is a very long sentence\\nand I want to split it into two lines.\")\n",
    "\n",
    "print(\"This sentence contains a quote and I don't want the string to end (yet)\\\"\")"
   ]
  },
  {
   "cell_type": "markdown",
   "metadata": {
    "id": "apoNvSR7uBbG"
   },
   "source": [
    "## 2.6 Conclusion\n",
    "Well done! We now understand longer programs, and know the use of variables. We can also manipulate strings. Next lesson, we look at loops, what they are, and how to use them."
   ]
  },
  {
   "cell_type": "markdown",
   "metadata": {
    "id": "1AJp63LvuHM9"
   },
   "source": [
    "# 3. Loops, Loops, Loops, Loops...\n",
    "## 3.1 Introduction\n",
    "(Our final lesson before we get into interacting with human input. Can't wait, can you?)\n",
    "\n",
    "Just imagine you needed a program to do something 20 times. What would you do? You could copy and paste the code 20 times, and have a virtually unreadable program, not to mention slow and pointless. Or, you could tell the computer to repeat a bit of code between point A and point B, until the time comes that you need it to stop. Such a thing is called a loop.\n",
    "\n",
    "## 3.2 The 'While' loop\n",
    "The following are examples of a type of loop, called the 'while' loop:\n"
   ]
  },
  {
   "cell_type": "code",
   "execution_count": null,
   "metadata": {
    "id": "VbuQtYEKuHM-"
   },
   "outputs": [],
   "source": [
    "a = 0\n",
    "while a < 10:\n",
    "    a = a + 1\n",
    "    print(a)"
   ]
  },
  {
   "cell_type": "markdown",
   "metadata": {
    "id": "MZWxYwmUuHNA"
   },
   "source": [
    "How does this program work? Lets go through it in English:\n",
    "```\n",
    "'a' now equals 0\n",
    "As long as 'a' is less than 10, do the following:\n",
    "   Make 'a' one larger than what it already is.\n",
    "   Print on-screen what 'a' is now worth.\n",
    "```"
   ]
  },
  {
   "cell_type": "markdown",
   "metadata": {
    "id": "HQm2otiouHNB"
   },
   "source": [
    "What does this do? Let's go through what the computer would be 'thinking' when it is in the 'while' loop:"
   ]
  },
  {
   "cell_type": "markdown",
   "metadata": {
    "id": "cvPx9dW_uHNB"
   },
   "source": [
    "```\n",
    "#JUST GLANCE OVER THIS QUICKLY\n",
    "#(It looks fancy, but is really simple)\n",
    "Is 'a' less than 10? YES (its 0)\n",
    "Make 'a' one larger (now 1)\n",
    "print on-screen what 'a' is (1)\n",
    "\n",
    "Is 'a' less than 10? YES (its 1)\n",
    "Make 'a' one larger (now 2)\n",
    "print on-screen what 'a' is (2)\n",
    "\n",
    "Is 'a' less than 10? YES (its 2)\n",
    "Make 'a' one larger (now 3)\n",
    "print on-screen what 'a' is (3)\n",
    "\n",
    "Is 'a' less than 10? YES (its 3)\n",
    "Make 'a' one larger (now 4)\n",
    "print on-screen what 'a' is (4)\n",
    "\n",
    "Is 'a' less than 10? YES (its 4)\n",
    "Make 'a' one larger (now 5)\n",
    "print on-screen what 'a' is (5)\n",
    "\n",
    "Is 'a' less than 10? YES (its 5)\n",
    "Make 'a' one larger (now 6)\n",
    "print on-screen what 'a' is (6)\n",
    "\n",
    "Is 'a' less than 10? YES (its 6)\n",
    "Make 'a' one larger (now 7)\n",
    "print on-screen what 'a' is (7)\n",
    "\n",
    "Is 'a' less than 10? YES (are you still here?)\n",
    "Make 'a' one larger (now 8)\n",
    "print on-screen what 'a' is (8)\n",
    "\n",
    "Is 'a' less than 10? YES (its 8)\n",
    "Make 'a' one larger (now 9)\n",
    "print on-screen what 'a' is (9)\n",
    "\n",
    "Is 'a' less than 10? YES (its 9)\n",
    "Make 'a' one larger (now 10)\n",
    "print on-screen what 'a' is (10)\n",
    "\n",
    "Is 'a' less than 10? NO (its 10, therefore isn't less than 10)\n",
    "Don't do the loop\n",
    "There's no code left to do, so the program ends\n",
    "```"
   ]
  },
  {
   "cell_type": "markdown",
   "metadata": {
    "id": "l1VS9cW1uHND"
   },
   "source": [
    "So in short, try to think of it that way when you write 'while' loops. This is how you write them, by the way (syntax):\n",
    "```\n",
    "while {condition that the loop continues}:\n",
    "    {what to do in the loop}\n",
    "    {have it indented, usually four spaces}\n",
    "the code here is not looped\n",
    "because it isn't indented\n",
    "```"
   ]
  },
  {
   "cell_type": "markdown",
   "metadata": {
    "id": "bpYejFHXuHNE"
   },
   "source": [
    "Now try to understand this example and run to see if it is what you expected."
   ]
  },
  {
   "cell_type": "code",
   "execution_count": null,
   "metadata": {
    "id": "NTHvV1cmuHNE"
   },
   "outputs": [],
   "source": [
    "x = 10\n",
    "while x != 0:\n",
    "    print(x)\n",
    "    x = x - 1\n",
    "    print(\"wow, we've counted x down, and now it equals\", x)\n",
    "print(\"And now the loop has ended.\")"
   ]
  },
  {
   "cell_type": "markdown",
   "metadata": {
    "id": "yPTP_hRSuHNF"
   },
   "source": [
    "## 3.3 Boolean Expressions (Boolen... what?!?)\n",
    "What do you type in the area marked `{conditions that the loop continues}`? The answer is a boolean expression.<br>\n",
    "What? A forgotten concept for the non-math people here. Never mind, boolean expression just means a question that can be answered with a TRUE or FALSE response. For example, if you wanted to say your age is the same as the person next to you, you would type:\n",
    "\n",
    "`My age == the age of the person next to me`\n",
    "\n",
    "And the statement would be TRUE. If you were younger than the person opposite, you'd say:\n",
    "`My age < the age of the person opposite me`\n",
    "\n",
    "And the statement would be TRUE. If, however, you were to say the following, and the person opposite of you was younger than you:\n",
    "\n",
    "`My age < the age of the person opposite me`\n",
    "\n",
    "The statement would be FALSE - the truth is that it is the other way around. This is how a loop thinks - if the expression is true, keep looping. If it is false, don't loop. With this in mind, let's have a look at the operators (symbols that represent an action) that are involved in boolean expressions:<br>\n",
    "\n",
    "| Expression | Function  |\n",
    "|   :---:    |   :---:   |\n",
    "|    `<`     | Less than |\n",
    "| `<=` | Less than or equal to |\n",
    "| `>` | Greater than |\n",
    "| `>=` | Greater than or equal to |\n",
    "| `!=` | Not equal to |\n",
    "| `<>` | Not equal to (alternate) |\n",
    "| `==` | Equal to |\n",
    "\n",
    "Don't get `=` and `==` mixed up - the `=` operator makes what is on the left equal to what is on the right. the `==` operator says whether the thing on the left is the same as what is on the right, and returns True or False.\n",
    "\n",
    "\n"
   ]
  },
  {
   "cell_type": "markdown",
   "metadata": {
    "id": "SNzeb8_UuHNG"
   },
   "source": [
    "## 3.4 Conditional Statements\n",
    "OK! We've (hopefully) covered 'while' loops. Now let's look at something a little different - conditionals.<br>\n",
    "Conditionals are where a section of code is only run if certain conditions are met. This is similar to the 'while' loop you just wrote, which only runs when x doesn't equal 0. However, Conditionals are only run once. The most common conditional in any program language, is the 'if' statement. Here is how it works:<br>\n",
    "```\n",
    "if {conditions to be met}:\n",
    "    {do this}\n",
    "    {and this}\n",
    "    {and this}\n",
    "{but this happens regardless}\n",
    "{because it isn't indented}\n",
    "```\n",
    "<br>\n",
    "Now some examples in Python:"
   ]
  },
  {
   "cell_type": "code",
   "execution_count": null,
   "metadata": {
    "id": "_ZAybAxnuHNH"
   },
   "outputs": [],
   "source": [
    "#EXAMPLE 1\n",
    "y = 1\n",
    "if y == 1:\n",
    "    print(\"y still equals 1, I was just checking\")"
   ]
  },
  {
   "cell_type": "code",
   "execution_count": null,
   "metadata": {
    "id": "ClnT0A6CuHNI"
   },
   "outputs": [],
   "source": [
    "#EXAMPLE 2\n",
    "print(\"We will show the even numbers up to 20\")\n",
    "n = 1\n",
    "while n <= 20:\n",
    "    if n % 2 == 0:\n",
    "        print(n)\n",
    "    n = n + 1\n",
    "print(\"there, done.\")"
   ]
  },
  {
   "cell_type": "markdown",
   "metadata": {
    "id": "fAU3FR_suHNI"
   },
   "source": [
    "Example 2 there looks tricky. But all we have done is run an `if` statement every time the `while` loop runs. Remember that the `%` just means the remainder from a division - just checking that there is nothing left over if the number is divided by two - showing it is even. If it is even, it prints what `n` is."
   ]
  },
  {
   "cell_type": "markdown",
   "metadata": {
    "id": "WHGMg42JuHNJ"
   },
   "source": [
    "## 3.5 `else` and `elif` - When it Ain't True\n",
    "There are many ways you can use the `if` statement to deal with situations where your boolean expression ends up FALSE. They are `else` and `elif`.<br>\n",
    "`else` simply tells the computer what to do if the conditions of `if` aren't met. For example, read the following:"
   ]
  },
  {
   "cell_type": "code",
   "execution_count": null,
   "metadata": {
    "id": "YuqEblmEuHNJ"
   },
   "outputs": [],
   "source": [
    "a = 1\n",
    "if a > 5:\n",
    "    print(\"This shouldn't happen.\")\n",
    "else:\n",
    "    print(\"This should happen.\")"
   ]
  },
  {
   "cell_type": "markdown",
   "metadata": {
    "id": "dcJBMvLxuHNJ"
   },
   "source": [
    "`a` is not greater than five, therefore what is under `else` is done.\n",
    "\n",
    "`elif` is just a shortened way of saying `else if`. When the `if` statement fails to be true, `elif` will do what is under it IF the conditions are met. For example:"
   ]
  },
  {
   "cell_type": "code",
   "execution_count": null,
   "metadata": {
    "id": "BGWUCxgNuHNJ"
   },
   "outputs": [],
   "source": [
    "z = 4\n",
    "if z > 70:\n",
    "    print(\"Something is very wrong\")\n",
    "elif z < 7:\n",
    "    print(\"This is normal\")"
   ]
  },
  {
   "cell_type": "markdown",
   "metadata": {
    "id": "C7N02ZXEuHNK"
   },
   "source": [
    "The `if` statement, along with `else` and `elif` follow this form:\n",
    "```Python\n",
    "if {conditions}:\n",
    "    {run this code}\n",
    "elif {conditions}:\n",
    "    {run this code}\n",
    "elif {conditions}:\n",
    "    {run this code}\n",
    "else:\n",
    "    {run this code}\n",
    "#You can have as many or as little elif statements as you need\n",
    "#anywhere from zero to the sky.\n",
    "#You can have at most one else statement\n",
    "#and only after all other ifs and elifs.\n",
    "```"
   ]
  },
  {
   "cell_type": "markdown",
   "metadata": {
    "id": "cF1jlGSyuHNK"
   },
   "source": [
    "***One of the most important points to remember is that you MUST have a colon `:` at the end of every line with an `if`, `elif`, `else` or `while` in it.***"
   ]
  },
  {
   "cell_type": "markdown",
   "metadata": {
    "id": "BBkowNuLuHNK"
   },
   "source": [
    "## 3.6 Indentation\n",
    "One other point is that the code to be executed if the conditions are met, MUST BE INDENTED. That means that if you want to loop the next five lines with a `while` loop, you must put a set number of spaces at the beginning of each of the next five lines. This is good programming practice in any language, but Python requires that you do it. Here is an example of both of the above points:"
   ]
  },
  {
   "cell_type": "code",
   "execution_count": null,
   "metadata": {
    "id": "4aJiKNqsuHNK"
   },
   "outputs": [],
   "source": [
    "a = 10\n",
    "while a > 0:\n",
    "    print(a)\n",
    "    if a > 5:\n",
    "        print(\"Big number!\")\n",
    "    elif a % 2 != 0:\n",
    "        print(\"This is an odd number\")\n",
    "        print(\"It isn't greater than five, either\")\n",
    "    else:\n",
    "        print(\"this number isn't greater than 5\")\n",
    "        print(\"nor is it odd\")\n",
    "        print(\"feeling special?\")\n",
    "    a = a - 1\n",
    "    print(\"we just made 'a' one less than what it was!\")\n",
    "    print(\"and unless a is not greater than 0, we'll do the loop again.\")\n",
    "print(\"well, it seems as if 'a' is now no bigger than 0!\")\n",
    "print(\"the loop is now over, and without furthur adue, so is this program!\")"
   ]
  },
  {
   "cell_type": "markdown",
   "metadata": {
    "id": "7l7YVI4UuHNL"
   },
   "source": [
    "Notice the three levels of indents there:\n",
    "1.\tEach line in the first level starts with no spaces. It is the main program, and will always execute.\n",
    "2.\tEach line in the second level starts with four spaces. When there is an `if` or loop on the first level, everything on the second level after that will be looped/'ifed', until a new line starts back on the first level again.\n",
    "3.\tEach line in the third level starts with eight spaces. When there is an `if` or loop on the second level, everything on the third level after that will be looped/'ifed', until a new line starts back on the second level again.\n",
    "4.\tThis goes on infinitely, until the person writing the program has an internal brain explosion, and cannot understand anything he/she has written."
   ]
  },
  {
   "cell_type": "markdown",
   "metadata": {
    "id": "XI2qOKKQuHNL"
   },
   "source": [
    "There is another loop, called the 'for' loop, but we will cover that in a later lesson, after we have learnt about lists.\n",
    "## 3.7 Conclusion\n",
    "And that is lesson 3! In lesson 4, we get into user interaction, and writing programs that actually serve a purpose. Can't wait!"
   ]
  },
  {
   "cell_type": "markdown",
   "metadata": {
    "id": "0W3FY5jnuLp7"
   },
   "source": [
    "# 4. Functions\n",
    "## 4.1 Introduction\n",
    "Last lesson I said that we would delve into purposeful programming. That involves user input, and user input requires a thing called functions.\n",
    "\n",
    "What are functions? Well, in effect, functions are little self-contained programs that perform a specific task, which you can incorporate into your own, larger programs. After you have created a function, you can use it at any time, in any place. This saves you the time and effort of having to retell the computer what to do every time it does a common task, for example getting the user to type something in.\n",
    "\n",
    "## 4.2 Using a Function\n",
    "Python has lots of pre-made functions, that you can use right now, simply by 'calling' them. 'Calling' a function involves you giving a function input, and it will return a value (like a variable would) as output. Don't understand? Here is the general form that calling a function takes:<br>\n",
    "`function_name(parameters)`\n",
    "\n",
    "See? Easy.\n",
    "\n",
    "- `Function_name` identifies which function it is you want to use (You'd figure...). For example, the function `raw_input`, which will be the first function that we will use.\n",
    "- `Parameters` are the values you pass to the function to tell it what is should do, and how to do it... for example, if a function multiplied any given number by five, the stuff in parameters tells the function which number it should multiply by five. Put the number 70 into parameters, and the function will do 70 x 5."
   ]
  },
  {
   "cell_type": "markdown",
   "metadata": {
    "id": "QG5IowhWuLp8"
   },
   "source": [
    "## 4.3 Parameters and Returned Values - Communicating with Functions\n",
    "Well, that's all well and good that the program can multiply a number by five, but what does it have to show for it? A warm fuzzy feeling? Your program needs to see the results of what happened, to see what 70 x 5 is, or to see if there is a problem somewhere (like you gave it a letter instead of a number). So how does a function show what is does?\n",
    "\n",
    "Well, in effect, when a computer runs a function, it doesn't actually see the function name, but the result of what the function did. Variables do the exact same thing - the computer doesn't see the variable name, it sees the value that the variable holds. Let's call this program that multiplied any number by five, `multiply()`. You put the number you want multiplied in the brackets. So if you typed this:\n",
    "\n",
    "`a = multiply(70)`\n",
    "\n",
    "The computer would actually see this:\n",
    "\n",
    "`a = 350`\n",
    "\n",
    "Note: don't bother typing in this code - `multiply()` isn't a real function, unless you create it.\n",
    "\n",
    "The function ran itself, then returned a number to the main program, based on what parameters it was given.\n",
    "\n",
    "Now let's try this with a real function, and see what it does. The function is called `input`, and asks the user to type in something. It then turns it into a string of text. Try the code below:"
   ]
  },
  {
   "cell_type": "code",
   "execution_count": null,
   "metadata": {
    "id": "ull0tt9JuLp9"
   },
   "outputs": [],
   "source": [
    "# this line makes 'a' equal to whatever you type in\n",
    "a = input(\"Type in something, and it will be repeated on screen: \")\n",
    "# this line prints what 'a' is now worth\n",
    "print(a)"
   ]
  },
  {
   "cell_type": "markdown",
   "metadata": {
    "id": "uyxLN9TDuLp_"
   },
   "source": [
    "Say in the above program, you typed in `hello` when it asked you to type something in. To the computer, this program would look like this:\n",
    "\n",
    "```Python\n",
    "a = \"hello\"\n",
    "print(\"hello\")\n",
    "```"
   ]
  },
  {
   "cell_type": "markdown",
   "metadata": {
    "id": "dW6Lhr8auLp_"
   },
   "source": [
    "Remember, a variable is just a stored value. To the computer, the variable `a` doesn't look like `a` - it looks like the value that is stored inside it. Functions are similar - to the main program (that is, the program that is running the function), they look like the value of what they give in return of running."
   ]
  },
  {
   "cell_type": "markdown",
   "metadata": {
    "id": "NdtOnid_uLqA"
   },
   "source": [
    "## 4.4 A Calculator Program\n",
    "Let's write another program, that will act as a calculator. This time it will do something more adventurous than what we have done before. There will be a menu, that will ask you whether you want to multiply two numbers together, add two numbers together, divide one number by another, or subtract one number from another. Only problem - the `input` function returns what you type in as a string - we want the number 1, not the letter 1 (and yes, in Python, there is a difference).\n",
    "\n",
    "Luckily, somebody wrote the function `eval`, which returns what you typed in, to the main program - but this time, it puts it in as a number. If you type an integer (a whole number), what comes out of input is an integer. And if you put that integer into a variable, the variable will be an integer-type variable, which means you can add and subtract, etc."
   ]
  },
  {
   "cell_type": "code",
   "execution_count": null,
   "metadata": {
    "id": "5ECYgdv4uLqC"
   },
   "outputs": [],
   "source": [
    "# this line makes 'a' equal to the value that you type. It doesn't accept strings\n",
    "a = eval(input(\"Type in something, and it will be repeated on screen: \"))\n",
    "# this line prints what 'a' is now worth\n",
    "print(a)"
   ]
  },
  {
   "cell_type": "markdown",
   "metadata": {
    "id": "elgzMzUJuLqD"
   },
   "source": [
    "Now, let's design this calculator properly. We want a menu that is returned to every time you finish adding, subtracting, etc. In other words, to loop (HINT!!!) while (BIG HINT!!!) you tell it the program should still run.\n",
    "We want it to do an option in the menu if you type in that number. That involves you typing in a number (a.k.a. input) and an `if` loop.<br>\n",
    "Let's write it out in understandable English first (pseudocode):\n",
    "\n",
    "```\n",
    "START PROGRAM\n",
    "print opening message\n",
    "\n",
    "while we let the program run, do this:\n",
    "    #Print what options you have\n",
    "    print Option 1 - add\n",
    "    print Option 2 - subtract\n",
    "    print Option 3 - multiply\n",
    "    print Option 4 - divide\n",
    "    print Option 5 - quit program\n",
    "\n",
    "    ask for which option it is you want\n",
    "    if it is option 1:\n",
    "        ask for first number\n",
    "        ask for second number\n",
    "        add them together\n",
    "        print the result onscreen\n",
    "    if it is option 2:\n",
    "        ask for first number\n",
    "        ask for second number\n",
    "        subtract one from the other\n",
    "        print the result onscreen\n",
    "    if it is option 3:\n",
    "        ask for first number\n",
    "        ask for second number\n",
    "        multiply!\n",
    "        print the result onscreen\n",
    "    if it is option 4:\n",
    "        ask for first number\n",
    "        ask for second number\n",
    "        divide one by the other\n",
    "        print the result onscreen\n",
    "    if it is option 5:\n",
    "        tell the loop to stop looping\n",
    "Print onscreen a goodbye message\n",
    "END PROGRAM\n",
    "```\n",
    "Let's put this in something that Python can understand:"
   ]
  },
  {
   "cell_type": "code",
   "execution_count": null,
   "metadata": {
    "id": "vl4AHfOvuLqE"
   },
   "outputs": [],
   "source": [
    "#calculator program\n",
    "\n",
    "#this variable tells the loop whether it should loop or not.\n",
    "#1 means loop. Anything else means don't loop.\n",
    "\n",
    "loop = 1\n",
    "\n",
    "#this variable holds the user's choice in the menu:\n",
    "\n",
    "choice = 0\n",
    "\n",
    "while loop == 1:\n",
    "    #print what options you have\n",
    "    print(\"Welcome to calculator.py\")\n",
    "\n",
    "    print(\"your options are:\")\n",
    "    print(\" \")\n",
    "    print(\"1. Addition\")\n",
    "    print(\"2. Subtraction\")\n",
    "    print(\"3. Multiplication\")\n",
    "    print(\"4. Division\")\n",
    "    print(\"5. Quit calculator.py\")\n",
    "    print(\" \")\n",
    "\n",
    "    choice = eval(input(\"Choose your option: \"))\n",
    "    if choice == 1:\n",
    "        add1 = eval(input(\"Add this: \"))\n",
    "        add2 = eval(input(\"to this: \"))\n",
    "        print(add1, \"+\", add2, \"=\", add1 + add2)\n",
    "    elif choice == 2:\n",
    "        sub2 = eval(input(\"Subtract this: \"))\n",
    "        sub1 = eval(input(\"from this: \"))\n",
    "        print(sub1, \"-\", sub2, \"=\", sub1 - sub2)\n",
    "    elif choice == 3:\n",
    "        mul1 = eval(input(\"Multiply this: \"))\n",
    "        mul2 = eval(input(\"with this: \"))\n",
    "        print(mul1, \"*\", mul2, \"=\", mul1 * mul2)\n",
    "    elif choice == 4:\n",
    "        div1 = eval(input(\"Divide this: \"))\n",
    "        div2 = eval(input(\"by this: \"))\n",
    "        print(div1, \"/\", div2, \"=\", div1 / div2)\n",
    "    elif choice == 5:\n",
    "        loop = 0\n",
    "        \n",
    "print(\"Thank you for using calculator.py!\")"
   ]
  },
  {
   "cell_type": "markdown",
   "metadata": {
    "id": "FZZm4ggXuLqF"
   },
   "source": [
    "Play around with it - try all options, entering in integers (numbers without decimal points), and numbers with stuff after the decimal point (known in programming as a floating point). Try typing in text, and see how the program chucks a minor fit, and stops running (that can be dealt with, using error handling, which we can address later)."
   ]
  },
  {
   "cell_type": "markdown",
   "metadata": {
    "id": "9Na-evFouLqF"
   },
   "source": [
    "## 4.5 Define Your Own Functions\n",
    "Well, it is all well and good that you can use other people's functions, but what if you want to write your own functions, to save time, and maybe use them in other programs? This is where the `def` operator comes in. (An operator is just something that tells Python what to do, e.g. the `+` operator tells Python to add things, the `if` operator tells Python to do something if conditions are met.)\n",
    "\n",
    "This is how the `def` operator works:\n",
    "\n",
    "```\n",
    "def function_name(parameter_1,parameter_2):\n",
    "    {this is the code in the function}\n",
    "    {more code}\n",
    "    {more code}\n",
    "    return {value to return to the main program}\n",
    "{this code isn't in the function}\n",
    "{because it isn't indented}\n",
    "#remember to put a colon \":\" at the end\n",
    "#of the line that starts with 'def'\n",
    "```\n"
   ]
  },
  {
   "cell_type": "markdown",
   "metadata": {
    "id": "416Ry-RKuLqG"
   },
   "source": [
    "`function_name` is the name of the function. You write the code that is in the function below that line, and have it indented. (We will worry about `parameter_1` and `parameter_2` later, for now imagine there is nothing between the parentheses.\n",
    "\n",
    "Functions run completely independent of the main program. Remember when I said that when the computer comes to a function, it doesn't see the function, but a value, that the function returns? Here's the quote:\n",
    "\n",
    "To the computer, the variable 'a' doesn't look like 'a' - it looks like the value that is stored inside it. Functions are similar - to the main program (that is, the program that is running the function), they look like the value of what they give in return of running."
   ]
  },
  {
   "cell_type": "markdown",
   "metadata": {
    "id": "l-86D6mxuLqH"
   },
   "source": [
    "A function is like a miniature program that some parameters are given to - it then runs itself, and then returns a value. Your main program sees only the returned value. If that function flew to the moon and back, and then at the end had:\n",
    "\n",
    "`return \"hello\"`\n",
    "\n",
    "then all your program would see is the string `\"hello\"`, where the name of the function was. It would have no idea what else the program did.\n",
    "\n",
    "Because it is a separate program, a function doesn't see any of the variables that are in your main program, and your main program doesn't see any of the variables that are in a function. For example, here is a function that prints the words `\"hello\"` onscreen, and then returns the number `'1234'` to the main program:"
   ]
  },
  {
   "cell_type": "code",
   "execution_count": null,
   "metadata": {
    "id": "cZz_OZnkuLqI"
   },
   "outputs": [],
   "source": [
    "# Below is the function\n",
    "def hello():\n",
    "    print(\"hello\")\n",
    "    return 1234\n",
    "\n",
    "# And here is the function being used\n",
    "print(hello())"
   ]
  },
  {
   "cell_type": "markdown",
   "metadata": {
    "id": "c-wXyoBJuLqI"
   },
   "source": [
    "So what happened?\n",
    "1.\twhen `def hello()` was run, a function called `hello` was created\n",
    "2.\tWhen the line `print(hello())` was run, the function `hello` was executed (The code inside it was run)\n",
    "3.\tThe function `hello` printed `\"hello\"` onscreen, then returned the number `1234` back to the main program\n",
    "4.\tThe main program now sees the line as `print(\"1234\")` and as a result, printed `1234`"
   ]
  },
  {
   "cell_type": "markdown",
   "metadata": {
    "id": "EryZhVB9uLqI"
   },
   "source": [
    "That accounts for everything that happened. Remember, that the main program had NO IDEA that the words `hello` were printed onscreen. All it saw was `1234`, and printed that onscreen."
   ]
  },
  {
   "cell_type": "markdown",
   "metadata": {
    "id": "llS-_Fs-uLqJ"
   },
   "source": [
    "## 4.6 Passing Parameters to functions\n",
    "There is one more thing we will cover in this (monstrously huge) lesson - passing parameters to a function. Think back to how we defined functions:<br>\n",
    "```\n",
    "def function_name(parameter_1,parameter_2):\n",
    "    {this is the code in the function}\n",
    "    {more code}\n",
    "    {more code}\n",
    "    return {value (e.g. text or number) to return to the main program}\n",
    "```\n",
    "\n",
    "Where `parameter_1` and `parameter_2` are (between the parentheses), you put the names of variables that you want to put the parameters into. Put as many as you need, just have them seperated by commas. When you run a function, the first value you put inside the parentheses would go into the variable where `parameter_1` is. The second one (after the first comma) would go to the variable where `parameter_2` is. This goes on for however many parameters there are in the function (from zero, to the sky). For example:"
   ]
  },
  {
   "cell_type": "code",
   "execution_count": null,
   "metadata": {
    "id": "Cwb7kYIWuLqJ"
   },
   "outputs": [],
   "source": [
    "def funnyfunction(first_word,second_word,third_word):\n",
    "    print(\"The word created is: \" + first_word + second_word + third_word)\n",
    "    return first_word + second_word + third_word"
   ]
  },
  {
   "cell_type": "markdown",
   "metadata": {
    "id": "cg7GyktAuLqJ"
   },
   "source": [
    "When you run the function above, you would type in something like this: `funnyfunction(\"meat\",\"eater\",\"man\")`. The first value (that is, \"meat\") would be put into the variable called first_word. The second value inside the brackets (that is, \"eater\") would be put into the variable called second_word, and so on. This is how values are passed from the main program to functions - inside the parentheses, after the function name.\n",
    "\n",
    "Add a new line to the script above that invokes the function."
   ]
  },
  {
   "cell_type": "markdown",
   "metadata": {
    "id": "228imShjuLqK"
   },
   "source": [
    "## 4.7 A Final Program\n",
    "Think back to that calculator program. Did it look a bit messy to you? I think it did, so let's re-write it, with functions.\n",
    "\n",
    "To design - First we will define all the functions we are going to use with the `def` operator (still remember what an operator is ;) ). Then we will have the main program, with all that messy code replaced with nice, neat functions. This will make it so much easier to look at again in the future."
   ]
  },
  {
   "cell_type": "code",
   "execution_count": null,
   "metadata": {
    "id": "n_Ft26F4uLqK"
   },
   "outputs": [],
   "source": [
    "# calculator program\n",
    "\n",
    "# NO CODE IS REALLY RUN HERE, IT IS ONLY TELLING US WHAT WE WILL DO LATER\n",
    "# Here we will define our functions\n",
    "# this prints the main menu, and prompts for a choice\n",
    "def menu():\n",
    "    #print what options you have\n",
    "    print(\"Welcome to calculator.py\")\n",
    "    print(\"your options are:\")\n",
    "    print(\" \")\n",
    "    print(\"1. Addition\")\n",
    "    print(\"2. Subtraction\")\n",
    "    print(\"3. Multiplication\")\n",
    "    print(\"4. Division\")\n",
    "    print(\"5. Quit calculator.py\")\n",
    "    print(\" \")\n",
    "    return eval(input(\"Choose your option: \"))\n",
    "    \n",
    "# this adds two numbers given\n",
    "def add(a,b):\n",
    "    print(a, \"+\", b, \"=\", a + b)\n",
    "    \n",
    "# this subtracts two numbers given\n",
    "def sub(a,b):\n",
    "    print(b, \"-\", a, \"=\", b - a)\n",
    "    \n",
    "# this multiplies two numbers given\n",
    "def mul(a,b):\n",
    "    print(a, \"*\", b, \"=\", a * b)\n",
    "    \n",
    "# this divides two numbers given\n",
    "def div(a,b):\n",
    "    print(a, \"/\", b, \"=\", a / b)\n",
    "    \n",
    "# NOW THE PROGRAM REALLY STARTS, AS CODE IS RUN\n",
    "loop = 1\n",
    "choice = 0\n",
    "while loop == 1:\n",
    "    choice = menu()\n",
    "    if choice == 1:\n",
    "        add(eval(input(\"Add this: \")),eval(input(\"to this: \")))\n",
    "    elif choice == 2:\n",
    "        sub(eval(input(\"Subtract this: \")),eval(input(\"from this: \")))\n",
    "    elif choice == 3:\n",
    "        mul(eval(input(\"Multiply this: \")),eval(input(\"by this: \")))\n",
    "    elif choice == 4:\n",
    "        div(eval(input(\"Divide this: \")),eval(input(\"by this: \")))\n",
    "    elif choice == 5:\n",
    "        loop = 0\n",
    "\n",
    "print(\"Thank you for using calculator.py!\")\n",
    "\n",
    "# NOW THE PROGRAM REALLY FINISHES"
   ]
  },
  {
   "cell_type": "markdown",
   "metadata": {
    "id": "OqgvcXQFuLqK"
   },
   "source": [
    "The initial program had 34 lines of code. The new one actually had 35 lines of code! It is a little longer, but if you look at it the right way, it is actually simpler.\n",
    "\n",
    "You defined all your functions at the top. This really isn't part of your main program - they are just lots of little programs that you will call upon later. You could even re-use these in another program if you needed them, and didn't want to tell the computer how to add and subtract again.\n",
    "\n",
    "If you look at the main part of the program (between the line `loop = 1` and `print(\"Thank you for...\")`), it is only 15 lines of code. That means that if you wanted to write this program differently, you would only have to write 15 or so lines, as opposed to the 34 lines you would normally have to without functions."
   ]
  },
  {
   "cell_type": "markdown",
   "metadata": {
    "id": "k1xHZYHXuLqL"
   },
   "source": [
    "## 4.8 Tricky Ways You Can Pass Parameters\n",
    "Finally, as a bit of an interlude, I will explain what the line `add(eval(input(\"Add this: \")),eval(input(\"to this: \")))` means.\n",
    "\n",
    "I wanted to fit everything onto one line, with as few variables as possible. Remember what functions look like to the main program? Whatever value they return. If the numbers you passed to the add() function were 2 and 30, the main program would see this:\n",
    "\n",
    "`add(2,30)`\n",
    "\n",
    "The add program would then run, adding 2 and 30, then printing the result. The add program has no `return` operator - it doesn't return anything to the main program. It simply adds two numbers and prints them onscreen, and the main program doesn't see anything of it.\n",
    "\n",
    "Instead of `(eval(input(\"Add this: \")),eval(input(\"to this: \")))` as the parameters for the add program you could have variables. E.g.\n",
    "\n",
    "```\n",
    "num1 = 45\n",
    "num2 = 7\n",
    "add(num1,num2)\n",
    "```\n",
    "\n",
    "For the above, remember that the function you are passing the variables to cannot change the variables themselves - they are simply used as values. You could even put the values straight into the function:\n",
    "\n",
    "`add(45,7)`\n",
    "\n",
    "This is because the only thing the function sees are the values that are passed on as parameters. Those values are put into the variables that are mentioned when `add` is defined (the line `def add(a,b)`). The function then uses those parameters to do its job.\n",
    "\n",
    "In short:\n",
    "* The only thing functions see of the main program is the parameters that are passed to it\n",
    "* The only thing the main program sees of functions is the returned value that it passes back"
   ]
  },
  {
   "cell_type": "markdown",
   "metadata": {
    "id": "ijfEE8h3uLqL"
   },
   "source": [
    "## 4.9 Conclusion\n",
    "WHOA!!!! WHAT A KILLER LESSON!!! But we got through it, and I made minimal typos. Great!"
   ]
  },
  {
   "cell_type": "markdown",
   "metadata": {
    "id": "lnqkbK9ZuPW5"
   },
   "source": [
    "# 5.\tTuples, Lists, and Dictionaries\n",
    "## 5.1\tIntroduction\n",
    "Your brain still hurting from the last lesson? Never worry, this one will require a little less thought. We're going back to something simple - variables - but a little more in depth.\n",
    "\n",
    "Think about it - variables store one bit of information. They may regurgitate (just not on the carpet...) that information at any point, and their bit of information can be changed at any time. Variables are great at what they do - storing a piece of information that may change over time.\n",
    "\n",
    "But what if you need to store a long list of information, which doesn't change over time? Say, for example, the names of the months of the year. Or maybe a long list of information that does change over time? Say, for example, the names of all your cats. You might get new cats, some may die, some may become your dinner (we should trade recipies!). What about a phone book? For that you need to do a bit of referencing - you would have a list of names, and attached to each of those names, a phone number. How would you do that?"
   ]
  },
  {
   "cell_type": "markdown",
   "metadata": {
    "id": "GmmzjJXfuPW6"
   },
   "source": [
    "## 5.2\tThe Solution - Lists, Tuples, and Dictionaries\n",
    "For these three problems, Python uses three different solutions - Tuples, Lists, and Dictionaries:\n",
    "* **Lists** are what they seem - a list of values. Each one of them is numbered, starting from zero - the first one is numbered zero, the second 1, the third 2, etc. You can remove values from the list, and add new values to the end. Example: Your many cats' names.\n",
    "* **Tuples** are just like lists, but you can't change their values. The values that you give it first up, are the values that you are stuck with for the rest of the program. Again, each value is numbered starting from zero, for easy reference. Example: the names of the months of the year.\n",
    "* **Dictionaries** are similar to what their name suggests - a dictionary. In a dictionary, you have an 'index' of words, and for each of them a definition. In Python, the word is called a 'key', and the definition a 'value'. The values in a dictionary aren't numbered - they aren't in any specific order, either - the key does the same thing. You can add, remove, and modify the values in dictionaries. Example: telephone book."
   ]
  },
  {
   "cell_type": "markdown",
   "metadata": {
    "id": "wqy2m5C6uPW8"
   },
   "source": [
    "### 5.2.1 Tuples\n",
    "Tuples are pretty easy to make. You give your tuple a name, then after that the list of values it will carry. For example, the months of the year:"
   ]
  },
  {
   "cell_type": "code",
   "execution_count": null,
   "metadata": {
    "id": "L2pZKQCuuPW9"
   },
   "outputs": [],
   "source": [
    "months = ('January','February','March','April','May','June',\\\n",
    "'July','August','September','October','November','  December')"
   ]
  },
  {
   "cell_type": "markdown",
   "metadata": {
    "id": "kVt2zyE6uPXA"
   },
   "source": [
    "* Note that the `\\` thingy at the end of the first line carries over that line of code to the next line. It is useful way of making big lines more readable.\n",
    "* Technically you don't have to put those parentheses there (the `(` and `)` thingies) but it stops Python from getting things confused.\n",
    "* You may have spaces after the commas if you feel it necessary - it doesn't really matter"
   ]
  },
  {
   "cell_type": "markdown",
   "metadata": {
    "id": "LY8PVoFquPXB"
   },
   "source": [
    "Python then organises those values in a handy, numbered index - starting from zero, in the order that you entered them in. It would be organised like this:<br>\n",
    "\n",
    "| Index | Value |\n",
    "| :---: | :---: |\n",
    "| 0 | January |\n",
    "| 1 | February |\n",
    "| 2 | March |\n",
    "| 3 | April |\n",
    "| 4 | May |\n",
    "| 5 | June |\n",
    "| 6 | July |\n",
    "| 7 | August |\n",
    "| 8 | September |\n",
    "| 9 | October |\n",
    "| 10 | November |\n",
    "| 11 | December |\n",
    "And that is tuples! Really easy..."
   ]
  },
  {
   "cell_type": "markdown",
   "metadata": {
    "id": "dQ5OEW2DuPXC"
   },
   "source": [
    "### 5.2.2 Lists\n",
    "Lists are extremely similar to tuples. Lists are modifiable (or 'mutable', as a programmer may say), so their values can be changed. Most of the time we use lists, not tuples, because we want to easily change the values of things if we need to.\n",
    "\n",
    "Lists are defined very similarly to tuples. Say you have FIVE cats, called Tom, Snappy, Kitty, Jessie and Chester. To put them in a list, you would do this:<br>"
   ]
  },
  {
   "cell_type": "code",
   "execution_count": null,
   "metadata": {
    "id": "xxhmDXBQuPXD"
   },
   "outputs": [],
   "source": [
    "cats = ['Tom', 'Snappy', 'Kitty', 'Jessie', 'Chester']"
   ]
  },
  {
   "cell_type": "markdown",
   "metadata": {
    "id": "gy_ElQ3WuPXE"
   },
   "source": [
    "As you see, the code is exactly the same as a tuple, EXCEPT that all the values are put between square brackets, not parentheses. Again, you don't have to have spaces after the comma.\n",
    "\n",
    "You recall values from lists exactly the same as you do with tuples. For example, to print the name of your 3rd cat you would do this:"
   ]
  },
  {
   "cell_type": "code",
   "execution_count": null,
   "metadata": {
    "id": "h-_lUy-WuPXF"
   },
   "outputs": [],
   "source": [
    "print(cats[2])"
   ]
  },
  {
   "cell_type": "markdown",
   "metadata": {
    "id": "GrNn747euPXF"
   },
   "source": [
    "You can also recall a range of examples, like above, for example - `cats[0:2]` would recall your 1st and 2nd cats. Try it in the field above.\n",
    "\n",
    "Where lists come into their own is how they can be modified. To add a value to a list, you use the `append()` function. Let's say you got a new cat called Catherine. To add her to the list you'd do this:"
   ]
  },
  {
   "cell_type": "code",
   "execution_count": null,
   "metadata": {
    "id": "as-62jFduPXG"
   },
   "outputs": [],
   "source": [
    "cats.append('Catherine')"
   ]
  },
  {
   "cell_type": "markdown",
   "metadata": {
    "id": "ip4SWaOluPXG"
   },
   "source": [
    "Use the field below to check if the cat has been added to the list."
   ]
  },
  {
   "cell_type": "code",
   "execution_count": null,
   "metadata": {
    "id": "2PUGTMWGuPXH"
   },
   "outputs": [],
   "source": []
  },
  {
   "cell_type": "markdown",
   "metadata": {
    "id": "55eR9n-QuPXH"
   },
   "source": [
    "That's a little weird, isn't it? I'll explain. That function is in a funny spot - after a period `.` after the list name. You'll get to see those things more in a later lesson. For the meanwhile, this is the form of the function that adds a new value to a list:\n",
    "```Python\n",
    "#add a new value to the end of a list:\n",
    "list_name.append(value-to-add)\n",
    "\n",
    "#e.g. to add the number 5038 to the list 'numbers':\n",
    "numbers.append(5038)\n",
    "```\n",
    "\n",
    "Clears things up? Good!\n",
    "Now to a sad situation - Snappy was shot by a neighbour, and eaten for their dinner (good on 'em!). You need to remove him (or her) from the list. Removing that sorry cat is an easy task, thankfully, so you have to wallow in sadness for as short a time as possible:"
   ]
  },
  {
   "cell_type": "code",
   "execution_count": null,
   "metadata": {
    "id": "gSSjYz7zuPXI"
   },
   "outputs": [],
   "source": [
    "#Remove your 2nd cat, Snappy. Woe is you.\n",
    "del cats[1]"
   ]
  },
  {
   "cell_type": "markdown",
   "metadata": {
    "id": "xGwFdPVzuPXI"
   },
   "source": [
    "Check again which cats are in the list:"
   ]
  },
  {
   "cell_type": "code",
   "execution_count": null,
   "metadata": {
    "id": "PJIqYUAZuPXI"
   },
   "outputs": [],
   "source": []
  },
  {
   "cell_type": "markdown",
   "metadata": {
    "id": "Z78hTQSkuPXJ"
   },
   "source": [
    "You've just removed the 2nd cat in your list - poor old Snappy.\n",
    "And with that morbid message, lets move on to..."
   ]
  },
  {
   "cell_type": "markdown",
   "metadata": {
    "id": "wZu5QyqCuPXJ"
   },
   "source": [
    "### 5.3 Dictionaries\n",
    "Okay, so there is more to life than the names of your cats. You need to call your sister, mother, son, the fruit man, and anyone else who needs to know that their favourite cat is dead. For that you need a telephone book.\n",
    "\n",
    "Now, the lists we've used above aren't really suitable for a telephone book. You need to know a number based on someone's name - not the other way around, like what we did with the cats. In the examples of months and cats, we gave the computer a number, and it gave us a name. This time we want to give the computer a name, and it gives us a number. For this we need *Dictionaries*.\n",
    "\n",
    "So how do we make a dictionary? Put away your binding equipment, it isn't that advanced.\n",
    "Remember, dictionaries have keys, and values. In a phone book, you have people's names, then their numbers. See a similarity?\n",
    "\n",
    "When you initially create a dictionary, it is very much like making a tuple or list. Tuples have `(` and `)` things, lists have `[` and `]` things. Guess what! Dictionaries have `{` and `}` things - curly braces. Here is an example below, showing a dictionary with four phone numbers in it:"
   ]
  },
  {
   "cell_type": "code",
   "execution_count": null,
   "metadata": {
    "id": "TGX6QCp9uPXJ"
   },
   "outputs": [],
   "source": [
    "#Make the phone book:\n",
    "phonebook = {'Andrew Parson':8806336, \\\n",
    "'Emily Everett':6784346, 'Peter Power':7658344, \\\n",
    "'Lewis Lame':1122345}\n",
    "print(phonebook['Lewis Lame'])"
   ]
  },
  {
   "cell_type": "markdown",
   "metadata": {
    "id": "MNxZFrVKuPXK"
   },
   "source": [
    "When you run it you see that Lewis Lame's number is printed onscreen. Notice how instead of identifying the value by a number, like in the cats and months examples, we identify the value, using another value - in this case the person's name.\n",
    "\n",
    "Ok, you've created a new phone book. Now you want to add new numbers to the book. What do you do? A very simple line of code:"
   ]
  },
  {
   "cell_type": "code",
   "execution_count": null,
   "metadata": {
    "id": "ShtpMCkxuPXK"
   },
   "outputs": [],
   "source": [
    "#Add the person 'Gingerbread Man' to the phonebook:\n",
    "\n",
    "phonebook['Gingerbread Man'] = 1234567\n",
    "\n",
    "# Didn't think I would give you\n",
    "# my real number now, would I?"
   ]
  },
  {
   "cell_type": "markdown",
   "metadata": {
    "id": "mYss9FvZuPXK"
   },
   "source": [
    "All that line is saying is that there is a person called Gingerbread Man in the phone book, and his number is `1234567`. In other words - the key is `Gingerbread Man`, and the value is `1234567`."
   ]
  },
  {
   "cell_type": "markdown",
   "metadata": {
    "id": "DhOVZferuPXK"
   },
   "source": [
    "Check if it's added using the field below."
   ]
  },
  {
   "cell_type": "code",
   "execution_count": null,
   "metadata": {
    "id": "mse-cdvAuPXL"
   },
   "outputs": [],
   "source": []
  },
  {
   "cell_type": "markdown",
   "metadata": {
    "id": "vGidU43xuPXL"
   },
   "source": [
    "You delete entries in a dictionary just like in a list. Let's say Andrew Parson is your neighbour, and shot your cat. You never want to talk to him again, and therefore don't need his number. Just like in a list, you'd do this:"
   ]
  },
  {
   "cell_type": "code",
   "execution_count": null,
   "metadata": {
    "id": "PwFYicXXuPXL"
   },
   "outputs": [],
   "source": [
    "del phonebook['Andrew Parson']"
   ]
  },
  {
   "cell_type": "markdown",
   "metadata": {
    "id": "Dc-t9PIQuPXL"
   },
   "source": [
    "Again, very easy. the `del` operator deletes any function, variable, or entry in a list or dictionary (An entry in a dictionary is just a variable with a number or text string as a name. This comes in handy later on.)"
   ]
  },
  {
   "cell_type": "markdown",
   "metadata": {
    "id": "nxWoBH6IuPXL"
   },
   "source": [
    "Check if the number is gone using the field below."
   ]
  },
  {
   "cell_type": "code",
   "execution_count": null,
   "metadata": {
    "id": "oyEFejJQuPXM"
   },
   "outputs": [],
   "source": []
  },
  {
   "cell_type": "markdown",
   "metadata": {
    "id": "0jXFp17euPXM"
   },
   "source": [
    "Remember that append function that we used with the list? Well, there are quite a few of those that can be used with dictionaries. Below, I will write you a program, and it will incorporate some of those functions in. It will have comments along the way explaining what it does. Experiment as much as you like with it."
   ]
  },
  {
   "cell_type": "code",
   "execution_count": 17,
   "metadata": {
    "id": "jXxXite7uPXM"
   },
   "outputs": [
    {
     "name": "stdout",
     "output_type": "stream",
     "text": [
      "Sue is in the dictionary. She is 23 years old\n",
      "The following people are in the dictionary:\n",
      "dict_keys(['Sue', 'Peter', 'Andrew', 'Karren'])\n",
      "People are aged the following: dict_values([23, 19, 78, 45])\n",
      "dict_keys(['Sue', 'Peter', 'Andrew', 'Karren'])\n",
      "['Andrew', 'Karren', 'Peter', 'Sue']\n",
      "dict_values([23, 19, 78, 45])\n",
      "[19, 23, 45, 78]\n",
      "The dictionary has 4 entries in it\n"
     ]
    }
   ],
   "source": [
    "#A few examples of a dictionary\n",
    "\n",
    "#First we define the dictionary\n",
    "#it will have nothing in it this time\n",
    "ages = {}\n",
    "\n",
    "#Add a couple of names to the dictionary\n",
    "ages['Sue'] = 23\n",
    "ages['Peter'] = 19\n",
    "ages['Andrew'] = 78\n",
    "ages['Karren'] = 45\n",
    "\n",
    "#Use an 'if' statement to find a key in the list.\n",
    "#Remember - this is how 'if' statements work -\n",
    "#they run if something is true\n",
    "#and they don't when something is false.\n",
    "if 'Sue' in ages:\n",
    "    print(\"Sue is in the dictionary. She is\", \\\n",
    "ages['Sue'], \"years old\")\n",
    "\n",
    "else:\n",
    "    print(\"Sue is not in the dictionary\")\n",
    "\n",
    "#Use the function keys() - \n",
    "#This function returns a list\n",
    "#of all the names of the keys.\n",
    "#E.g.\n",
    "print(\"The following people are in the dictionary:\")\n",
    "print(ages.keys())\n",
    "\n",
    "#You could use this function to\n",
    "#put all the key names in a list:\n",
    "keys = ages.keys()\n",
    "\n",
    "#You can also get a list\n",
    "#of all the values in a dictionary.\n",
    "#You use the values() function:\n",
    "print(\"People are aged the following:\", \\\n",
    "ages.values())\n",
    "\n",
    "#Put it in a list:\n",
    "values = ages.values()\n",
    "\n",
    "#You can sort lists, with the sorted() function\n",
    "#It will sort all values in a list\n",
    "#alphabetically, numerically, etc...\n",
    "#You can't sort dictionaries - \n",
    "#they are in no particular order\n",
    "print(keys)\n",
    "sortedkeys = sorted(keys)\n",
    "print(sortedkeys)\n",
    "\n",
    "print(values)\n",
    "sortedvalues = sorted(values)\n",
    "print(sortedvalues)\n",
    "\n",
    "#You can find the number of entries\n",
    "#with the len() function:\n",
    "print(\"The dictionary has\", \\\n",
    "len(ages), \"entries in it\")"
   ]
  },
  {
   "cell_type": "markdown",
   "metadata": {
    "id": "AjJO2SOEuPXM"
   },
   "source": [
    "## 5.3 Conclusion\n",
    "There are many other functions you can use to work with lists and dictionaries - too many to go through right now. We'll leave the lesson at this point - you have learnt enough for one lesson."
   ]
  },
  {
   "cell_type": "markdown",
   "metadata": {
    "id": "sC5RFS8AuU1D"
   },
   "source": [
    "# 6. For Loop\n",
    "## 6.1 Introduction\n",
    "Well, in the first lesson about loops, I said I would put off teaching you the for loop, until we had reached lists. Well, here it is!\n",
    "## 6.2 The `for` Loop\n",
    "Basically, the `for` loop does something for every value in a list. The way it is set out is a little confusing, but otherwise is very basic. Here is an example of it in code:"
   ]
  },
  {
   "cell_type": "code",
   "execution_count": null,
   "metadata": {
    "id": "8lWdZW3LuU1F"
   },
   "outputs": [],
   "source": [
    "# Example 'for' loop\n",
    "# First, create a list to loop through:\n",
    "newList = [45, 'eat me', 90210, \"The day has come, the walrus said, \\\n",
    "to speak of many things\", -67]\n",
    "\n",
    "# create the loop:\n",
    "# Goes through newList, and sequentially puts each bit of information\n",
    "# into the variable value, and runs the loop\n",
    "for value in newList:\n",
    "    print(value)"
   ]
  },
  {
   "cell_type": "markdown",
   "metadata": {
    "id": "BSitdP9_uU1G"
   },
   "source": [
    "As you see, when the loop executes, it runs through all of the values in the list mentioned after `in`. It then puts them into `value`, and executes through the loop, each time with value being worth something different. Let's see it again, in a classic cheerleading call that we all know:"
   ]
  },
  {
   "cell_type": "code",
   "execution_count": null,
   "metadata": {
    "id": "SdZbdmORuU1H"
   },
   "outputs": [],
   "source": [
    "# cheerleading program\n",
    "word = input(\"Who do you go for? \")\n",
    "\n",
    "for letter in word:\n",
    "    call = \"Gimme a \" + letter + \"!\"\n",
    "    print(call)\n",
    "    print(letter + \"!\")\n",
    "\n",
    "print(\"What does that spell?\")\n",
    "print(word + \"!\")"
   ]
  },
  {
   "cell_type": "markdown",
   "metadata": {
    "id": "cciLQ1oauU1I"
   },
   "source": [
    "A couple of things you've just learnt:\n",
    "* As you see, strings (remember - strings are lines of text) are just lists with lots of characters.\n",
    "* The program went through each of the letters (or values) in word, and it printed them onscreen.<br>"
   ]
  },
  {
   "cell_type": "markdown",
   "metadata": {
    "id": "0wxPtk9KuU1J"
   },
   "source": [
    "And that is all there is to the for loop."
   ]
  },
  {
   "cell_type": "markdown",
   "metadata": {
    "id": "AEG4qTKhuU1K"
   },
   "source": [
    "## 6.3 Making a Menu Function\n",
    "Now to the business end of the lesson. Let's start writing programs. So far we have learnt variables, lists, loops, and functions. That is pretty much all we need for quite a bit of programming. So let's set ourselves a task."
   ]
  },
  {
   "cell_type": "markdown",
   "metadata": {
    "id": "S3cQR6A8uU1L"
   },
   "source": [
    "```Python\n",
    "# THE MENU FUNCTION\n",
    "# The program asks for a string with all the menu options in it,\n",
    "# and a text string asking a question.\n",
    "# make sure every menu entry is unique.\n",
    "\n",
    "def menu(list, question):\n",
    "    for entry in list:\n",
    "        print(1 + list.index(entry),end=\"\")\n",
    "        print (\") \" + entry)\n",
    "\n",
    "    return eval(input(question)) - 1\n",
    "\n",
    "# def menu(list, question): is telling the function to\n",
    "# ask for two bits of information:\n",
    "# A list of all the menu entries,\n",
    "# and the question it will ask when all the options have been printed\n",
    "\n",
    "# for entry in list: is pretty much saying;\n",
    "#'for every entry in the list, do the following:'\n",
    "\n",
    "# print list.index(entry) + 1 uses the .index() function to find\n",
    "# where in the list the entry is in. print function then prints it\n",
    "# it adds 1 to make the numbers more intelligible.\n",
    "\n",
    "# print \") \" + entry prints a bracket, and then the entry name\n",
    "\n",
    "# after the for loop is finished, eval(input(question) - 1) asks the question,\n",
    "# and returns the value to the main program (minus 1, to turn it back to\n",
    "# the number the computer will understand).\n",
    "```"
   ]
  },
  {
   "cell_type": "markdown",
   "metadata": {
    "id": "Knp_1nNRuU1M"
   },
   "source": [
    "That wasn't very difficult, was it? The actual program only took up five lines - this is the wonder of how much we have learnt so far! All my comments take up sixteen lines - more than three times the program length. It is a good idea to comment your programs extensively. Remember that if you are going to be publishing your code open-source, there are going to be a lot of people checking out the code that you have written. We'll see the function we just wrote in our first example program."
   ]
  },
  {
   "cell_type": "markdown",
   "metadata": {
    "id": "2g0-UjrHuU1N"
   },
   "source": [
    "## 6.4 Our First 'Game'\n",
    "What will our first example program be? How about a (very) simple text adventure game? Sounds like fun! It will only encompass one room of a house, and will be extremely simple. There will be five things, and a door. In one of the five things, is a key to the door. You need to find the key, then open the door. I will give a plain-english version first, then do it in Python:<br>\n",
    "```\n",
    "#Plain-english version of our 'game'\n",
    "\n",
    "Tell the computer about our menu function\n",
    "\n",
    "Print a welcoming message, showing a description of the room.\n",
    "We will give the player six things to look at: pot plant, painting,\\\n",
    " vase, lampshade, shoe, and the door\n",
    "\n",
    "Tell the computer that the door is locked\n",
    "Tell the computer where the key is\n",
    "\n",
    "present a menu, telling you what things you can 'operate':\n",
    "    It will give you the six options\n",
    "    It will ask the question \"what will you look at?\"\n",
    "\n",
    "if the user wanted to look at:\n",
    "    pot plant:\n",
    "        If the key is here, give the player the key\n",
    "        otherwise, tell them it isn't here\n",
    "    painting:\n",
    "        same as above\n",
    "    etc.\n",
    "    door:\n",
    "        If the player has the key, let them open the door\n",
    "        Otherwise, tell them to look harder\n",
    "\n",
    "Give the player a well done message, for completing the game.\n",
    "```\n",
    "<br>\n",
    "From this, we can write a real program. Ready? Here it is:"
   ]
  },
  {
   "cell_type": "code",
   "execution_count": null,
   "metadata": {
    "id": "KsOMKo9QuU1O"
   },
   "outputs": [],
   "source": [
    "# TEXT ADVENTURE GAME\n",
    "\n",
    "#the menu function:\n",
    "def menu(list, question):\n",
    "    for entry in list:\n",
    "        print(1 + list.index(entry),end=\"\")\n",
    "        print (\") \" + entry)\n",
    "\n",
    "    return eval(input(question)) - 1\n",
    "\n",
    "#Give the computer some basic information about the room:\n",
    "items = [\"pot plant\",\"painting\",\"vase\",\"lampshade\",\"shoe\",\"door\"]\n",
    "\n",
    "#The key is in the vase (or entry number 2 in the list above):\n",
    "keylocation = 2\n",
    "\n",
    "#You haven't found the key:\n",
    "keyfound = 0\n",
    "\n",
    "loop = 1\n",
    "\n",
    "#Give some introductary text:\n",
    "print(\"Last night you went to sleep in the comfort of your own home.\")\n",
    "\n",
    "print(\"Now, you find yourself locked in a room. You don't know how\")\n",
    "print(\"you got there, or what time it is. In the room you can see\")\n",
    "print(len(items), \"things:\")\n",
    "for x in items:\n",
    "    print(x)\n",
    "print(\"\")\n",
    "print(\"The door is locked. Could there be a key somewhere?\")\n",
    "#Get your menu working, and the program running until you find the key:\n",
    "while loop == 1:\n",
    "    choice = menu(items,\"What do you want to inspect? \")\n",
    "    if choice == 0:\n",
    "        if choice == keylocation:\n",
    "            print(\"You found a small key in the pot plant.\")\n",
    "\n",
    "            print(\"\")\n",
    "            keyfound = 1\n",
    "        else:\n",
    "            print(\"You found nothing in the pot plant.\")\n",
    "            print(\"\")\n",
    "    elif choice == 1:\n",
    "        if choice == keylocation:\n",
    "            print(\"You found a small key behind the painting.\")\n",
    "            print(\"\")\n",
    "\n",
    "            keyfound = 1\n",
    "        else:\n",
    "            print(\"You found nothing behind the painting.\")\n",
    "            print(\"\")\n",
    "    elif choice == 2:\n",
    "        if choice == keylocation:\n",
    "            print(\"You found a small key in the vase.\")\n",
    "            print(\"\")\n",
    "            keyfound = 1\n",
    "        else:\n",
    "            print(\"You found nothing in the vase.\")\n",
    "\n",
    "            print(\"\")\n",
    "    elif choice == 3:\n",
    "        if choice == keylocation:\n",
    "            print(\"You found a small key in the lampshade.\")\n",
    "            print(\"\")\n",
    "            keyfound = 1\n",
    "        else:\n",
    "            print(\"You found nothing in the lampshade.\")\n",
    "            print(\"\")\n",
    "\n",
    "    elif choice == 4:\n",
    "        if choice == keylocation:\n",
    "            print(\"You found a small key in the shoe.\")\n",
    "            print(\"\")\n",
    "            keyfound = 1\n",
    "        else:\n",
    "            print(\"You found nothing in the shoe.\")\n",
    "            print(\"\")\n",
    "    elif choice == 5:\n",
    "        if keyfound == 1:\n",
    "            loop = 0\n",
    "            print(\"You put in the key, turn it, and hear a click\")\n",
    "\n",
    "            print(\"\")\n",
    "        else:\n",
    "            print(\"The door is locked, you need to find a key.\")\n",
    "            print(\"\")\n",
    "\n",
    "# Remember that a backslash continues\n",
    "# the code on the next line\n",
    "print(\"Light floods into the room as \\\n",
    "you open the door to your freedom.\")\n"
   ]
  },
  {
   "cell_type": "markdown",
   "metadata": {
    "id": "wEZSpe2FuU1Q"
   },
   "source": [
    "Well, a very simple, but fun, game. Don't get daunted by the amount of code there, 53 of the lines are just the `if` statements, which is the easiest thing to read there (Once you comprehend all the indentation. Soon you'll make your own game, and you can make it as simple (or as complex) as you like. I'll post quite a few, later."
   ]
  },
  {
   "cell_type": "markdown",
   "metadata": {
    "id": "TTgzibC8uU1R"
   },
   "source": [
    "## 6.5 Making the Game Better\n",
    "The first question you should ask is \"does this program work?\". The answer here is yes. Then you should ask \"does this program work well?\" - not quite. The `menu()` function is great - it reduces a lot of typing. The `while` loop that we have, however, is a little messy - four levels of indents, for a simple program. We can do better!\n",
    "\n",
    "Now, this will become much MUCH more straightforward when we introduce classes. But that will have to wait. Until then, let's make a function that reduces our mess. It we will pass two things to it - the menu choice we made, and the location of the key. It will return one thing - whether or not the key has been found. Lets see it:\n",
    "\n",
    "```Python\n",
    "def inspect(choice,location):\n",
    "    if choice == location:\n",
    "        print(\"\")\n",
    "        print(\"You found a key!\")\n",
    "        print(\"\")\n",
    "        return 1\n",
    "    else:\n",
    "        print(\"\")\n",
    "        print(\"Nothing of interest here.\")\n",
    "        print(\"\")\n",
    "        return 0\n",
    "```\n",
    "\n",
    "\n",
    "Now the main program can be a little simpler.\n",
    "\n",
    "In the field below:\n",
    "\n",
    "1. Insert the `inspect` function\n",
    "2. Replace the `while` loop with:\n",
    "\n",
    "```Python\n",
    "while loop == 1:\n",
    "    keyfound = inspect(menu(items,\"What do you want to inspect? \"),keylocation)\n",
    "    if keyfound == 1:\n",
    "        print(\"You put the key in the lock of the door, and turn it. It opens!\")\n",
    "        loop = 0\n",
    "```"
   ]
  },
  {
   "cell_type": "code",
   "execution_count": null,
   "metadata": {
    "id": "Vagva86puU1R"
   },
   "outputs": [],
   "source": [
    "# TEXT ADVENTURE GAME\n",
    "\n",
    "#the menu function:\n",
    "def menu(list, question):\n",
    "    for entry in list:\n",
    "        print(1 + list.index(entry),end=\"\")\n",
    "        print (\") \" + entry)\n",
    "\n",
    "    return eval(input(question)) - 1\n",
    "\n",
    "#Give the computer some basic information about the room:\n",
    "items = [\"pot plant\",\"painting\",\"vase\",\"lampshade\",\"shoe\",\"door\"]\n",
    "\n",
    "#The key is in the vase (or entry number 2 in the list above):\n",
    "keylocation = 2\n",
    "\n",
    "#You haven't found the key:\n",
    "keyfound = 0\n",
    "\n",
    "loop = 1\n",
    "\n",
    "#Give some introductary text:\n",
    "print(\"Last night you went to sleep in the comfort of your own home.\")\n",
    "\n",
    "print(\"Now, you find yourself locked in a room. You don't know how\")\n",
    "print(\"you got there, or what time it is. In the room you can see\")\n",
    "print(len(items), \"things:\")\n",
    "for x in items:\n",
    "    print(x)\n",
    "print(\"\")\n",
    "print(\"The door is locked. Could there be a key somewhere?\")\n",
    "#Get your menu working, and the program running until you find the key:\n",
    "while loop == 1:\n",
    "    choice = menu(items,\"What do you want to inspect? \")\n",
    "    if choice == 0:\n",
    "        if choice == keylocation:\n",
    "            print(\"You found a small key in the pot plant.\")\n",
    "\n",
    "            print(\"\")\n",
    "            keyfound = 1\n",
    "        else:\n",
    "            print(\"You found nothing in the pot plant.\")\n",
    "            print(\"\")\n",
    "    elif choice == 1:\n",
    "        if choice == keylocation:\n",
    "            print(\"You found a small key behind the painting.\")\n",
    "            print(\"\")\n",
    "\n",
    "            keyfound = 1\n",
    "        else:\n",
    "            print(\"You found nothing behind the painting.\")\n",
    "            print(\"\")\n",
    "    elif choice == 2:\n",
    "        if choice == keylocation:\n",
    "            print(\"You found a small key in the vase.\")\n",
    "            print(\"\")\n",
    "            keyfound = 1\n",
    "        else:\n",
    "            print(\"You found nothing in the vase.\")\n",
    "\n",
    "            print(\"\")\n",
    "    elif choice == 3:\n",
    "        if choice == keylocation:\n",
    "            print(\"You found a small key in the lampshade.\")\n",
    "            print(\"\")\n",
    "            keyfound = 1\n",
    "        else:\n",
    "            print(\"You found nothing in the lampshade.\")\n",
    "            print(\"\")\n",
    "\n",
    "    elif choice == 4:\n",
    "        if choice == keylocation:\n",
    "            print(\"You found a small key in the shoe.\")\n",
    "            print(\"\")\n",
    "            keyfound = 1\n",
    "        else:\n",
    "            print(\"You found nothing in the shoe.\")\n",
    "            print(\"\")\n",
    "    elif choice == 5:\n",
    "        if keyfound == 1:\n",
    "            loop = 0\n",
    "            print(\"You put in the key, turn it, and hear a click\")\n",
    "\n",
    "            print(\"\")\n",
    "        else:\n",
    "            print(\"The door is locked, you need to find a key.\")\n",
    "            print(\"\")\n",
    "\n",
    "# Remember that a backslash continues\n",
    "# the code on the next line\n",
    "print(\"Light floods into the room as \\\n",
    "you open the door to your freedom.\")"
   ]
  },
  {
   "cell_type": "markdown",
   "metadata": {
    "id": "JmmKJmubuU1T"
   },
   "source": [
    "Now the program becomes massively shorter - from a cumbersome 83 lines, to a very shapely 50 lines! Of course, you lose quite a bit of versatility - all the items in the room do the same thing. You automatically open the door when you find the key. The game becomes a little less interesting. It also becomes a little harder to change."
   ]
  },
  {
   "cell_type": "markdown",
   "metadata": {
    "id": "EhoTaAAFuU1T"
   },
   "source": [
    "## 6.6 Conclusion\n",
    "Now I said you would write some programs now. Here is your chance! Your task, if you choose to accept it, is to post a better text adventure game. You can use any of the code I have given you here. Remember to check back on previous lessons we have done - they are priceless tools. Do a search for some simple text adventure games - if you find some nice, fun text adventure games, have a look at them."
   ]
  },
  {
   "cell_type": "markdown",
   "metadata": {
    "id": "_xXwjsjauncX"
   },
   "source": [
    "# 7. Classes\n",
    "## 7.1 Introduction\n",
    "One thing that you will get to know about programming, is that programmers like to be lazy. If something has been done before, why should you do it again?\n",
    "\n",
    "That is what functions cover in Python. You've already had your code do something special. Now you want to do it again. You put that special code into a function, and re-use it for all it is worth. You can refer to a function anywhere in your code, and the computer will always know what you are talking about. Handy, eh?\n",
    "\n",
    "Of course, functions have their limitations. Functions don't store any information like variables do - every time a function is run, it starts afresh. However, certain functions and variables are related to each other very closely, and need to interact with each other a lot. For example, imagine you have a golf club. It has information about it (i.e. variables) like the length of the shaft, the material of the grip, and the material of the head. It also has functions associated with it, like the function of swinging your golf club, or the function of breaking it in pure frustration. For those functions, you need to know the variables of the shaft length, head material, etc.\n",
    "\n",
    "That can easily be worked around with normal functions. Parameters affect the effect of a function. But what if a function needs to affect variables? What happens if each time you use your golf club, the shaft gets weaker, the grip on the handle wears away a little, you get that little more frustrated, and a new scratch is formed on the head of the club? A function cannot do that. A function only makes one output, not four or five, or five hundred. What is needed is a way to group functions and variables that are closely related into one place so that they can interact with each other.\n",
    "\n",
    "Chances are that you also have more than one golf club. Without classes, you need to write a whole heap of code for each different golf club. This is a pain, seeing that all clubs share common features, it is just that some have changed properties - like what the shaft is made of, and it's weight. The ideal situation would be to have a design of your basic golf club. Each time you create a new club, simply specify its attributes - the length of its shaft, its weight, etc.\n",
    "\n",
    "Or what if you want a golf club, which has added extra features? Maybe you decide to attach a clock to your golf club (why, I don't know - it was your idea). Does this mean that we have to create this golf club from scratch? We would have to write code first for our basic golf club, plus all of that again, and the code for the clock, for our new design. Wouldn't it be better if we were to just take our existing golf club, and then tack the code for the clock to it?\n",
    "\n",
    "These are problems that a thing called object-oriented-programming solves. It puts functions and variables together in a way that they can see each other and work together, be replicated, and altered as needed, and not when unneeded. And we use a thing called a `class` to do this.\n",
    "\n",
    "## 7.2 Creating a `Class`\n",
    "What is a class? Think of a class as a blueprint. It isn't something in itself, it simply describes how to make something. You can create lots of objects from that blueprint - known technically as an *instance*.\n",
    "\n",
    "So how do you make these so-called 'classes'? very easily, with the `class` operator:\n",
    "\n",
    "```Python\n",
    "# Defining a class\n",
    "class class_name:\n",
    "    [statement 1]\n",
    "    [statement 2]\n",
    "    [statement 3]\n",
    "    [etc]\n",
    "```\n",
    "\n",
    "Makes little sense? That's okay, here is an example, that creates the definition of a `Shape`:\n",
    "\n",
    "```Python\n",
    "#An example of a class\n",
    "class Shape:\n",
    "    def __init__(self,x,y):\n",
    "        self.x = x\n",
    "        self.y = y\n",
    "    description = \"This shape has not been described yet\"\n",
    "    author = \"Nobody has claimed to make this shape yet\"\n",
    "    def area(self):\n",
    "        return self.x * self.y\n",
    "    def perimeter(self):\n",
    "        return 2 * self.x + 2 * self.y\n",
    "    def describe(self,text):\n",
    "        self.description = text\n",
    "    def authorName(self,text):\n",
    "        self.author = text\n",
    "    def scaleSize(self,scale):\n",
    "        self.x = self.x * scale\n",
    "        self.y = self.y * scale\n",
    "```\n",
    "\n",
    "What you have created is a description of a shape (that is, the variables) and what operations you can do with the shape (that is, the fuctions). This is very important - you have not made an actual shape, simply the description of what a shape is. The shape has a width (`x`), a height (`y`), and an area and perimeter (`area(self)` and `perimeter(self)`). No code is run when you define a class - you are simply making functions and variables.\n",
    "\n",
    "The function called `__init__` is run when we create an instance of `Shape` - that is, when we create an actual shape, as opposed to the 'blueprint' we have here, `__init__` is run. You will understand how this works later.\n",
    "\n",
    "`self` is how we refer to things in the class from within itself. `self` is the first parameter in any function defined inside a class. Any function or variable created on the first level of indentation (that is, lines of code that start one TAB to the right of where we put class `Shape` is automatically put into self. To access these functions and variables elsewhere inside the class, their name must be preceeded with `self` and a full-stop (e.g. `self.variable_name`). Without `self` you can only use the variables inside the function where they are defined, not in other functions in the same `class`.\n",
    "\n",
    "## 7.3 Using a `class`\n",
    "It's all well and good that we can make a class, but how do we use one? Here is an example of what we call creating an instance of a class. Assume that the code above has already been run:\n",
    "\n",
    "```Python\n",
    "rectangle = Shape(100,45)\n",
    "```\n",
    "\n",
    "What has been done? It takes a little explaining...\n",
    "\n",
    "The `__init__` function really comes into play at this time. We create an instance of a class by first giving its name (in this case, `Shape`) and then, in brackets, the values to pass to the `__init__` function. The init function runs (using the parameters you gave it in brackets) and then spits out an instance of that class, which in this case is assigned to the name `rectangle`.\n",
    "\n",
    "Think of our class instance, `rectangle`, as a self-contained collection of variables and functions. In the same way that we used `self` to access functions and variables of the class instance from within itself, we use the name that we assigned to it now (rectangle) to access functions and variables of the class instance from outside of itself. Adding all code above, we would do this:"
   ]
  },
  {
   "cell_type": "code",
   "execution_count": null,
   "metadata": {
    "id": "aWZrc00vuncj"
   },
   "outputs": [],
   "source": [
    "class Shape:\n",
    "    def __init__(self,x,y):\n",
    "        self.x = x\n",
    "        self.y = y\n",
    "    description = \"This shape has not been described yet\"\n",
    "    author = \"Nobody has claimed to make this shape yet\"\n",
    "    def area(self):\n",
    "        return self.x * self.y\n",
    "    def perimeter(self):\n",
    "        return 2 * self.x + 2 * self.y\n",
    "    def describe(self,text):\n",
    "        self.description = text\n",
    "    def authorName(self,text):\n",
    "        self.author = text\n",
    "    def scaleSize(self,scale):\n",
    "        self.x = self.x * scale\n",
    "        self.y = self.y * scale\n",
    "    \n",
    "rectangle = Shape(100,45)\n",
    "\n",
    "#finding the area of your rectangle:\n",
    "print(rectangle.area())\n",
    "\n",
    "#finding the perimeter of your rectangle:\n",
    "print(rectangle.perimeter())\n",
    "\n",
    "#describing the rectangle\n",
    "rectangle.describe(\"A wide rectangle, more than twice\\\n",
    " as wide as it is tall\")\n",
    "\n",
    "#making the rectangle 50% smaller\n",
    "rectangle.scaleSize(0.5)\n",
    "\n",
    "#re-printing the new area of the rectangle\n",
    "print(rectangle.area())"
   ]
  },
  {
   "cell_type": "markdown",
   "metadata": {
    "id": "3YjQUDnqunco"
   },
   "source": [
    "As you see, where `self` would be used from within the class instance, its assigned name is used when outside the class. We do this to view and change the variables inside the class, and to access the functions that are there.\n",
    "\n",
    "We aren't limited to a single instance of a class - we could have as many instances as we like. I could do this:\n",
    "```Python\n",
    "longrectangle = Shape(120,10)\n",
    "fatrectangle = Shape(130,120)\n",
    "```\n",
    "\n",
    "and both `longrectangle` and `fatrectangle` have their own functions and variables contained inside them - they are totally independent of each other. There is no limit to the number of instances I could create.\n",
    "\n",
    "Experiment with a few different instances in the field above."
   ]
  },
  {
   "cell_type": "markdown",
   "metadata": {
    "id": "OkF9Xfspuncp"
   },
   "source": [
    "## 7.4 Lingo\n",
    "Object-oriented-programming has a set of lingo that is associated with it. Its about time that we have this all cleared up:\n",
    "* When we first describe a `class`, we are *defining* it (like with functions)\n",
    "* The ability to group similar functions and variables together is called *encapsulation*\n",
    "* The word `class` can be used when describing the code where the class is defined (like how a function is defined), and it can also refer to an instance of that `class` - this can get confusing, so make sure you know in which form we are talking about classes\n",
    "* A variable inside a class is known as an *Attribute*\n",
    "* A function inside a class is known as a *method*\n",
    "* A class is in the same category of things as variables, lists, dictionaries, etc. That is, they are *objects*\n",
    "* A class is known as a 'data structure' - it holds data, and the methods to process that data."
   ]
  },
  {
   "cell_type": "markdown",
   "metadata": {
    "id": "wqXLGQmyuncq"
   },
   "source": [
    "## 7.5 Inheritance\n",
    "Let's have a look back at the introduction. We know how classes group together variables and functions, known as attributes and methods, so that both the data and the code to process it is in the same spot. We can create any number of instances of that class, so that we don't have to write new code for every new object we create. But what about adding extra features to our golf club design? This is where *inheritance* comes into play.\n",
    "\n",
    "Python makes inheritance really easily. We define a new class, based on another, 'parent' class. Our new class brings everything over from the parent, and we can also add other things to it. If any new attributes or methods have the same name as an attribute or method in our parent class, it is used instead of the parent one. Remember the `Shape` class?\n",
    "\n",
    "```Python\n",
    "class Shape:\n",
    "    def __init__(self,x,y):\n",
    "        self.x = x\n",
    "        self.y = y\n",
    "    description = \"This shape has not been described yet\"\n",
    "    author = \"Nobody has claimed to make this shape yet\"\n",
    "    def area(self):\n",
    "        return self.x * self.y\n",
    "    def perimeter(self):\n",
    "        return 2 * self.x + 2 * self.y\n",
    "    def describe(self,text):\n",
    "        self.description = text\n",
    "    def authorName(self,text):\n",
    "        self.author = text\n",
    "    def scaleSize(self,scale):\n",
    "        self.x = self.x * scale\n",
    "        self.y = self.y * scale\n",
    "```\n",
    "\n",
    "If we wanted to define a new class, let's say a square, based on our previous Shape class, we would do this:\n",
    "\n",
    "```Python\n",
    "class Square(Shape):\n",
    "    def __init__(self,x):\n",
    "        self.x = x\n",
    "\t    self.y = x\n",
    "```\n",
    "\n",
    "It is just like normally defining a class, but this time we put in brackets after the name, the parent class that we inherited from. As you see, we described a square really *quickly* because of this. That's because we inherited everything from the shape class, and changed only what needed to be changed. In this case we redefined the `__init__` function of Shape so that the X and Y values are the same.<br>\n",
    "\n",
    "Let's take from what we have learnt, and create another new class, this time inherited from `Square`. It will be two squares, one immediately left of the other:\n",
    "```Python\n",
    "# The shape looks like this:\n",
    "# _________\n",
    "#|    |    |\n",
    "#|    |    |\n",
    "#|____|____|\n",
    "\n",
    "class DoubleSquare(Square):\n",
    "    def __init__(self,y):\n",
    "        self.x = 2 * y\n",
    "        self.y = y\n",
    "    def perimeter(self):\n",
    "        return 2 * self.x + 3 * self.y\n",
    "```\n",
    "\n",
    "This time, we also had to redefine the `perimeter` function, as there is a line going down the middle of the shape. Try creating an instance of this class in the field below and play around with different values. Since the `class Shape` has already been run, you can simply add only the new classes here and add define the instances."
   ]
  },
  {
   "cell_type": "code",
   "execution_count": null,
   "metadata": {
    "id": "z-PQptYounct"
   },
   "outputs": [],
   "source": [
    "class Square(Shape):\n",
    "    def __init__(self,x):\n",
    "        self.x = x\n",
    "        self.y = x\n",
    "        \n",
    "# The shape looks like this:\n",
    "# _________\n",
    "#|    |    |\n",
    "#|    |    |\n",
    "#|____|____|\n",
    "\n",
    "class DoubleSquare(Square):\n",
    "    def __init__(self,y):\n",
    "        self.x = 2 * y\n",
    "        self.y = y\n",
    "    def perimeter(self):\n",
    "        return 2 * self.x + 3 * self.y\n",
    "testsquare = Square(5)\n",
    "testdouble = DoubleSquare(6)"
   ]
  },
  {
   "cell_type": "markdown",
   "metadata": {
    "id": "-Y7_s5FPuncv"
   },
   "source": [
    "## 7.6 Pointers and Dictionaries of Classes\n",
    "Thinking back, when you say that one variable equals another, e.g. `variable2 = variable1`, the variable on the left-hand side of the equal-sign takes on the value of the variable on the right. With class instances, this happens a little differently - the name on the left becomes the class instance on the right. So in `instance2 = instance1`, `instance2` is 'pointing' to `instance1` - there are two names given to the one class instance, and you can access the class instance via either name. \n",
    "\n",
    "In other languages, you do things like this using *pointers*, however in Python this all happens behind the scenes.\n",
    "The final thing that we will cover is dictionaries of classes. Keeping in mind what we have just learnt about pointers, we can assign an instance of a class to an entry in a list or dictionary. This allows for virtually any amount of class instances to exist when our program is run. Let's have a look at the example below, and see how it describes what I am talking about:"
   ]
  },
  {
   "cell_type": "code",
   "execution_count": null,
   "metadata": {
    "id": "11HPB90Huncw"
   },
   "outputs": [],
   "source": [
    "# Again, assume the definitions on Shape,\n",
    "# Square and DoubleSquare have been run.\n",
    "# First, create a dictionary:\n",
    "dictionary = {}\n",
    "\n",
    "# Then, create some instances of classes in the dictionary:\n",
    "dictionary[\"DoubleSquare 1\"] = DoubleSquare(5)\n",
    "dictionary[\"long rectangle\"] = Shape(600,45)\n",
    "\n",
    "#You can now use them like a normal class:\n",
    "print(dictionary[\"long rectangle\"].area())\n",
    "\n",
    "dictionary[\"DoubleSquare 1\"].authorName(\"The Gingerbread Man\")\n",
    "print(dictionary[\"DoubleSquare 1\"].author)"
   ]
  },
  {
   "cell_type": "markdown",
   "metadata": {
    "id": "nwHKIjuEuncx"
   },
   "source": [
    "As you see, we simply replaced our boring old name on the left-hand side with an exciting, new, dynamic, dictionary entry. Pretty cool, eh?\n",
    "## 7.7 Conclusion\n",
    "And that is the lesson on classes! You won't believe how long it took me to write this in a clear-cut manner, and I am still not completely satisfied! I have already gone through and rewritten half of this lesson once, and if you're still confused, I'll probably go through it again. I've probably confused some of you with my own confusion on this topic, but remember - it is not something's name that is important, but what it does (this doesn't work in a social setting, believe me... ;))."
   ]
  },
  {
   "cell_type": "markdown",
   "metadata": {
    "id": "JK4bmXhdurG4"
   },
   "source": [
    "# 8. Modules\n",
    "## 8.1 Introduction\n",
    "Last lesson we covered the killer topic of Classes. As you can remember, classes are neat combinations of variables and functions in a nice, neat package. Programming lingo calls this feature encapsulation, but regardless of what it is called, it's a really cool feature for keeping things together so the code can be used in many instances in lots of places. Of course, you've got to ask, \"how do I get my classes to many places, in many programs?\". The answer is to put them into a module, to be imported into other programs."
   ]
  },
  {
   "cell_type": "markdown",
   "metadata": {
    "id": "0783HqUturG5"
   },
   "source": [
    "## 8.2 Module? What's a Module?\n",
    "A module is a Python file that (generally) has only definitions of variables, functions, and classes. For example, a module might look like this, which we store in a file `moduletest.py`:\n",
    "```Python\n",
    "### EXAMPLE PYTHON MODULE\n",
    "# Define some variables:\n",
    "numberone = 1\n",
    "ageofqueen = 78\n",
    "\n",
    "# define some functions\n",
    "def printhello():\n",
    "    print(\"hello\")\n",
    "    \n",
    "def timesfour(input):\n",
    "    print(eval(input) * 4)\n",
    "    \n",
    "# define a class\n",
    "class Piano:\n",
    "    def __init__(self):\n",
    "        self.type = input(\"What type of piano? \")\n",
    "        self.height = input(\"What height (in feet)? \")\n",
    "        self.price = input(\"How much did it cost? \")\n",
    "        self.age = input(\"How old is it (in years)? \")\n",
    "\t\n",
    "    def printdetails(self):\n",
    "        print(\"This piano is a/an \" + self.height + \" foot\", end=\" \")\n",
    "        print(self.type, \"piano, \" + self.age, \"years old and costing\\\n",
    "         \" + self.price + \" dollars.\")\n",
    "```\n",
    "\n",
    "As you see, a module looks pretty much like your normal Python program.\n",
    "\n",
    "So what do we do with a module? We `import` bits of it (or all of it) into other programs.\n",
    "\n",
    "To import all the variables, functions and classes from `moduletest.py` into another program you are writing, we use the `import` operator. For example, to import `moduletest.py` into your main program (`mainprogram.py`), you would have this:\n",
    "\n",
    "```Python\n",
    "### mainprogam.py\n",
    "### IMPORTS ANOTHER MODULE\n",
    "import moduletest\n",
    "```\n",
    "\n",
    "This assumes that the module is in the same directory as `mainprogram.py`, or is a default module that comes with Python. You leave out the `.py` at the end of the file name - it is ignored. You normally put all `import` statements at the beginning of the Python file, but technically they can be anywhere. In order to use the items in the module in your main program, you use the following:\n",
    "\n",
    "```Python\n",
    "### USING AN IMPORTED MODULE\n",
    "# Use the form modulename.itemname\n",
    "# Examples:\n",
    "print(moduletest.ageofqueen)\n",
    "cfcpiano = moduletest.Piano()\n",
    "cfcpiano.printdetails()\n",
    "```\n",
    "\n",
    "As you see, the modules that you import act very much like the classes we looked at last lesson - anything inside them must be preceded with `modulename.` for it to work."
   ]
  },
  {
   "cell_type": "markdown",
   "metadata": {
    "id": "Jgpcwy3murG7"
   },
   "source": [
    "## 8.3 More module thingummyjigs (in lack of a better title)\n",
    "Wish you could get rid of the `modulename.` part that you have to put before every item you use from a module? No? Never? Well, I'll teach it to you anyway.\n",
    "\n",
    "One way to avoid this hassle is to import only the wanted objects from the module. To do this, you use the `from` operator. You use it in the form of `from modulename import itemname`. Here is an example:\n",
    "\n",
    "```Python\n",
    "### IMPORT ITEMS DIRECTLY INTO YOUR PROGRAM\n",
    "\n",
    "# import them\n",
    "from moduletest import ageofqueen\n",
    "from moduletest import printhello\n",
    "\n",
    "# now try using them\n",
    "print(ageofqueen)\n",
    "printhello()\n",
    "```\n",
    "\n",
    "What is the point of this? Well, maybe you could use it to make your code a little more readable. If we get into heaps of modules inside modules, it could also remove that extra layer of crypticness.\n",
    "\n",
    "If you wanted to, you could import everything from a module in this way by using `from modulename import *`. Of course, this can be troublesome if there are objects in your program with the same name as some items in the module. With large modules, this can easily happen, and can cause many a headache. A better way to do this would be to import a module in the normal way (without the `from` operator) and then assign items to a local name:\n",
    "\n",
    "```Python\n",
    "### ASSIGNING ITEMS TO A LOCAL NAME\n",
    "\n",
    "# Assigning to a local name\n",
    "timesfour = moduletest.timesfour\n",
    "\n",
    "# Using the local name\n",
    "print(timesfour(565))\n",
    "```\n",
    "\n",
    "This way, you can remove some crypticness, AND have all of the items from a certain module.\n",
    "\n",
    "A final handy way to import modules is with an alias. Maybe you want to change a name because you've already used the same name for something else in your program, another module you imported uses the same name, or maybe you want to abbreviate a longer name that you use a lot. We can then use the `as` operator. That looks like this:\n",
    "\n",
    "```Python\n",
    "### IMPORT A MODULE WITH AN ALIAS\n",
    "# import module\n",
    "import moduletest as mt\n",
    "\n",
    "# use module\n",
    "print(mt.age)\n",
    "cfcpiano = mt.Piano()\n",
    "cfcpiano.printdetails()\n",
    "```\n",
    "\n",
    "## 8.4 Conclusion\n",
    "That's it! A very simple lesson, but now you can organise your programs very neatly. In fact, now it is incredibly easy to make programs that can grow in complexity without ending up with one cryptic file that is full of bugs.\n",
    "Modules are great for importing code. Next lesson, we learn about file input and output, and the saving of information inside classes, to be retrieved later. Will be great!"
   ]
  },
  {
   "cell_type": "markdown",
   "metadata": {
    "id": "8h9kWFvEut-x"
   },
   "source": [
    "# 9. File I/O\n",
    "## 9.1 Introduction\n",
    "Last lesson we learned how to load external code into our program. Without any introduction (like what I usually have), let's delve into file input and output with normal text files, and later the saving and restoring of instances of classes. (Wow, our lingo power has improved greatly!)\n",
    "## 9.2 Opening a file\n",
    "To open a text file you use, well, the `open()` function. Seems sensible. You pass certain parameters to `open()` to tell it in which way the file should be opened - `r` for read only, `w` for writing only (if there is an old file, it will be written over), `a` for appending (adding things on to the end of the file) and `r+` for both reading and writing. But less talk, let's open a file for reading (you can do this in Spyder later in the course). Open a normal text file. We will then print out what we read inside the file:\n",
    "```Python\n",
    "filename = 'C:\\\\temp\\\\readme.txt' # path to file.\\ is an escape character, so you need 2 or use / instead.\n",
    "fl = open(filename, 'r') # Open the file\n",
    "for line in fl:\n",
    "    print(line)\n",
    "fl.close() #close the file \n",
    "```\n",
    "\n",
    "A better way to write this is:\n",
    "```Python\n",
    "filename = 'C:\\\\temp\\\\readme.txt'\n",
    "with open(filename, 'r') as fl:\n",
    "    for line in fl:\n",
    "        print(line)\n",
    "```\n",
    "\n",
    "With the second method you don't have to add `fl.close`, it is automagically closed."
   ]
  },
  {
   "cell_type": "markdown",
   "metadata": {
    "id": "wboFy4cLut-0"
   },
   "source": [
    "## 9.3 Seek and You Shall Find\n",
    "If you want to print the whole file, instead of looping over the lines you can use this:\n",
    "```Python\n",
    "\n",
    "filename = 'C:\\\\temp\\\\readme.txt'\n",
    "fl = open(filename, 'r')\n",
    "print(fl.read())\n",
    "```\n",
    "\n",
    "Did you try to run `print(fl.read())` a second time? Did it fail? It likely did, and reason is because the 'cursor' has changed it's place. Cursor? What cursor? Well, a cursor that you really cannot see, but still a cursor. This invisible cursor tells the read function (and many other I/O functions) where to start from. To set where the cursor is, you use the `seek()` function. It is used in the form `seek(offset, whence)`.\n",
    "\n",
    "`whence` is optional, and determines where to seek from. If `whence` is 0, the bytes/letters are counted from the beginning. If it is 1, the bytes are counted from the current cursor position. If it is 2, then the bytes are counted from the end of the file. If nothing is put there, 0 is assumed.\n",
    "\n",
    "`offset` decribes how far from `whence` that the cursor moves. for example:\n",
    "* `fl.seek(45,0)` would move the cursor to 45 bytes/letters after the beginning of the file.\n",
    "* `fl.seek(10,1)` would move the cursor to 10 bytes/letters after the current cursor position.\n",
    "* `fl.seek(-77,2)` would move the cursor to 77 bytes/letters before the end of the file (notice the - before the 77)\n"
   ]
  },
  {
   "cell_type": "markdown",
   "metadata": {
    "id": "17qiNhKUut-1"
   },
   "source": [
    "We can use `fl.seek()` to go to any spot in the file and then try typing `print(fl.read())`. It will print from the spot you seeked to. But realise that `fl.read()` moves the cursor to the end of the file - you will have to seek again.\n",
    "\n",
    "## 9.4 Other I/O Functions\n",
    "There are many other functions that help you with dealing with files. They have many uses that empower you to do more, and make the things you can do easier. Let's have a look at `tell()`, `readline()`, `readlines()`, `write()` and `close()`.\n",
    "\n",
    "`tell()` returns where the cursor is in the file. It has no parameters, just type it in (like what the example below will show). This is infinitely useful, for knowing what you are referring to, where it is, and simple control of the cursor. To use it, type `fileobjectname.tell()` - where fileobjectname is the name of the file object you created when you opened the file (in `openfile = open('pathtofile', 'r')` the file object name is `openfile`).\n",
    "\n",
    "`readline()` reads from where the cursor is till the end of the line. Remember that the end of the line isn't the edge of your screen - the line ends when you press enter to create a new line. This is useful for things like reading a log of events, or going through something progressively to process it. There are no parameters you have to pass to `readline()`, though you can optionally tell it the maximum number of bytes/letters to read by putting a number in the brackets. Use it with `fileobjectname.readline()`.<br>\n",
    "\n",
    "`readlines()` is much like `readline()`, however `readlines()` reads all the lines from the cursor onwards, and returns a list, with each list element holding a line of code. Use it with `fileobjectname.readlines()`. For example, if you had the text file:\n",
    "```\n",
    "Line 1\n",
    "\n",
    "Line 3\n",
    "Line 4\n",
    "\n",
    "Line 6\n",
    "```\n",
    "then the returned list from `readlines()` would be:<br>\n",
    "\n",
    "| Index | Value |\n",
    "| :--: | :--: |\n",
    "| 0 | 'Line 1' |\n",
    "| 1 | \" |\n",
    "| 2 | 'Line 3' |\n",
    "| 3 | 'Line 4' |\n",
    "| 4 | \" |\n",
    "| 5 | 'Line 6' |\n",
    "\n",
    "The `write()` function, writes to the file. How did you guess??? It writes from where the cursor is, and overwrites text in front of it - like in MS Word, where you press 'insert' and it writes over the top of old text. To utilise this most purposeful function, put a string between the brackets to write e.g. `fileobjectname.write('this is a string')`.\n",
    "\n",
    "`close`, you may figure, closes the file so that you can no longer read or write to it until you reopen in again. Simple enough. To use, you would write `fileobjectname.close()`. Simple!\n",
    "\n",
    "Later in the course you can try this in the Python command line. Open up a test file (or create a new one...) and play around with these functions. You can do some simple (and very inconvenient) text editing."
   ]
  },
  {
   "cell_type": "markdown",
   "metadata": {
    "id": "UPj8ZUAXut-3"
   },
   "source": [
    "## 9.5 Mmm, Pickles\n",
    "Pickles, in Python, are to be eaten. Their flavour is just too good to let programmers leave them in the fridge.\n",
    "\n",
    "Ok, just joking there. Pickles, in Python, are objects saved to a file. An object in this case could be a variable, instance of a class, or a list, dictionary, or tuple. Other things can also be pickled, but with limits. The object can then be restored, or unpickled, later on. In other words, you are 'saving' your objects.\n",
    "\n",
    "So how do we pickle? With the `dump()` function, which is inside the pickle module - so at the beginning of your program you will have to write `import pickle`. Simple enough? Then open an empty file, and use `pickle.dump()` to drop the object into that file. Let's try that:\n",
    "\n",
    "```Python\n",
    "### pickletest.py\n",
    "### PICKLE AN OBJECT\n",
    "\n",
    "# import the pickle module\n",
    "import pickle\n",
    "\n",
    "# lets create something to be pickled\n",
    "# How about a list?\n",
    "picklelist = ['one',2,'three','four',5,'can you count?']\n",
    "\n",
    "# now create a file\n",
    "# replace filename with the file you want to create\n",
    "# wb means that it's written in a binary file\n",
    "file = open('filename', 'wb')\n",
    "\n",
    "# now let's pickle picklelist\n",
    "pickle.dump(picklelist,file)\n",
    "\n",
    "# close the file, and your pickling is complete\n",
    "file.close()\n",
    "```\n",
    "\n",
    "The code to do this is laid out like `pickle.dump(object_to_pickle, file_object)` where:\n",
    "* `object_to_pickle` is the object you want to pickle (i.e. save it to file)\n",
    "* `file_object` is the file object you want to write to (in this case, the file object is `file`)"
   ]
  },
  {
   "cell_type": "markdown",
   "metadata": {
    "id": "ATws4Y6Eut-4"
   },
   "source": [
    "Now to re-open, or unpickle, your file we would use `pickle.load()`:<br>\n",
    "```Python\n",
    "### unpickletest.py\n",
    "### unpickle file\n",
    "\n",
    "# import the pickle module\n",
    "import pickle\n",
    "\n",
    "# now open a file for reading\n",
    "# replace filename with the path to the file you created in pickletest.py\n",
    "unpicklefile = open('filename', 'rb')\n",
    "\n",
    "# now load the list that we pickled into a new object\n",
    "unpickledlist = pickle.load(unpicklefile)\n",
    "\n",
    "# close the file, just for safety\n",
    "unpicklefile.close()\n",
    "\n",
    "# Try out using the list\n",
    "for item in unpickledlist:\n",
    "    print(item)\n",
    "```\n",
    "Nifty, eh?<br>\n",
    "\n",
    "Of course, the limitation above is that we can only put in one object to a file. We could get around this by putting lots of picklable objects in a list or dictionary, and then pickling that list or dictionary. This is the quickest and easiest way, but you can do some pretty advanced stuff if you have advanced knowledge of pickle.<br>\n",
    "    \n",
    "Which we won't cover."
   ]
  },
  {
   "cell_type": "markdown",
   "id": "fresh-installation",
   "metadata": {},
   "source": [
    "### Object Oriented Programming:\n",
    "- #### OOP is a paradigm(Pattern) that allow us to think and structure our code in a way that is easy to  maintain our code and also be organized at the same time as we write long and huge code. Say, we are programming a delivery drone, we break it into small pieces which relates to real world so that I can write code for its propellers and someone else can write code for camera and GPS and so on. Say, if we try to program a delivery bike we can use the same code for camera and  GPS that we have used for the drone and just write code for wheels. \n",
    "- #### Everything in python is an object. Objects have methods and arguments which we can access by with a dot( .some_attribute). By using OOP we can create our own datatype with different attributes and methods (A function inside a class is called a method)\n",
    "\n",
    "#### A class can be created by using a class keyword i.e class ClassName:  \n",
    "```python\n",
    "class ClassName:       # Class \n",
    "    pass               # Code\n",
    "object1 = ClassName()  # ()-instantiating a class    object1-an instance or object\n",
    "print(type(object1))\n",
    "```\n",
    "\n",
    "In OOP we have an idea of class and object. Class is the blueprint of what we wanna create, what are the basic attributes(Properties) and methods(action) that a class can take. From this blueprint we can create objects. Technically we say a class is instantiated to create an instance of a class i.e an object\n",
    "\n",
    "Lets start our OOP journey with an example. Lets say we are creating a game.\n",
    "```python\n",
    "class PlayerCharacter:    \n",
    "    def __init__(self, charName, charAge):\n",
    "        self.name = charName\n",
    "        self.age = charAge\n",
    "    def run(self):\n",
    "        print('run')\n",
    "    membership = True  #Class object attribute\n",
    "    @classmethod\n",
    "    def shout(cls):\n",
    "        print('shout')\n",
    "player1 = PlayerCharacter('Nixon',10)     #Instantiating\n",
    "player2 = PlayerCharacter('Reuel',20)\n",
    "print(player1.name)                 # (player1 or 2)  (.name or .age)\n",
    "player1.run()                       # or player2.run()\n",
    "print(PlayerCharacter.membership)   # or print(player1(or 2).membership)\n",
    "PlayerCharacter.shout()             # or player1(or 2).shout()\n",
    "```\n",
    "\n",
    "\n",
    "\n",
    "#### \\_\\_init__ Method:\n",
    "- It is also called a constructor function. Every class contains an **init** method. While we instantiate a class this **init** method gets run first. \n",
    "\n",
    "#### Self keyword:\n",
    "- Self allows us to code dynamically i.e It helps us to have a reference to an object that hasn't been created yet(i.e player1 and player2). So, we can say objName.some_attribute = aVariable so while we print objName.some_attribute, aVariable gets printed out.\n",
    "\n",
    "#### Class Object Attribute:\n",
    "- Some attributes contain __'self.'__ before them. So they are dynamic. But class object attribute is static so when you print objName.classObjAttr, for all objects it just prints the same result.\n",
    "\n",
    "#### @classmethod:\n",
    "- It is similar to the class object attribute but for method i.e unlike other methods it is static and for whatever objName we use, it gives the same output. Here, the cls argument just refers to the class name. And there is also @staticmethod which is pretty similar to @classmethod but it does not take in the cls argument\n",
    "\n",
    "### The 4 Pillars of OOP:\n",
    "1. #### Encapsulation\n",
    "    - Encapsulation in Python is the process of wrapping up variables and methods into a single entity.In programming, a class is an example that wraps all the variables and methods defined inside it.\n",
    "    - In the real world, consider your college as an example. Each and every department's student records are restricted only within the respective department. CSE department faculty cannot access the ECE department student record and so on. Here, the department acts as the class and student records act like variables and methods. \n",
    "    - #### Why Do We Need Encapsulation?\n",
    "         Encapsulation acts as a protective layer by ensuring that, access to wrapped data is not possible by any code defined outside the class in which the wrapped data are defined. Encapsulation provides security by hiding the data from the outside world.\n",
    "\n",
    "2. #### Abstraction\n",
    "    - Abstraction is the process of hiding the real implementation of an application from the user and emphasizing only on usage of it.\n",
    "    -  For example, consider you have bought a new electronic gadget. Along with the gadget, you get a user guide, instructing how to use the application, but this user guide has no info regarding the internal working of the gadget.\n",
    "    - #### Why Do We Need Abstraction?\n",
    "        Through the process of abstraction in Python, a programmer can hide all the irrelevant data/process of an application in order to reduce complexity and increase efficiency.\n",
    "\n",
    "3. #### Inheritance\n",
    "    - Inheritance is the capability of one class to derive or inherit the properties from another class.\n",
    "    - The class which inherits all the properties is called a child or derived class. And the class from which the properties are being derived is called parent or base class.\n",
    "    - #### Why Do We Need Inheritance?\n",
    "        It represents real-world relationships well.\n",
    "        It provides reusability of a code. We don’t have to write the same code again and again. Also, it allows us to add more features to a class without modifying it.\n",
    "        It is transitive in nature, which means that if class B inherits from another class A, then all the subclasses of B would automatically inherit from class A.\n",
    "```python\n",
    "class Class1:\n",
    "    def test(self):\n",
    "        return 'Yes'\n",
    "class Class2(Class1):\n",
    "    pass\n",
    "obj1 = Class1()\n",
    "print(obj1.test())\n",
    "```\n",
    "\n",
    "4. #### Polymorphism\n",
    "    - In general, polymorphism refers to the ability of a real-time object to represent itself in many forms.\n",
    "    - Consider yourself as a real-time example. When you are at college, you act as a student. When are at your home, you act like a child. You are a single person, but you represent yourself differently in different places.\n",
    "    - Similarly in the OOPs concept, polymorphism refers to the ability of a method to process objects differently depending on their data type or class.\n",
    "    - #### Why Do We Need Polymorphism?\n",
    "        Polymorphism is used in Python programs when you have commonly named methods in two or more classes or subclasses. It allows these methods to use objects of different types at different times. So, it provides flexibility, using which a code can be extended and easily maintained over time.\n",
    "\n",
    "    \n",
    "\n",
    "#### Fun fact: \n",
    "- In python every class we create will inherit a main class called as 'object'. Have you ever noticed that when we instantiate a class and then we type 'objName.', we will get some suggestions(some dunder methods) that we haven't yet created. Those methods are the methods that we have inherited from the 'object' class. Wondering what is dunder method...haha\n",
    "\n",
    "#### Dunder (or) Magic Methods: \n",
    "- Dunder or magic methods in Python are the methods having two prefix and suffix underscores in the method name. Dunder here means “Double Under (Underscores)”. These  are commonly used for operator overloading. Few examples for magic methods are:  \\_\\_init__ , \\_\\_add__ , \\_\\_len__ , \\_\\_repr__ etc.\n",
    "- We can customize these dunder methods to our own needs. How could we do that? Just by creating a method using the name of the dunder methods just as we did with the \\_\\_init__ method. Customizing them also gives us an advantage of using it also as a function .We would have come across the 'len' function for strings. It is just a \\_\\_len__ method that the python developers added in the class str and modified it such that it showed the length of the string. Similarly while we are creating a class we can alse use these dunder methods to our advantage.\n",
    "\n",
    "#### Tips: \n",
    "- \\_\\_call__ is a special dunder method(not actually) that we can modify in our class. Say if we have modified it to print 'hi'. Then when we instantiate that class and execute objName() just as we call a function, we would get the output as 'hi'"
   ]
  },
  {
   "cell_type": "markdown",
   "id": "boolean-basis",
   "metadata": {},
   "source": [
    "### Functional Programming: \n",
    "#### Functional programming is a programming paradigm in which we try to bind everything in pure mathematical functions style. It is a declarative type of programming style. Its main focus is on “what to solve” in contrast to an imperative style where the main focus is “how to solve“. It uses expressions instead of statements. An expression is evaluated to produce a value whereas a statement is executed to assign variables.\n",
    "#### Pure Variables:\n",
    "- There are 2 rules for a function to be pure:\n",
    "    1. When given the same input, it always gives same output.\n",
    "    2. It should not affect the outer world i.e say when print someting inside a function, it affects the outside world so instead we should return the value and print it outside a function.\n",
    "- When we have pure functions, we will have les buggy code\n",
    "- Pure functions is more of a guideline than an rule. It is impossible to have pure functions everywhere because if the function could not interact with the outside world we wouldn't be able to display and save things. Functional programming teaches us to use it whenever possible but not everywhere.\n",
    "\n",
    "\n",
    "#### Some useful functions:\n",
    "   - #### map():\n",
    "        - map() function returns a map object(which is an iterator) of the results after applying the given function to each item of a given iterable (list, tuple etc.)\n",
    "        - Lets say we want the map function to multiply all the elements in the list we pass to it and return them in list form itself.\n",
    "        - In the map function there are two arguments. The first one is the action i.e the function and the second one is the iterable that we take action on.\n",
    "        - While we use map, it creates an object a random location in our machine so we are converting it into a list and printing it to get a desired output.\n",
    "        - map function also acknowledges the idea of pure function i.e it doesn't modify the variable 'list1' itself but just creates a new object and stores the results.\n",
    "         ```python\n",
    "    list1 = [1,2,3]\n",
    "def twice(item):\n",
    "    return item*2\n",
    "print(list(map(twice, list1)))\n",
    "```\n",
    "\n",
    "\n",
    "\n",
    "   - #### filter():\n",
    "        - As the name suggests, when we use filter() we are just filtering our results. Now lets see how we can use the filter function to shrink our code.\n",
    "        - In this function too there are two arguments. The first one is the action i.e the function and the second one is the iterable that we take action on.\n",
    "         ```python\n",
    "list1 = [1,2,3,4,5]\n",
    "def onlyOdd(item):\n",
    "    return item%2 != 0\n",
    "print(list(filter(onlyOdd,list1)))\n",
    "```\n",
    "\n",
    "\n",
    "\n",
    "   - #### zip():\n",
    "        - The zip function zips two or more iterables togeather.Pretty self explanatory right. An example makes it much more clear so lets see one.\n",
    "        - In the below example the zip function puts togeather the respective elements of the two iterables passed to it into a list of tuples.\n",
    "        ```python\n",
    "list1 = [1,2,3,4]\n",
    "list2 = [5,6,7,8]\n",
    "print(list(zip(list1, list2)))\n",
    "```\n",
    "\n",
    "\n",
    "\n",
    "   - #### reduce():\n",
    "        - Reduce doesn't come as a part of python built in functions. For us to use reduce we should import reduce from functools\n",
    "        - It takes 3 parameters. The first one is the function and the second one is a sequence and the third is an initial value that defaults to zero if we leave it empty\n",
    "        - Before that we should create a function that takes 2 parameters. The first one is the accumulator that gets its value from the third parameter in the reduce function and the second one is the item from the iterable we are using. If we dont pass an initial value in the reduce function, the accumulator will be initially zero. After the first iteration the accumulator takes the value of what we return in the accum function below. When the iteration through the whole list is finished, the reduce function will return the value which the accum function returns.\n",
    "         ```python\n",
    "from functools import reduce\n",
    "list1 = [1,2,3,4]\n",
    "def accum(acc, item):\n",
    "    print(acc, item)   # This line is just to see what we are doing \n",
    "    return acc + item\n",
    "print(reduce(accum, list1)) \n",
    "```\n",
    "\n",
    "\n",
    "\n",
    "**NOTE**: All the functions mentioned above also acknowledges the idea of pure function i.e it doesn't modify the variable itself but just creates a new object and stores the results in it.\n",
    "\n",
    "#### Lambda expressions:\n",
    "- In Python, an anonymous function means that a function is without a name. As we already know that the def keyword is used to define a normal function in Python. Similarly, the lambda keyword is used to define an anonymous function in Python. It has the following syntax: \n",
    "```python\n",
    "lambda parameters: expression(the content of the function)\n",
    "```\n",
    "- Where are they used? Say, now we are using the filter function, instead of defining a function that returns a boolean value and passing the function to it, we can directly pass a lambda function to the filter function.\n",
    "\n",
    "#### Comprension:\n",
    "- #### List comprehension:\n",
    "     - One of the most distinctive aspects of the language is the python list and the list compression feature, which one can use within a single line of code to construct powerful functionality.\n",
    "\n",
    "     - List comprehensions are used for creating new lists from other iterables like tuples, strings, arrays, lists, etc.\n",
    "     - The syntax of the list comprehension is as follows\n",
    "     ```python\n",
    "          list1 = [logic for parameter in iterable if condition]\n",
    "      ```\n",
    "     - Lets create a list using comprehension which contains the odd numbers in range 1 - 100 multiplied by 2\n",
    "     ```python\n",
    "          list1 = [i*2 for i in range(101) if i%2 != 0]\n",
    "      ```\n",
    "- #### Set comprehension:\n",
    "     - Set comprehensions are pretty similar to list comprehensions. The only difference between them is that set comprehensions use curly brackets { }. \n",
    "     - As we all know we cant have repeated value in sets.\n",
    "     - Let’s look at the following example to understand set comprehensions.\n",
    "     ```python\n",
    "list1 = [1, 2, 3, 4, 4, 5, 6, 7, 7]\n",
    "list2 = (var for var in list1 if var % 2 == 0)\n",
    "print(list2)\n",
    "```\n",
    "     \n",
    "- #### Dictionary comprehension:\n",
    "     - Like List Comprehension, Python allows dictionary comprehensions. We can create dictionaries using simple expressions.\n",
    "     - A dictionary comprehension takes the form \n",
    "     ```python\n",
    "        {key: value for (key, value) in iterable}\n",
    "    ```\n",
    "\n",
    "     - Let’s see a example. Lets multiply the values in the dictionary by 2.\n",
    "     ```python\n",
    "    myDict = {'a':1, 'b':2, 'c':3, 'd':4}\n",
    "    newDict = {k:v*2 for k,v in myDict.items()}\n",
    "    print(newDict)\n",
    "\n",
    "\n",
    "#### Fun lil exercise:\n",
    "- We just need to create a list which contains the duplicate elements in the list that we give \n",
    "```python\n",
    "list1 = [1,2,3,4,1,2]\n",
    "duplicates = {i for i in list1 if list1.count(i)>1 }\n",
    "print(list(duplicates))\n",
    "```\n"
   ]
  },
  {
   "cell_type": "markdown",
   "id": "indie-healing",
   "metadata": {},
   "source": [
    "### Decorators:\n",
    "- Decorators are very powerful and useful tool in Python since it allows programmers to modify the behavior of function or class. Decorators allow us to wrap another function in order to extend the behavior of the wrapped function, without permanently modifying it. But before diving deep into decorators let us understand some concepts that will come in handy in learning the decorators.\n",
    "\n",
    "- #### First Class Objects\n",
    "    - In Python, functions are first class objects that means that functions in Python can be used or passed as arguments.\n",
    "\n",
    "    - Properties of first class functions:\n",
    "        - A function is an instance of the Object type.\n",
    "        - You can store the function in a variable.\n",
    "        - You can pass the function as a parameter to another function.\n",
    "        - You can return the function from a function.\n",
    "        - You can store them in data structures such as hash tables, lists, …\n",
    "    - Consider the below examples for better understanding.\n",
    "        - Example 1: Treating the functions as objects.\n",
    "```python\n",
    "def hello():\n",
    "          print('Hello')\n",
    "greet = hello\n",
    "greet()\n",
    "```\n",
    "        - Example 2: Passing function as argument\n",
    "```python\n",
    "def hello():\n",
    "          print('Hello')\n",
    "def greet(function):\n",
    "          function()\n",
    "greet(hello)\n",
    "```\n",
    "        - Example 3: Returning functions from another functions.\n",
    "```python\n",
    "def create_adder(x):\n",
    "        def adder(y): \n",
    "            return x+y \n",
    "        return adder \n",
    "add_15 = create_adder(15) \n",
    "print(add_15(10)) \n",
    "```\n",
    "\n",
    "- #### Higher order functions(HOF):\n",
    "- A function that accepts another function as an argument or returns another function is an HOF\n",
    "\n",
    "- #### How to create and use a decorator? Lets see\n",
    "    ```python\n",
    "    def main(func):\n",
    "        def wrapper():\n",
    "            print('*****')\n",
    "            func\n",
    "            print('*****')\n",
    "    @main \n",
    "    def hello():\n",
    "        print('Hello')\n",
    "    hello()\n",
    "    ```\n",
    "\n",
    "    - Without using decorator we can do:  mydecorator(hello)()\n",
    "    - But the parnthesis makes it look pretty confusing right. That's why we use decorators\n",
    "        \n",
    "#### Uses of decorators:\n",
    "- Lets say we are scripting a performance decorator to know how much time a function takes to run.\n",
    "```python\n",
    "from time import time\n",
    "def performance(func):\n",
    "    def wrapper():\n",
    "        t1 = time()\n",
    "        func()\n",
    "        t2 = time()\n",
    "    print(f'The time took to run {func} is {t2 - t1} sec')\n",
    "@performance\n",
    "def longTime():\n",
    "    for i in range(100000000):\n",
    "        return i\n",
    "longTime()\n",
    "```"
   ]
  },
  {
   "cell_type": "markdown",
   "id": "tested-blind",
   "metadata": {},
   "source": [
    "### Python Exception Handling:\n",
    "- Error in Python can be of two types i.e. Syntax errors and Exceptions. Errors are the problems in a program due to which the program will stop the execution. On the other hand, exceptions are raised when some internal events occur which changes the normal flow of the program. \n",
    "    - **Syntax Error**: As the name suggests this error is caused by the wrong syntax in the code. It leads to the termination of the program.\n",
    "    - **Exceptions**: Exceptions are raised when the program is syntactically correct, but the code resulted in an error. This error does not stop the execution of the program, however, it changes the normal flow of the program. \n",
    "\n",
    "#### Exception Handling:\n",
    "- When an error occurs, or exception as we call it, Python will normally stop and generate an error message. These exceptions can be handled using the try statement.\n",
    "- Lets understand it through an example\n",
    "```python\n",
    "try:\n",
    "      print(x)\n",
    "except:\n",
    "      print(\"An exception occurred\")\n",
    "```\n",
    "The try block will generate an exception, because x is not defined. Since the try block raises an error, the except block will be executed. Without the try block, the program will crash and raise an error.\n",
    "\n",
    "- Lets see another example\n",
    "```python\n",
    "while True:\n",
    "    try:\n",
    "        age = int(input('Enter your age: '))\n",
    "        100/age\n",
    "    except ValueError:\n",
    "        print('Enter a valid information')\n",
    "    except ZeroDivisionError:\n",
    "        print('You are probably not zero')\n",
    "    else:\n",
    "        print('Thank you!')\n",
    "        break\n",
    "    finally:\n",
    "        print('This line is due to finally')\n",
    "```\n",
    "- #### Analysis:\n",
    "    - We want to run the code until the user gives a correct input, so we are using while loop to do that.\n",
    "    - The main logic is in the try block and we are getting an integer as an input. \n",
    "    - Now if we give input as abcde, it would give an output saying that 'Enter a valid information'. We don't want the user to be 0 yr old right, so we are including some number/ input in try block. Now if we give the input as 0, it would give an output saying that 'You are probably not zero'. \n",
    "    - We are having the else block with break in it to break out of the while loop as soon as we enter correct information. \n",
    "    - Finally is a special block because the code in it gets executed irrelevent of the input we give. Either we give a valid or an invalid input, it gets executed. Even though if we have the break statement in the else block which is above it, 'finally' gets executed and then, it breaks out of the loop. "
   ]
  },
  {
   "cell_type": "code",
   "execution_count": null,
   "id": "alpine-electric",
   "metadata": {},
   "outputs": [],
   "source": []
  },
  {
   "cell_type": "code",
   "execution_count": null,
   "metadata": {},
   "outputs": [],
   "source": []
  }
 ],
 "metadata": {
  "colab": {
   "name": "PythonIntroCh1.ipynb",
   "provenance": []
  },
  "kernelspec": {
   "display_name": "Python 3 (ipykernel)",
   "language": "python",
   "name": "python3"
  },
  "language_info": {
   "codemirror_mode": {
    "name": "ipython",
    "version": 3
   },
   "file_extension": ".py",
   "mimetype": "text/x-python",
   "name": "python",
   "nbconvert_exporter": "python",
   "pygments_lexer": "ipython3",
   "version": "3.9.2"
  }
 },
 "nbformat": 4,
 "nbformat_minor": 1
}
